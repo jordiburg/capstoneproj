{
 "cells": [
  {
   "cell_type": "code",
   "execution_count": 3,
   "metadata": {},
   "outputs": [
    {
     "data": {
      "text/html": [
       "\n",
       "<style type=\"text/css\">\n",
       "/* Global styles */\n",
       " .rendered_html p, .rendered_html li, .rendered_html h1, .rendered_html h2, .rendered_html h3, .rendered_html h4, .rendered_html h5, .rendered_html h6 {\n",
       "        font-size: 20px;\n",
       "    }\n",
       "html, body, p, h6 {\n",
       "  margin: 0;\n",
       "  padding: 0;\n",
       "  background-color: black;\n",
       "  font-family: 'Georgia', Arial, sans-serif;\n",
       "  font-size: 30px;\n",
       "  line-height: 2;\n",
       "  color: white;\n",
       "} \n",
       " </style>"
      ],
      "text/plain": [
       "<IPython.core.display.HTML object>"
      ]
     },
     "execution_count": 3,
     "metadata": {},
     "output_type": "execute_result"
    }
   ],
   "source": [
    "from IPython.core.display import HTML\n",
    "def css_styling():\n",
    "    styles = open(\"custom.css\", \"r\").read()\n",
    "    return HTML(styles)\n",
    "css_styling()"
   ]
  },
  {
   "attachments": {},
   "cell_type": "markdown",
   "metadata": {},
   "source": [
    "# Capstone Project Instructions\n",
    "\n",
    "## Objective\n",
    "The objective of this capstone project is to apply data-driven solutions to a real-world problem. Students will work in groups to develop a comprehensive project deliverable, including a Statement of Work (SOW), a report outlining their data-driven solution, presentation slides, and a final presentation.\n",
    "\n",
    "## Group Formation\n",
    "1. Each student should form a group consisting of [insert number of members] members.\n",
    "2. Groups can be formed based on shared interests, complementary skills, or assigned by the instructor.\n",
    "\n",
    "## Project Deliverables\n",
    "1. **Statement of Work (SOW):**\n",
    "   - The SOW should clearly define the problem statement, project goals, objectives, and deliverables.\n",
    "   - It should outline the scope of work, including data sources, tools, and techniques that will be used.\n",
    "   - The SOW should also provide a timeline with key milestones and deadlines.\n",
    "   \n",
    "2. **Data-Driven Solution Report:**\n",
    "   - The report should present the group's approach to solving the problem.\n",
    "   - It should include a thorough analysis of the data, data preprocessing steps, and any models or algorithms used.\n",
    "   - Results and findings should be clearly documented, along with any limitations or challenges encountered.\n",
    "   - The report should demonstrate the effectiveness and potential impact of the data-driven solution.\n",
    "   \n",
    "3. **Presentation Slides:**\n",
    "   - Each group should create visually appealing and informative presentation slides.\n",
    "   - Slides should provide an overview of the project, including the problem statement, methodology, results, and conclusions.\n",
    "   - Visualizations, charts, and graphs can be used to enhance the presentation.\n",
    "   \n",
    "4. **Final Presentation:**\n",
    "   - On the last day of the project, each group will deliver a presentation summarizing their work.\n",
    "   - Presentations should be clear, concise, and engaging, lasting approximately [insert duration] minutes per group.\n",
    "   - All group members should actively participate in the presentation.\n",
    "   - The presentation should cover the key aspects of the project, highlighting the data-driven solution and its impact.\n",
    "   \n",
    "## Evaluation Criteria\n",
    "Projects will be evaluated based on the following criteria:\n",
    "- Clarity and completeness of the SOW.\n",
    "- Depth and quality of the data-driven solution report.\n",
    "- Effectiveness and creativity of the presentation slides.\n",
    "- Coherence and professionalism of the final presentation.\n",
    "  \n",
    "\n"
   ]
  },
  {
   "attachments": {},
   "cell_type": "markdown",
   "metadata": {
    "jp-MarkdownHeadingCollapsed": true
   },
   "source": [
    "# Capstone Project: Fine Foods Reviews Analysis and Sentiment Classification\n",
    "\n",
    "## Project Description\n",
    "\n",
    "The Fine Foods Reviews Analysis and Sentiment Classification project aims to analyze the Amazon Fine Food Reviews dataset, which consists of reviews for fine foods from Amazon. The project focuses on exploring the dataset, performing sentiment analysis, and building a machine learning model for sentiment classification. By working on this project, students will gain practical experience in data preprocessing, exploratory analysis, visualization, natural language processing, deep learning, parameter tuning, and Azure ML.\n",
    "\n",
    "## Dataset\n",
    "\n",
    "- Amazon Fine Food Reviews dataset\n",
    "- Number of reviews: 568,454\n",
    "- Number of users: 256,059\n",
    "- Number of products: 74,258\n",
    "- Timespan: Oct 1999 - Oct 2012\n",
    "- Number of Attributes/Columns in data: 10\n",
    "\n",
    "\n",
    "## Business Questions\n",
    "\n",
    "There are many business questions can be answered by analyzing this dataset. Assume that our clients wants to get the answer to the following questions and potential data-driven approach to answer the questions:\n",
    "\n",
    "- **Question**: How do customers feel about our products and brands?\n",
    "   - **Answer**: Customer sentiment analysis provides insights into areas of improvement or customer satisfaction.\n",
    "\n",
    "- **Question**: Can we predict how customers will rate our products based on their reviews?\n",
    "   - **Answer**: Review rating prediction provides insights into customer preferences and helps assess product performance.\n",
    "\n",
    "- **Question**: How can we identify emerging trends in customer opinions and forecast future preferences?\n",
    "   - **Answer**: Trend analysis and forecasting help understand changes in customer preferences and anticipate future trends.\n",
    "\n",
    "In this project, we will be working on the above quesitons answering the business problems. \n",
    "\n",
    "## Common Project Tasks for Students\n",
    "\n",
    "1. **Data Preprocessing:**\n",
    "   - Clean the dataset by handling missing values, duplicates, outliers, and irrelevant columns.\n",
    "   - Perform text preprocessing techniques such as tokenization, lowercasing, and removing stop words and punctuation.\n",
    "\n",
    "2. **Exploratory Data Analysis:**\n",
    "   - Use pandas to explore the dataset, understanding its structure, data types, and statistical properties.\n",
    "   - Visualize the distribution of ratings, helpfulness, and other relevant attributes using appropriate plots and charts.\n",
    "\n",
    "3. **Sentiment Analysis:**\n",
    "   - Perform sentiment analysis on the review text using natural language processing techniques.\n",
    "   - Apply sentiment classification algorithms to classify reviews into positive, negative, or neutral sentiments.\n",
    "   - Evaluate the performance of the sentiment classification model using appropriate evaluation metrics.\n",
    "\n",
    "4. **Deep Learning with TensorFlow/Keras:**\n",
    "   - Introduce deep learning concepts and architectures, such as neural networks and deep neural networks.\n",
    "   - Implement deep learning models using TensorFlow or Keras.\n",
    "   - Train and evaluate deep learning models for sentiment analysis using the preprocessed dataset.\n",
    "\n",
    "5. **Parameter Tuning:**\n",
    "   - Explore hyperparameter tuning techniques to optimize the performance of the deep learning models.\n",
    "   - Utilize methods like grid search or random search to find the best hyperparameters.\n",
    "   - Compare and evaluate the performance of the tuned models against the baseline models.\n",
    "\n",
    "6. **Integration with Azure ML:**\n",
    "   - Create an Azure ML workspace and compute instance.\n",
    "   - Utilize Azure ML to develop and deploy the deep learning models.\n",
    "   - Train the models using Azure ML's capabilities and evaluate their performance.\n",
    "\n",
    "7. **Model Evaluation and Interpretation:**\n",
    "   - Evaluate the performance of the deep learning models and compare them with the baseline models.\n",
    "   - Interpret the results and analyze the impact of deep learning and parameter tuning on the model's performance.\n",
    "   - Provide insights and recommendations based on the evaluation.\n",
    "\n",
    "8. **Visualization with Python's Data Visualization Libraries (Matplotlib, Seaborn, Pandas, etc):**\n",
    "   - Import the preprocessed data into a data visualization pipeline in a jupyter notebook.\n",
    "   - Create custom visualizations to showcase the sentiment analysis and deep learning results.\n",
    "   - Use visualization Libraries, to tell a story with your data to help one walk through the key insights used to draw your conclusions.\n",
    "\n",
    "9. **Capstone Project Presentation:**\n",
    "   - Prepare a comprehensive presentation summarizing the findings from the data exploration, sentiment analysis, deep learning, and parameter tuning.\n",
    "   - Showcase the key insights, trends, and recommendations for improving customer satisfaction based on the results.\n",
    "\n",
    "By completing these tasks, students will develop practical skills in data preprocessing, exploratory analysis, sentiment analysis, deep learning with TensorFlow or Keras, parameter tuning, Azure ML integration, visualization using python visualization tools, and effective communication of project findings. The capstone project will provide students with hands-on experience in leveraging deep learning techniques, optimizing model\n"
   ]
  },
  {
   "attachments": {},
   "cell_type": "markdown",
   "metadata": {},
   "source": [
    "# Deliverables\n",
    "\n",
    "- Reports of the project\n",
    "- Presentation"
   ]
  },
  {
   "cell_type": "code",
   "execution_count": null,
   "metadata": {},
   "outputs": [],
   "source": []
  }
 ],
 "metadata": {
  "kernelspec": {
   "display_name": "Python 3 (ipykernel)",
   "language": "python",
   "name": "python3"
  },
  "language_info": {
   "codemirror_mode": {
    "name": "ipython",
    "version": 3
   },
   "file_extension": ".py",
   "mimetype": "text/x-python",
   "name": "python",
   "nbconvert_exporter": "python",
   "pygments_lexer": "ipython3",
   "version": "3.11.5"
  }
 },
 "nbformat": 4,
 "nbformat_minor": 4
}
