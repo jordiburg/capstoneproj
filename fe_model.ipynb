{
 "cells": [
  {
   "cell_type": "code",
   "execution_count": 1,
   "id": "4f6f29b0-93b5-400b-a9e2-daf82b72a342",
   "metadata": {},
   "outputs": [
    {
     "data": {
      "text/html": [
       "<style type=\"text/css\">\n",
       "/* Global styles */\n",
       " .rendered_html p, .rendered_html li, .rendered_html h1, .rendered_html h2, .rendered_html h3, .rendered_html h4, .rendered_html h5, .rendered_html h6 {\n",
       "        font-size: 20px;\n",
       "    }\n",
       "html, body, p, h6 {\n",
       "  margin: 0;\n",
       "  padding: 0;\n",
       "  background-color: black;\n",
       "  font-family: 'Georgia', Arial, sans-serif;\n",
       "  font-size: 30px;\n",
       "  line-height: 2;\n",
       "  color: white;\n",
       "} \n",
       " </style>"
      ],
      "text/plain": [
       "<IPython.core.display.HTML object>"
      ]
     },
     "execution_count": 1,
     "metadata": {},
     "output_type": "execute_result"
    }
   ],
   "source": [
    "from IPython.core.display import HTML\n",
    "def css_styling():\n",
    "    styles = open(\"custom.css\", \"r\").read()\n",
    "    return HTML(styles)\n",
    "css_styling()"
   ]
  },
  {
   "cell_type": "code",
   "execution_count": 2,
   "id": "f09bc696-c0a1-40ed-ac8c-45a7cde37a60",
   "metadata": {},
   "outputs": [],
   "source": [
    "# Load Pandas into Python\n",
    "import pandas as pd\n",
    "from matplotlib import pyplot as plt\n",
    "\n",
    "%matplotlib inline"
   ]
  },
  {
   "cell_type": "code",
   "execution_count": 3,
   "id": "132440da-9787-4d73-b79e-e7a3636007c8",
   "metadata": {},
   "outputs": [],
   "source": [
    "# Read cleant data\n",
    "csv_path = 'cleant_data.csv'\n",
    "reviews_cleant = pd.read_csv(csv_path)"
   ]
  },
  {
   "cell_type": "code",
   "execution_count": 4,
   "id": "650e1201-cc1d-4aa1-94cd-9ea08d3241fe",
   "metadata": {},
   "outputs": [
    {
     "data": {
      "text/plain": [
       "\"In June<br />I saw a charming group<br />of roses all begin<br />to droop<br />I pepped them up<br />with chicken soup!<br />Sprinkle once<br />sprinkle twice<br />sprinkle chicken soup<br />with rice<br /><br />This is a great book to teach children the months of the year. The repetition of the phrases and the funny little stories with accompanying pictures make for an ideal bedtime read. This isn't nearly as good as some of Sendak's other books (like Where the Wild Things are or Pierre: The Boy Who Didn't Care), but it still carries his unique brand of charm.\""
      ]
     },
     "execution_count": 4,
     "metadata": {},
     "output_type": "execute_result"
    }
   ],
   "source": [
    "reviews_cleant.Text[0]"
   ]
  },
  {
   "cell_type": "markdown",
   "id": "4024c643-2774-4b09-b201-f7fa283e5979",
   "metadata": {},
   "source": [
    "## Feature engineering: adding sentiment analysis from other methods"
   ]
  },
  {
   "cell_type": "markdown",
   "id": "d8530445-b4ff-4687-b092-b7a7a38986c2",
   "metadata": {
    "jp-MarkdownHeadingCollapsed": true
   },
   "source": [
    "### Method 1: SpaCy"
   ]
  },
  {
   "cell_type": "code",
   "execution_count": 14,
   "id": "aba2fddf-f73c-4396-ae0b-702e67e34a6d",
   "metadata": {},
   "outputs": [
    {
     "data": {
      "text/plain": [
       "<spacytextblob.spacytextblob.SpacyTextBlob at 0x27a20a2e8e0>"
      ]
     },
     "execution_count": 14,
     "metadata": {},
     "output_type": "execute_result"
    }
   ],
   "source": [
    "import spacy\n",
    "from spacytextblob.spacytextblob import SpacyTextBlob\n",
    "\n",
    "nlp = spacy.load('en_core_web_sm')\n",
    "nlp.add_pipe('spacytextblob')"
   ]
  },
  {
   "cell_type": "code",
   "execution_count": 27,
   "id": "314d0e89-3a04-4f49-9cf5-c63a4c2778e2",
   "metadata": {},
   "outputs": [],
   "source": [
    "# Process one sample review\n",
    "text = reviews_cleant.CleantText[150525]\n",
    "doc = nlp(text)"
   ]
  },
  {
   "cell_type": "code",
   "execution_count": 26,
   "id": "9f34fb13-4974-4277-ab84-f9513722f384",
   "metadata": {},
   "outputs": [
    {
     "data": {
      "text/plain": [
       "5"
      ]
     },
     "execution_count": 26,
     "metadata": {},
     "output_type": "execute_result"
    }
   ],
   "source": [
    "reviews_cleant.Score[200]"
   ]
  },
  {
   "cell_type": "code",
   "execution_count": 30,
   "id": "9649bc9a-a300-4bdb-b6de-af7adf436149",
   "metadata": {},
   "outputs": [
    {
     "data": {
      "text/plain": [
       "0.06851851851851852"
      ]
     },
     "execution_count": 30,
     "metadata": {},
     "output_type": "execute_result"
    }
   ],
   "source": [
    "doc._.blob.polarity"
   ]
  },
  {
   "cell_type": "code",
   "execution_count": null,
   "id": "588bffc2-2bfe-4a4f-a1a3-883b06334ca0",
   "metadata": {},
   "outputs": [],
   "source": [
    "# Takes too long\n",
    "reviews_cleant['spacy_sa'] = reviews_cleant['CleantText'].apply(lambda x: nlp(x)._.blob.polarity)"
   ]
  },
  {
   "cell_type": "code",
   "execution_count": 73,
   "id": "de870975-ab97-4054-b226-bd3128562633",
   "metadata": {},
   "outputs": [
    {
     "name": "stderr",
     "output_type": "stream",
     "text": [
      "C:\\Users\\jordi.burgues.miro\\AppData\\Local\\Temp\\ipykernel_14788\\217433704.py:1: SettingWithCopyWarning: \n",
      "A value is trying to be set on a copy of a slice from a DataFrame.\n",
      "Try using .loc[row_indexer,col_indexer] = value instead\n",
      "\n",
      "See the caveats in the documentation: https://pandas.pydata.org/pandas-docs/stable/user_guide/indexing.html#returning-a-view-versus-a-copy\n",
      "  reviews_small['spacy_sa'] = reviews_small['CleantText'].apply(lambda x: nlp(x)._.blob.polarity)\n"
     ]
    }
   ],
   "source": [
    "reviews_small['spacy_sa'] = reviews_small['CleantText'].apply(lambda x: nlp(x)._.blob.polarity)"
   ]
  },
  {
   "cell_type": "markdown",
   "id": "d53b995d-3156-454c-b40c-d670ce70a061",
   "metadata": {
    "jp-MarkdownHeadingCollapsed": true
   },
   "source": [
    "### Method 2: NLTK"
   ]
  },
  {
   "cell_type": "code",
   "execution_count": 40,
   "id": "0380f0ab-1d18-4939-9efd-2c1306fe0907",
   "metadata": {},
   "outputs": [
    {
     "name": "stderr",
     "output_type": "stream",
     "text": [
      "[nltk_data] Downloading package vader_lexicon to\n",
      "[nltk_data]     C:\\Users\\jordi.burgues.miro\\AppData\\Roaming\\nltk_data.\n",
      "[nltk_data]     ..\n",
      "[nltk_data]   Package vader_lexicon is already up-to-date!\n"
     ]
    },
    {
     "data": {
      "text/plain": [
       "0.9617"
      ]
     },
     "execution_count": 40,
     "metadata": {},
     "output_type": "execute_result"
    }
   ],
   "source": [
    "# SA with NLTK\n",
    "# Download lexicon\n",
    "import nltk\n",
    "nltk.download(['vader_lexicon'])\n",
    "\n",
    "from nltk.sentiment import SentimentIntensityAnalyzer\n",
    "sia = SentimentIntensityAnalyzer()\n",
    "sia.polarity_scores(reviews_cleant.CleantText[146372])['compound']"
   ]
  },
  {
   "cell_type": "code",
   "execution_count": 41,
   "id": "621412ee-8e79-43f0-83c8-5340b2da3083",
   "metadata": {},
   "outputs": [],
   "source": [
    "reviews_small = reviews_cleant[0:1000]"
   ]
  },
  {
   "cell_type": "code",
   "execution_count": 42,
   "id": "865c94d8-8e22-4839-8da2-b5c27c43cb34",
   "metadata": {},
   "outputs": [
    {
     "name": "stderr",
     "output_type": "stream",
     "text": [
      "C:\\Users\\jordi.burgues.miro\\AppData\\Local\\Temp\\ipykernel_14788\\3613569123.py:2: SettingWithCopyWarning: \n",
      "A value is trying to be set on a copy of a slice from a DataFrame.\n",
      "Try using .loc[row_indexer,col_indexer] = value instead\n",
      "\n",
      "See the caveats in the documentation: https://pandas.pydata.org/pandas-docs/stable/user_guide/indexing.html#returning-a-view-versus-a-copy\n",
      "  reviews_small['nltk_sa'] = reviews_small['CleantText'].apply(lambda x: sia.polarity_scores(x)['compound'])\n"
     ]
    }
   ],
   "source": [
    "# Test with smaller batch\n",
    "reviews_small['nltk_sa_pos'] = reviews_small['CleantText'].apply(lambda x: sia.polarity_scores(x)['pos'])"
   ]
  },
  {
   "cell_type": "code",
   "execution_count": null,
   "id": "31fedfd8-ff71-4775-94b2-9e772483ec0a",
   "metadata": {},
   "outputs": [],
   "source": [
    "reviews_small['nltk_sa_neg'] = reviews_small['CleantText'].apply(lambda x: sia.polarity_scores(x)['neg'])"
   ]
  },
  {
   "cell_type": "code",
   "execution_count": 45,
   "id": "82be11da-5ce6-4d8b-bab8-86875658afb4",
   "metadata": {},
   "outputs": [
    {
     "data": {
      "text/html": [
       "<div>\n",
       "<style scoped>\n",
       "    .dataframe tbody tr th:only-of-type {\n",
       "        vertical-align: middle;\n",
       "    }\n",
       "\n",
       "    .dataframe tbody tr th {\n",
       "        vertical-align: top;\n",
       "    }\n",
       "\n",
       "    .dataframe thead th {\n",
       "        text-align: right;\n",
       "    }\n",
       "</style>\n",
       "<table border=\"1\" class=\"dataframe\">\n",
       "  <thead>\n",
       "    <tr style=\"text-align: right;\">\n",
       "      <th></th>\n",
       "      <th>Unnamed: 0</th>\n",
       "      <th>Id</th>\n",
       "      <th>ProductId</th>\n",
       "      <th>UserId</th>\n",
       "      <th>ProfileName</th>\n",
       "      <th>HelpfulnessNumerator</th>\n",
       "      <th>HelpfulnessDenominator</th>\n",
       "      <th>Score</th>\n",
       "      <th>Time</th>\n",
       "      <th>Summary</th>\n",
       "      <th>Text</th>\n",
       "      <th>DateTime</th>\n",
       "      <th>Popularity</th>\n",
       "      <th>Year</th>\n",
       "      <th>binary_score</th>\n",
       "      <th>CleantText</th>\n",
       "      <th>Text_SWR</th>\n",
       "      <th>spacy_sa</th>\n",
       "      <th>nltk_sa</th>\n",
       "    </tr>\n",
       "  </thead>\n",
       "  <tbody>\n",
       "    <tr>\n",
       "      <th>10</th>\n",
       "      <td>150496</td>\n",
       "      <td>150497</td>\n",
       "      <td>0006641040</td>\n",
       "      <td>A1HKYQOFC8ZZCH</td>\n",
       "      <td>Maria Apolloni \"lanarossa\"</td>\n",
       "      <td>2</td>\n",
       "      <td>2</td>\n",
       "      <td>1</td>\n",
       "      <td>1334707200</td>\n",
       "      <td>The story is great, the softcover book is disa...</td>\n",
       "      <td>I give five stars to the Maurice Sendak story....</td>\n",
       "      <td>2012-04-18 02:00:00</td>\n",
       "      <td>0</td>\n",
       "      <td>2012</td>\n",
       "      <td>0</td>\n",
       "      <td>i give five stars to the maurice sendak story ...</td>\n",
       "      <td>give five stars maurice sendak story one star ...</td>\n",
       "      <td>0</td>\n",
       "      <td>-0.4767</td>\n",
       "    </tr>\n",
       "    <tr>\n",
       "      <th>12</th>\n",
       "      <td>150494</td>\n",
       "      <td>150495</td>\n",
       "      <td>0006641040</td>\n",
       "      <td>A2QXYSXGQ2PKAU</td>\n",
       "      <td>Support for Providers</td>\n",
       "      <td>3</td>\n",
       "      <td>3</td>\n",
       "      <td>3</td>\n",
       "      <td>1129507200</td>\n",
       "      <td>Disappointed</td>\n",
       "      <td>When I ordered a large amount of these books t...</td>\n",
       "      <td>2005-10-17 02:00:00</td>\n",
       "      <td>0</td>\n",
       "      <td>2005</td>\n",
       "      <td>0</td>\n",
       "      <td>when i ordered a large amount of these books t...</td>\n",
       "      <td>ordered large amount books share child care pr...</td>\n",
       "      <td>0</td>\n",
       "      <td>0.6712</td>\n",
       "    </tr>\n",
       "  </tbody>\n",
       "</table>\n",
       "</div>"
      ],
      "text/plain": [
       "    Unnamed: 0      Id   ProductId          UserId  \\\n",
       "10      150496  150497  0006641040  A1HKYQOFC8ZZCH   \n",
       "12      150494  150495  0006641040  A2QXYSXGQ2PKAU   \n",
       "\n",
       "                   ProfileName  HelpfulnessNumerator  HelpfulnessDenominator  \\\n",
       "10  Maria Apolloni \"lanarossa\"                     2                       2   \n",
       "12       Support for Providers                     3                       3   \n",
       "\n",
       "    Score        Time                                            Summary  \\\n",
       "10      1  1334707200  The story is great, the softcover book is disa...   \n",
       "12      3  1129507200                                       Disappointed   \n",
       "\n",
       "                                                 Text             DateTime  \\\n",
       "10  I give five stars to the Maurice Sendak story....  2012-04-18 02:00:00   \n",
       "12  When I ordered a large amount of these books t...  2005-10-17 02:00:00   \n",
       "\n",
       "    Popularity  Year  binary_score  \\\n",
       "10           0  2012             0   \n",
       "12           0  2005             0   \n",
       "\n",
       "                                           CleantText  \\\n",
       "10  i give five stars to the maurice sendak story ...   \n",
       "12  when i ordered a large amount of these books t...   \n",
       "\n",
       "                                             Text_SWR  spacy_sa  nltk_sa  \n",
       "10  give five stars maurice sendak story one star ...         0  -0.4767  \n",
       "12  ordered large amount books share child care pr...         0   0.6712  "
      ]
     },
     "execution_count": 45,
     "metadata": {},
     "output_type": "execute_result"
    }
   ],
   "source": [
    "reviews_small[reviews_small['Score'] <= 3].head(2)"
   ]
  },
  {
   "cell_type": "code",
   "execution_count": null,
   "id": "9affe0d8-0c58-462f-9822-862070225135",
   "metadata": {},
   "outputs": [],
   "source": [
    "# Apply NLTK to all set\n",
    "reviews_cleant['nltk_sa'] = reviews_cleant['CleantText'].apply(lambda x: sia.polarity_scores(x)['compound'])"
   ]
  },
  {
   "cell_type": "code",
   "execution_count": 51,
   "id": "ea68aa6d-04bf-40ac-95ef-711889eec331",
   "metadata": {},
   "outputs": [],
   "source": [
    "reviews_cleant.drop(['spacy_sa'], axis=1, inplace=True)"
   ]
  },
  {
   "cell_type": "code",
   "execution_count": 56,
   "id": "52295f2f-9764-413d-a246-7fdb0a48e990",
   "metadata": {},
   "outputs": [
    {
     "data": {
      "text/html": [
       "<div>\n",
       "<style scoped>\n",
       "    .dataframe tbody tr th:only-of-type {\n",
       "        vertical-align: middle;\n",
       "    }\n",
       "\n",
       "    .dataframe tbody tr th {\n",
       "        vertical-align: top;\n",
       "    }\n",
       "\n",
       "    .dataframe thead th {\n",
       "        text-align: right;\n",
       "    }\n",
       "</style>\n",
       "<table border=\"1\" class=\"dataframe\">\n",
       "  <thead>\n",
       "    <tr style=\"text-align: right;\">\n",
       "      <th></th>\n",
       "      <th>Unnamed: 0</th>\n",
       "      <th>Id</th>\n",
       "      <th>ProductId</th>\n",
       "      <th>UserId</th>\n",
       "      <th>ProfileName</th>\n",
       "      <th>HelpfulnessNumerator</th>\n",
       "      <th>HelpfulnessDenominator</th>\n",
       "      <th>Score</th>\n",
       "      <th>Time</th>\n",
       "      <th>Summary</th>\n",
       "      <th>Text</th>\n",
       "      <th>DateTime</th>\n",
       "      <th>Popularity</th>\n",
       "      <th>Year</th>\n",
       "      <th>binary_score</th>\n",
       "      <th>CleantText</th>\n",
       "      <th>Text_SWR</th>\n",
       "    </tr>\n",
       "  </thead>\n",
       "  <tbody>\n",
       "    <tr>\n",
       "      <th>0</th>\n",
       "      <td>150528</td>\n",
       "      <td>150529</td>\n",
       "      <td>0006641040</td>\n",
       "      <td>A25ACLV5KPB4W</td>\n",
       "      <td>Matt Hetling \"Matt\"</td>\n",
       "      <td>0</td>\n",
       "      <td>1</td>\n",
       "      <td>4</td>\n",
       "      <td>1108425600</td>\n",
       "      <td>Nice cadence, catchy rhymes</td>\n",
       "      <td>In June&lt;br /&gt;I saw a charming group&lt;br /&gt;of ro...</td>\n",
       "      <td>2005-02-15 01:00:00</td>\n",
       "      <td>-1</td>\n",
       "      <td>2005</td>\n",
       "      <td>1</td>\n",
       "      <td>in june i saw a charming group of roses all be...</td>\n",
       "      <td>june saw charming group roses begin droop pepp...</td>\n",
       "    </tr>\n",
       "    <tr>\n",
       "      <th>1</th>\n",
       "      <td>150506</td>\n",
       "      <td>150507</td>\n",
       "      <td>0006641040</td>\n",
       "      <td>A1S4A3IQ2MU7V4</td>\n",
       "      <td>sally sue \"sally sue\"</td>\n",
       "      <td>1</td>\n",
       "      <td>1</td>\n",
       "      <td>4</td>\n",
       "      <td>1191456000</td>\n",
       "      <td>chicken soup with rice months</td>\n",
       "      <td>This is a fun way for children to learn their ...</td>\n",
       "      <td>2007-10-04 02:00:00</td>\n",
       "      <td>0</td>\n",
       "      <td>2007</td>\n",
       "      <td>1</td>\n",
       "      <td>this is a fun way for children to learn their ...</td>\n",
       "      <td>fun way children learn months year learn poems...</td>\n",
       "    </tr>\n",
       "    <tr>\n",
       "      <th>2</th>\n",
       "      <td>150505</td>\n",
       "      <td>150506</td>\n",
       "      <td>0006641040</td>\n",
       "      <td>A2IW4PEEKO2R0U</td>\n",
       "      <td>Tracy</td>\n",
       "      <td>1</td>\n",
       "      <td>1</td>\n",
       "      <td>4</td>\n",
       "      <td>1194739200</td>\n",
       "      <td>Love the book, miss the hard cover version</td>\n",
       "      <td>I grew up reading these Sendak books, and watc...</td>\n",
       "      <td>2007-11-11 01:00:00</td>\n",
       "      <td>0</td>\n",
       "      <td>2007</td>\n",
       "      <td>1</td>\n",
       "      <td>i grew up reading these sendak books and watch...</td>\n",
       "      <td>grew reading sendak books watching really rosi...</td>\n",
       "    </tr>\n",
       "    <tr>\n",
       "      <th>3</th>\n",
       "      <td>150504</td>\n",
       "      <td>150505</td>\n",
       "      <td>0006641040</td>\n",
       "      <td>A2PTSM496CF40Z</td>\n",
       "      <td>Jason A. Teeple \"Nobody made a greater mistak...</td>\n",
       "      <td>1</td>\n",
       "      <td>1</td>\n",
       "      <td>4</td>\n",
       "      <td>1210809600</td>\n",
       "      <td>A classic</td>\n",
       "      <td>Get the movie or sound track and sing along wi...</td>\n",
       "      <td>2008-05-15 02:00:00</td>\n",
       "      <td>0</td>\n",
       "      <td>2008</td>\n",
       "      <td>1</td>\n",
       "      <td>get the movie or sound track and sing along wi...</td>\n",
       "      <td>get movie sound track sing along carol king gr...</td>\n",
       "    </tr>\n",
       "    <tr>\n",
       "      <th>4</th>\n",
       "      <td>150503</td>\n",
       "      <td>150504</td>\n",
       "      <td>0006641040</td>\n",
       "      <td>AQEYF1AXARWJZ</td>\n",
       "      <td>Les Sinclair \"book maven\"</td>\n",
       "      <td>1</td>\n",
       "      <td>1</td>\n",
       "      <td>4</td>\n",
       "      <td>1212278400</td>\n",
       "      <td>Chicken Soup with Rice</td>\n",
       "      <td>A very entertaining rhyming story--cleaver and...</td>\n",
       "      <td>2008-06-01 02:00:00</td>\n",
       "      <td>0</td>\n",
       "      <td>2008</td>\n",
       "      <td>1</td>\n",
       "      <td>a very entertaining rhyming storycleaver and c...</td>\n",
       "      <td>entertaining rhyming storycleaver catchythe il...</td>\n",
       "    </tr>\n",
       "    <tr>\n",
       "      <th>...</th>\n",
       "      <td>...</td>\n",
       "      <td>...</td>\n",
       "      <td>...</td>\n",
       "      <td>...</td>\n",
       "      <td>...</td>\n",
       "      <td>...</td>\n",
       "      <td>...</td>\n",
       "      <td>...</td>\n",
       "      <td>...</td>\n",
       "      <td>...</td>\n",
       "      <td>...</td>\n",
       "      <td>...</td>\n",
       "      <td>...</td>\n",
       "      <td>...</td>\n",
       "      <td>...</td>\n",
       "      <td>...</td>\n",
       "      <td>...</td>\n",
       "    </tr>\n",
       "    <tr>\n",
       "      <th>393587</th>\n",
       "      <td>193171</td>\n",
       "      <td>193172</td>\n",
       "      <td>B009RSR8HO</td>\n",
       "      <td>A3JJTHP8T7A8LY</td>\n",
       "      <td>Joanne Eklund \"Joanne\"</td>\n",
       "      <td>0</td>\n",
       "      <td>0</td>\n",
       "      <td>5</td>\n",
       "      <td>1350432000</td>\n",
       "      <td>Zero</td>\n",
       "      <td>FTS Zero is the best sweetener I have ever tri...</td>\n",
       "      <td>2012-10-17 02:00:00</td>\n",
       "      <td>0</td>\n",
       "      <td>2012</td>\n",
       "      <td>1</td>\n",
       "      <td>fts zero is the best sweetener i have ever tri...</td>\n",
       "      <td>fts zero best sweetener ever tried aftertaste ...</td>\n",
       "    </tr>\n",
       "    <tr>\n",
       "      <th>393588</th>\n",
       "      <td>188388</td>\n",
       "      <td>188389</td>\n",
       "      <td>B009SF0TN6</td>\n",
       "      <td>A1L0GWGRK4BYPT</td>\n",
       "      <td>Bety Robinson</td>\n",
       "      <td>0</td>\n",
       "      <td>0</td>\n",
       "      <td>5</td>\n",
       "      <td>1350518400</td>\n",
       "      <td>Amazing!! Great sauce for everything!</td>\n",
       "      <td>You have to try this sauce to believe it! It s...</td>\n",
       "      <td>2012-10-18 02:00:00</td>\n",
       "      <td>0</td>\n",
       "      <td>2012</td>\n",
       "      <td>1</td>\n",
       "      <td>you have to try this sauce to believe it it st...</td>\n",
       "      <td>try sauce believe starts little sweet honey ta...</td>\n",
       "    </tr>\n",
       "    <tr>\n",
       "      <th>393589</th>\n",
       "      <td>221794</td>\n",
       "      <td>221795</td>\n",
       "      <td>B009SR4OQ2</td>\n",
       "      <td>A32A6X5KCP7ARG</td>\n",
       "      <td>sicamar</td>\n",
       "      <td>1</td>\n",
       "      <td>1</td>\n",
       "      <td>5</td>\n",
       "      <td>1350604800</td>\n",
       "      <td>Awesome Taste</td>\n",
       "      <td>I bought this Hazelnut Paste (Nocciola Spread)...</td>\n",
       "      <td>2012-10-19 02:00:00</td>\n",
       "      <td>0</td>\n",
       "      <td>2012</td>\n",
       "      <td>1</td>\n",
       "      <td>i bought this hazelnut paste nocciola spread a...</td>\n",
       "      <td>bought hazelnut paste nocciola spread local sh...</td>\n",
       "    </tr>\n",
       "    <tr>\n",
       "      <th>393590</th>\n",
       "      <td>5702</td>\n",
       "      <td>5703</td>\n",
       "      <td>B009WSNWC4</td>\n",
       "      <td>AMP7K1O84DH1T</td>\n",
       "      <td>ESTY</td>\n",
       "      <td>0</td>\n",
       "      <td>0</td>\n",
       "      <td>5</td>\n",
       "      <td>1351209600</td>\n",
       "      <td>DELICIOUS</td>\n",
       "      <td>Purchased this product at a local store in NY ...</td>\n",
       "      <td>2012-10-26 02:00:00</td>\n",
       "      <td>0</td>\n",
       "      <td>2012</td>\n",
       "      <td>1</td>\n",
       "      <td>purchased this product at a local store in ny ...</td>\n",
       "      <td>purchased product local store kids love quick ...</td>\n",
       "    </tr>\n",
       "    <tr>\n",
       "      <th>393591</th>\n",
       "      <td>327600</td>\n",
       "      <td>327601</td>\n",
       "      <td>B009WVB40S</td>\n",
       "      <td>A3ME78KVX31T21</td>\n",
       "      <td>K'la</td>\n",
       "      <td>0</td>\n",
       "      <td>0</td>\n",
       "      <td>5</td>\n",
       "      <td>1351123200</td>\n",
       "      <td>Tasty!</td>\n",
       "      <td>I purchased this to send to my son who's away ...</td>\n",
       "      <td>2012-10-25 02:00:00</td>\n",
       "      <td>0</td>\n",
       "      <td>2012</td>\n",
       "      <td>1</td>\n",
       "      <td>i purchased this to send to my son whos away a...</td>\n",
       "      <td>purchased send son whos away college delivered...</td>\n",
       "    </tr>\n",
       "  </tbody>\n",
       "</table>\n",
       "<p>393592 rows × 17 columns</p>\n",
       "</div>"
      ],
      "text/plain": [
       "        Unnamed: 0      Id   ProductId          UserId  \\\n",
       "0           150528  150529  0006641040   A25ACLV5KPB4W   \n",
       "1           150506  150507  0006641040  A1S4A3IQ2MU7V4   \n",
       "2           150505  150506  0006641040  A2IW4PEEKO2R0U   \n",
       "3           150504  150505  0006641040  A2PTSM496CF40Z   \n",
       "4           150503  150504  0006641040   AQEYF1AXARWJZ   \n",
       "...            ...     ...         ...             ...   \n",
       "393587      193171  193172  B009RSR8HO  A3JJTHP8T7A8LY   \n",
       "393588      188388  188389  B009SF0TN6  A1L0GWGRK4BYPT   \n",
       "393589      221794  221795  B009SR4OQ2  A32A6X5KCP7ARG   \n",
       "393590        5702    5703  B009WSNWC4   AMP7K1O84DH1T   \n",
       "393591      327600  327601  B009WVB40S  A3ME78KVX31T21   \n",
       "\n",
       "                                             ProfileName  \\\n",
       "0                                    Matt Hetling \"Matt\"   \n",
       "1                                  sally sue \"sally sue\"   \n",
       "2                                                  Tracy   \n",
       "3       Jason A. Teeple \"Nobody made a greater mistak...   \n",
       "4                              Les Sinclair \"book maven\"   \n",
       "...                                                  ...   \n",
       "393587                            Joanne Eklund \"Joanne\"   \n",
       "393588                                     Bety Robinson   \n",
       "393589                                           sicamar   \n",
       "393590                                              ESTY   \n",
       "393591                                              K'la   \n",
       "\n",
       "        HelpfulnessNumerator  HelpfulnessDenominator  Score        Time  \\\n",
       "0                          0                       1      4  1108425600   \n",
       "1                          1                       1      4  1191456000   \n",
       "2                          1                       1      4  1194739200   \n",
       "3                          1                       1      4  1210809600   \n",
       "4                          1                       1      4  1212278400   \n",
       "...                      ...                     ...    ...         ...   \n",
       "393587                     0                       0      5  1350432000   \n",
       "393588                     0                       0      5  1350518400   \n",
       "393589                     1                       1      5  1350604800   \n",
       "393590                     0                       0      5  1351209600   \n",
       "393591                     0                       0      5  1351123200   \n",
       "\n",
       "                                           Summary  \\\n",
       "0                      Nice cadence, catchy rhymes   \n",
       "1                    chicken soup with rice months   \n",
       "2       Love the book, miss the hard cover version   \n",
       "3                                        A classic   \n",
       "4                           Chicken Soup with Rice   \n",
       "...                                            ...   \n",
       "393587                                        Zero   \n",
       "393588       Amazing!! Great sauce for everything!   \n",
       "393589                               Awesome Taste   \n",
       "393590                                   DELICIOUS   \n",
       "393591                                      Tasty!   \n",
       "\n",
       "                                                     Text  \\\n",
       "0       In June<br />I saw a charming group<br />of ro...   \n",
       "1       This is a fun way for children to learn their ...   \n",
       "2       I grew up reading these Sendak books, and watc...   \n",
       "3       Get the movie or sound track and sing along wi...   \n",
       "4       A very entertaining rhyming story--cleaver and...   \n",
       "...                                                   ...   \n",
       "393587  FTS Zero is the best sweetener I have ever tri...   \n",
       "393588  You have to try this sauce to believe it! It s...   \n",
       "393589  I bought this Hazelnut Paste (Nocciola Spread)...   \n",
       "393590  Purchased this product at a local store in NY ...   \n",
       "393591  I purchased this to send to my son who's away ...   \n",
       "\n",
       "                   DateTime  Popularity  Year  binary_score  \\\n",
       "0       2005-02-15 01:00:00          -1  2005             1   \n",
       "1       2007-10-04 02:00:00           0  2007             1   \n",
       "2       2007-11-11 01:00:00           0  2007             1   \n",
       "3       2008-05-15 02:00:00           0  2008             1   \n",
       "4       2008-06-01 02:00:00           0  2008             1   \n",
       "...                     ...         ...   ...           ...   \n",
       "393587  2012-10-17 02:00:00           0  2012             1   \n",
       "393588  2012-10-18 02:00:00           0  2012             1   \n",
       "393589  2012-10-19 02:00:00           0  2012             1   \n",
       "393590  2012-10-26 02:00:00           0  2012             1   \n",
       "393591  2012-10-25 02:00:00           0  2012             1   \n",
       "\n",
       "                                               CleantText  \\\n",
       "0       in june i saw a charming group of roses all be...   \n",
       "1       this is a fun way for children to learn their ...   \n",
       "2       i grew up reading these sendak books and watch...   \n",
       "3       get the movie or sound track and sing along wi...   \n",
       "4       a very entertaining rhyming storycleaver and c...   \n",
       "...                                                   ...   \n",
       "393587  fts zero is the best sweetener i have ever tri...   \n",
       "393588  you have to try this sauce to believe it it st...   \n",
       "393589  i bought this hazelnut paste nocciola spread a...   \n",
       "393590  purchased this product at a local store in ny ...   \n",
       "393591  i purchased this to send to my son whos away a...   \n",
       "\n",
       "                                                 Text_SWR  \n",
       "0       june saw charming group roses begin droop pepp...  \n",
       "1       fun way children learn months year learn poems...  \n",
       "2       grew reading sendak books watching really rosi...  \n",
       "3       get movie sound track sing along carol king gr...  \n",
       "4       entertaining rhyming storycleaver catchythe il...  \n",
       "...                                                   ...  \n",
       "393587  fts zero best sweetener ever tried aftertaste ...  \n",
       "393588  try sauce believe starts little sweet honey ta...  \n",
       "393589  bought hazelnut paste nocciola spread local sh...  \n",
       "393590  purchased product local store kids love quick ...  \n",
       "393591  purchased send son whos away college delivered...  \n",
       "\n",
       "[393592 rows x 17 columns]"
      ]
     },
     "execution_count": 56,
     "metadata": {},
     "output_type": "execute_result"
    }
   ],
   "source": [
    "reviews_cleant"
   ]
  },
  {
   "cell_type": "markdown",
   "id": "1a167051-9882-4475-9be3-109c8ff6a4df",
   "metadata": {},
   "source": [
    "## Preprocessing Summary"
   ]
  },
  {
   "cell_type": "code",
   "execution_count": 138,
   "id": "2331bf47-8d29-4054-bbcc-01441ec4b23f",
   "metadata": {},
   "outputs": [],
   "source": [
    "# Preprocessing and tokenization functions\n",
    "import re\n",
    "import nltk\n",
    "from nltk.tokenize import RegexpTokenizer \n",
    "from nltk.stem import WordNetLemmatizer,PorterStemmer, SnowballStemmer\n",
    "from nltk.corpus import stopwords\n",
    "from nltk.stem import WordNetLemmatizer,PorterStemmer, SnowballStemmer\n",
    "\n",
    "lemmatizer = WordNetLemmatizer()\n",
    "stemmer = SnowballStemmer('english') \n",
    "\n",
    "#Removing the word 'not' from stopwords\n",
    "default_stopwords = set(stopwords.words('english'))\n",
    "#excluding some useful words from stop words list as we doing sentiment analysis\n",
    "excluding = set(['against','not','don', \"don't\",'ain', 'aren', \"aren't\", 'couldn', \"couldn't\", 'didn', \"didn't\",\n",
    "             'doesn', \"doesn't\", 'hadn', \"hadn't\", 'hasn', \"hasn't\", 'haven', \"haven't\", 'isn', \"isn't\", \n",
    "             'mightn', \"mightn't\", 'mustn', \"mustn't\", 'needn', \"needn't\",'shouldn', \"shouldn't\", 'wasn',\n",
    "             \"wasn't\", 'weren', \"weren't\", 'won', \"won't\", 'wouldn', \"wouldn't\"])\n",
    "\n",
    "custom_stopwords = default_stopwords - excluding\n",
    "\n",
    "def preprocess(sentence):\n",
    " \n",
    "    sentence = str(sentence)\n",
    "    sentence = sentence.lower()\n",
    "    # sentence = sentence.replace('{html}',\"\") \n",
    "    # For Regex Pattern Object\n",
    "    cleanr = re.compile(r'<\\s*[^>]*\\s*>')\n",
    "    cleantext = re.sub(cleanr, ' ', sentence)\n",
    "    rem_hyp = re.sub(r'(\\w+)-(\\w+)', r'\\1 \\2', cleantext)\n",
    "    rem_punc = re.sub(r'[^\\w\\s]', '', rem_hyp)\n",
    "    # re_clean = re.sub(r'[^a-z0-9A-Z_]',' ', cleantext)\n",
    "    rem_http = re.sub(r'http\\S+', '', rem_punc)\n",
    "    rem_url = re.sub(r\"www.\\S+\", \" \", rem_http)\n",
    "    rem_pat = re.sub(\"\\s*\\b(?=\\w*(\\w)\\1{2,})\\w*\\b\",' ', rem_url)\n",
    "    rem_num = re.sub('[0-9]+', '', rem_pat)\n",
    "\n",
    "    return rem_num\n",
    "\n",
    "def tokenize_data(text):\n",
    "    tokenizer = RegexpTokenizer(r'\\w+')\n",
    "    tokens = tokenizer.tokenize(text)  \n",
    "    return tokens\n",
    "\n",
    "def remove_stop_words(cleant_text):\n",
    "    \n",
    "    tokens = tokenize_data(cleant_text)\n",
    "    filtered_words = [w for w in tokens if len(w) > 2 if not w in custom_stopwords]\n",
    "    stem_words = [stemmer.stem(w) for w in filtered_words]\n",
    "    lemma_words = [lemmatizer.lemmatize(w) for w in stem_words]\n",
    "    \n",
    "    return \" \".join(filtered_words)\n",
    "\n",
    "def prepare_text(text):\n",
    "    \n",
    "    cleant_text = preprocess(text)\n",
    "    remove_sw = remove_stop_words(cleant_text)\n",
    "\n",
    "    return remove_sw"
   ]
  },
  {
   "cell_type": "code",
   "execution_count": 70,
   "id": "9d8384e1-005d-4099-90d3-fc421293ba60",
   "metadata": {},
   "outputs": [
    {
     "data": {
      "text/plain": [
       "'This book is much too small'"
      ]
     },
     "execution_count": 70,
     "metadata": {},
     "output_type": "execute_result"
    }
   ],
   "source": [
    "reviews_cleant.Summary[20]"
   ]
  },
  {
   "cell_type": "code",
   "execution_count": 69,
   "id": "d0b200fe-9d11-439f-9bb5-294e616a0587",
   "metadata": {},
   "outputs": [
    {
     "data": {
      "text/plain": [
       "'book much small'"
      ]
     },
     "execution_count": 69,
     "metadata": {},
     "output_type": "execute_result"
    }
   ],
   "source": [
    "prepare_text(reviews_cleant.Summary[20])"
   ]
  },
  {
   "cell_type": "code",
   "execution_count": 71,
   "id": "3f557323-079a-4f10-b1ae-eb3dba33e0da",
   "metadata": {},
   "outputs": [],
   "source": [
    "reviews_cleant['CleantSummary'] = reviews_cleant['Summary'].apply(lambda x:prepare_text(x))"
   ]
  },
  {
   "cell_type": "code",
   "execution_count": 72,
   "id": "aac1930a-b2b0-40de-9957-fe1d6636830e",
   "metadata": {},
   "outputs": [
    {
     "data": {
      "text/html": [
       "<div>\n",
       "<style scoped>\n",
       "    .dataframe tbody tr th:only-of-type {\n",
       "        vertical-align: middle;\n",
       "    }\n",
       "\n",
       "    .dataframe tbody tr th {\n",
       "        vertical-align: top;\n",
       "    }\n",
       "\n",
       "    .dataframe thead th {\n",
       "        text-align: right;\n",
       "    }\n",
       "</style>\n",
       "<table border=\"1\" class=\"dataframe\">\n",
       "  <thead>\n",
       "    <tr style=\"text-align: right;\">\n",
       "      <th></th>\n",
       "      <th>Unnamed: 0</th>\n",
       "      <th>Id</th>\n",
       "      <th>ProductId</th>\n",
       "      <th>UserId</th>\n",
       "      <th>ProfileName</th>\n",
       "      <th>HelpfulnessNumerator</th>\n",
       "      <th>HelpfulnessDenominator</th>\n",
       "      <th>Score</th>\n",
       "      <th>Time</th>\n",
       "      <th>Summary</th>\n",
       "      <th>Text</th>\n",
       "      <th>DateTime</th>\n",
       "      <th>Popularity</th>\n",
       "      <th>Year</th>\n",
       "      <th>binary_score</th>\n",
       "      <th>CleantText</th>\n",
       "      <th>Text_SWR</th>\n",
       "      <th>CleantSummary</th>\n",
       "    </tr>\n",
       "  </thead>\n",
       "  <tbody>\n",
       "    <tr>\n",
       "      <th>0</th>\n",
       "      <td>150528</td>\n",
       "      <td>150529</td>\n",
       "      <td>0006641040</td>\n",
       "      <td>A25ACLV5KPB4W</td>\n",
       "      <td>Matt Hetling \"Matt\"</td>\n",
       "      <td>0</td>\n",
       "      <td>1</td>\n",
       "      <td>4</td>\n",
       "      <td>1108425600</td>\n",
       "      <td>Nice cadence, catchy rhymes</td>\n",
       "      <td>In June&lt;br /&gt;I saw a charming group&lt;br /&gt;of ro...</td>\n",
       "      <td>2005-02-15 01:00:00</td>\n",
       "      <td>-1</td>\n",
       "      <td>2005</td>\n",
       "      <td>1</td>\n",
       "      <td>in june i saw a charming group of roses all be...</td>\n",
       "      <td>june saw charming group roses begin droop pepp...</td>\n",
       "      <td>nice cadence catchy rhymes</td>\n",
       "    </tr>\n",
       "    <tr>\n",
       "      <th>1</th>\n",
       "      <td>150506</td>\n",
       "      <td>150507</td>\n",
       "      <td>0006641040</td>\n",
       "      <td>A1S4A3IQ2MU7V4</td>\n",
       "      <td>sally sue \"sally sue\"</td>\n",
       "      <td>1</td>\n",
       "      <td>1</td>\n",
       "      <td>4</td>\n",
       "      <td>1191456000</td>\n",
       "      <td>chicken soup with rice months</td>\n",
       "      <td>This is a fun way for children to learn their ...</td>\n",
       "      <td>2007-10-04 02:00:00</td>\n",
       "      <td>0</td>\n",
       "      <td>2007</td>\n",
       "      <td>1</td>\n",
       "      <td>this is a fun way for children to learn their ...</td>\n",
       "      <td>fun way children learn months year learn poems...</td>\n",
       "      <td>chicken soup rice months</td>\n",
       "    </tr>\n",
       "    <tr>\n",
       "      <th>2</th>\n",
       "      <td>150505</td>\n",
       "      <td>150506</td>\n",
       "      <td>0006641040</td>\n",
       "      <td>A2IW4PEEKO2R0U</td>\n",
       "      <td>Tracy</td>\n",
       "      <td>1</td>\n",
       "      <td>1</td>\n",
       "      <td>4</td>\n",
       "      <td>1194739200</td>\n",
       "      <td>Love the book, miss the hard cover version</td>\n",
       "      <td>I grew up reading these Sendak books, and watc...</td>\n",
       "      <td>2007-11-11 01:00:00</td>\n",
       "      <td>0</td>\n",
       "      <td>2007</td>\n",
       "      <td>1</td>\n",
       "      <td>i grew up reading these sendak books and watch...</td>\n",
       "      <td>grew reading sendak books watching really rosi...</td>\n",
       "      <td>love book miss hard cover version</td>\n",
       "    </tr>\n",
       "    <tr>\n",
       "      <th>3</th>\n",
       "      <td>150504</td>\n",
       "      <td>150505</td>\n",
       "      <td>0006641040</td>\n",
       "      <td>A2PTSM496CF40Z</td>\n",
       "      <td>Jason A. Teeple \"Nobody made a greater mistak...</td>\n",
       "      <td>1</td>\n",
       "      <td>1</td>\n",
       "      <td>4</td>\n",
       "      <td>1210809600</td>\n",
       "      <td>A classic</td>\n",
       "      <td>Get the movie or sound track and sing along wi...</td>\n",
       "      <td>2008-05-15 02:00:00</td>\n",
       "      <td>0</td>\n",
       "      <td>2008</td>\n",
       "      <td>1</td>\n",
       "      <td>get the movie or sound track and sing along wi...</td>\n",
       "      <td>get movie sound track sing along carol king gr...</td>\n",
       "      <td>classic</td>\n",
       "    </tr>\n",
       "    <tr>\n",
       "      <th>4</th>\n",
       "      <td>150503</td>\n",
       "      <td>150504</td>\n",
       "      <td>0006641040</td>\n",
       "      <td>AQEYF1AXARWJZ</td>\n",
       "      <td>Les Sinclair \"book maven\"</td>\n",
       "      <td>1</td>\n",
       "      <td>1</td>\n",
       "      <td>4</td>\n",
       "      <td>1212278400</td>\n",
       "      <td>Chicken Soup with Rice</td>\n",
       "      <td>A very entertaining rhyming story--cleaver and...</td>\n",
       "      <td>2008-06-01 02:00:00</td>\n",
       "      <td>0</td>\n",
       "      <td>2008</td>\n",
       "      <td>1</td>\n",
       "      <td>a very entertaining rhyming storycleaver and c...</td>\n",
       "      <td>entertaining rhyming storycleaver catchythe il...</td>\n",
       "      <td>chicken soup rice</td>\n",
       "    </tr>\n",
       "    <tr>\n",
       "      <th>...</th>\n",
       "      <td>...</td>\n",
       "      <td>...</td>\n",
       "      <td>...</td>\n",
       "      <td>...</td>\n",
       "      <td>...</td>\n",
       "      <td>...</td>\n",
       "      <td>...</td>\n",
       "      <td>...</td>\n",
       "      <td>...</td>\n",
       "      <td>...</td>\n",
       "      <td>...</td>\n",
       "      <td>...</td>\n",
       "      <td>...</td>\n",
       "      <td>...</td>\n",
       "      <td>...</td>\n",
       "      <td>...</td>\n",
       "      <td>...</td>\n",
       "      <td>...</td>\n",
       "    </tr>\n",
       "    <tr>\n",
       "      <th>393587</th>\n",
       "      <td>193171</td>\n",
       "      <td>193172</td>\n",
       "      <td>B009RSR8HO</td>\n",
       "      <td>A3JJTHP8T7A8LY</td>\n",
       "      <td>Joanne Eklund \"Joanne\"</td>\n",
       "      <td>0</td>\n",
       "      <td>0</td>\n",
       "      <td>5</td>\n",
       "      <td>1350432000</td>\n",
       "      <td>Zero</td>\n",
       "      <td>FTS Zero is the best sweetener I have ever tri...</td>\n",
       "      <td>2012-10-17 02:00:00</td>\n",
       "      <td>0</td>\n",
       "      <td>2012</td>\n",
       "      <td>1</td>\n",
       "      <td>fts zero is the best sweetener i have ever tri...</td>\n",
       "      <td>fts zero best sweetener ever tried aftertaste ...</td>\n",
       "      <td>zero</td>\n",
       "    </tr>\n",
       "    <tr>\n",
       "      <th>393588</th>\n",
       "      <td>188388</td>\n",
       "      <td>188389</td>\n",
       "      <td>B009SF0TN6</td>\n",
       "      <td>A1L0GWGRK4BYPT</td>\n",
       "      <td>Bety Robinson</td>\n",
       "      <td>0</td>\n",
       "      <td>0</td>\n",
       "      <td>5</td>\n",
       "      <td>1350518400</td>\n",
       "      <td>Amazing!! Great sauce for everything!</td>\n",
       "      <td>You have to try this sauce to believe it! It s...</td>\n",
       "      <td>2012-10-18 02:00:00</td>\n",
       "      <td>0</td>\n",
       "      <td>2012</td>\n",
       "      <td>1</td>\n",
       "      <td>you have to try this sauce to believe it it st...</td>\n",
       "      <td>try sauce believe starts little sweet honey ta...</td>\n",
       "      <td>amazing great sauce everything</td>\n",
       "    </tr>\n",
       "    <tr>\n",
       "      <th>393589</th>\n",
       "      <td>221794</td>\n",
       "      <td>221795</td>\n",
       "      <td>B009SR4OQ2</td>\n",
       "      <td>A32A6X5KCP7ARG</td>\n",
       "      <td>sicamar</td>\n",
       "      <td>1</td>\n",
       "      <td>1</td>\n",
       "      <td>5</td>\n",
       "      <td>1350604800</td>\n",
       "      <td>Awesome Taste</td>\n",
       "      <td>I bought this Hazelnut Paste (Nocciola Spread)...</td>\n",
       "      <td>2012-10-19 02:00:00</td>\n",
       "      <td>0</td>\n",
       "      <td>2012</td>\n",
       "      <td>1</td>\n",
       "      <td>i bought this hazelnut paste nocciola spread a...</td>\n",
       "      <td>bought hazelnut paste nocciola spread local sh...</td>\n",
       "      <td>awesome taste</td>\n",
       "    </tr>\n",
       "    <tr>\n",
       "      <th>393590</th>\n",
       "      <td>5702</td>\n",
       "      <td>5703</td>\n",
       "      <td>B009WSNWC4</td>\n",
       "      <td>AMP7K1O84DH1T</td>\n",
       "      <td>ESTY</td>\n",
       "      <td>0</td>\n",
       "      <td>0</td>\n",
       "      <td>5</td>\n",
       "      <td>1351209600</td>\n",
       "      <td>DELICIOUS</td>\n",
       "      <td>Purchased this product at a local store in NY ...</td>\n",
       "      <td>2012-10-26 02:00:00</td>\n",
       "      <td>0</td>\n",
       "      <td>2012</td>\n",
       "      <td>1</td>\n",
       "      <td>purchased this product at a local store in ny ...</td>\n",
       "      <td>purchased product local store kids love quick ...</td>\n",
       "      <td>delicious</td>\n",
       "    </tr>\n",
       "    <tr>\n",
       "      <th>393591</th>\n",
       "      <td>327600</td>\n",
       "      <td>327601</td>\n",
       "      <td>B009WVB40S</td>\n",
       "      <td>A3ME78KVX31T21</td>\n",
       "      <td>K'la</td>\n",
       "      <td>0</td>\n",
       "      <td>0</td>\n",
       "      <td>5</td>\n",
       "      <td>1351123200</td>\n",
       "      <td>Tasty!</td>\n",
       "      <td>I purchased this to send to my son who's away ...</td>\n",
       "      <td>2012-10-25 02:00:00</td>\n",
       "      <td>0</td>\n",
       "      <td>2012</td>\n",
       "      <td>1</td>\n",
       "      <td>i purchased this to send to my son whos away a...</td>\n",
       "      <td>purchased send son whos away college delivered...</td>\n",
       "      <td>tasty</td>\n",
       "    </tr>\n",
       "  </tbody>\n",
       "</table>\n",
       "<p>393592 rows × 18 columns</p>\n",
       "</div>"
      ],
      "text/plain": [
       "        Unnamed: 0      Id   ProductId          UserId  \\\n",
       "0           150528  150529  0006641040   A25ACLV5KPB4W   \n",
       "1           150506  150507  0006641040  A1S4A3IQ2MU7V4   \n",
       "2           150505  150506  0006641040  A2IW4PEEKO2R0U   \n",
       "3           150504  150505  0006641040  A2PTSM496CF40Z   \n",
       "4           150503  150504  0006641040   AQEYF1AXARWJZ   \n",
       "...            ...     ...         ...             ...   \n",
       "393587      193171  193172  B009RSR8HO  A3JJTHP8T7A8LY   \n",
       "393588      188388  188389  B009SF0TN6  A1L0GWGRK4BYPT   \n",
       "393589      221794  221795  B009SR4OQ2  A32A6X5KCP7ARG   \n",
       "393590        5702    5703  B009WSNWC4   AMP7K1O84DH1T   \n",
       "393591      327600  327601  B009WVB40S  A3ME78KVX31T21   \n",
       "\n",
       "                                             ProfileName  \\\n",
       "0                                    Matt Hetling \"Matt\"   \n",
       "1                                  sally sue \"sally sue\"   \n",
       "2                                                  Tracy   \n",
       "3       Jason A. Teeple \"Nobody made a greater mistak...   \n",
       "4                              Les Sinclair \"book maven\"   \n",
       "...                                                  ...   \n",
       "393587                            Joanne Eklund \"Joanne\"   \n",
       "393588                                     Bety Robinson   \n",
       "393589                                           sicamar   \n",
       "393590                                              ESTY   \n",
       "393591                                              K'la   \n",
       "\n",
       "        HelpfulnessNumerator  HelpfulnessDenominator  Score        Time  \\\n",
       "0                          0                       1      4  1108425600   \n",
       "1                          1                       1      4  1191456000   \n",
       "2                          1                       1      4  1194739200   \n",
       "3                          1                       1      4  1210809600   \n",
       "4                          1                       1      4  1212278400   \n",
       "...                      ...                     ...    ...         ...   \n",
       "393587                     0                       0      5  1350432000   \n",
       "393588                     0                       0      5  1350518400   \n",
       "393589                     1                       1      5  1350604800   \n",
       "393590                     0                       0      5  1351209600   \n",
       "393591                     0                       0      5  1351123200   \n",
       "\n",
       "                                           Summary  \\\n",
       "0                      Nice cadence, catchy rhymes   \n",
       "1                    chicken soup with rice months   \n",
       "2       Love the book, miss the hard cover version   \n",
       "3                                        A classic   \n",
       "4                           Chicken Soup with Rice   \n",
       "...                                            ...   \n",
       "393587                                        Zero   \n",
       "393588       Amazing!! Great sauce for everything!   \n",
       "393589                               Awesome Taste   \n",
       "393590                                   DELICIOUS   \n",
       "393591                                      Tasty!   \n",
       "\n",
       "                                                     Text  \\\n",
       "0       In June<br />I saw a charming group<br />of ro...   \n",
       "1       This is a fun way for children to learn their ...   \n",
       "2       I grew up reading these Sendak books, and watc...   \n",
       "3       Get the movie or sound track and sing along wi...   \n",
       "4       A very entertaining rhyming story--cleaver and...   \n",
       "...                                                   ...   \n",
       "393587  FTS Zero is the best sweetener I have ever tri...   \n",
       "393588  You have to try this sauce to believe it! It s...   \n",
       "393589  I bought this Hazelnut Paste (Nocciola Spread)...   \n",
       "393590  Purchased this product at a local store in NY ...   \n",
       "393591  I purchased this to send to my son who's away ...   \n",
       "\n",
       "                   DateTime  Popularity  Year  binary_score  \\\n",
       "0       2005-02-15 01:00:00          -1  2005             1   \n",
       "1       2007-10-04 02:00:00           0  2007             1   \n",
       "2       2007-11-11 01:00:00           0  2007             1   \n",
       "3       2008-05-15 02:00:00           0  2008             1   \n",
       "4       2008-06-01 02:00:00           0  2008             1   \n",
       "...                     ...         ...   ...           ...   \n",
       "393587  2012-10-17 02:00:00           0  2012             1   \n",
       "393588  2012-10-18 02:00:00           0  2012             1   \n",
       "393589  2012-10-19 02:00:00           0  2012             1   \n",
       "393590  2012-10-26 02:00:00           0  2012             1   \n",
       "393591  2012-10-25 02:00:00           0  2012             1   \n",
       "\n",
       "                                               CleantText  \\\n",
       "0       in june i saw a charming group of roses all be...   \n",
       "1       this is a fun way for children to learn their ...   \n",
       "2       i grew up reading these sendak books and watch...   \n",
       "3       get the movie or sound track and sing along wi...   \n",
       "4       a very entertaining rhyming storycleaver and c...   \n",
       "...                                                   ...   \n",
       "393587  fts zero is the best sweetener i have ever tri...   \n",
       "393588  you have to try this sauce to believe it it st...   \n",
       "393589  i bought this hazelnut paste nocciola spread a...   \n",
       "393590  purchased this product at a local store in ny ...   \n",
       "393591  i purchased this to send to my son whos away a...   \n",
       "\n",
       "                                                 Text_SWR  \\\n",
       "0       june saw charming group roses begin droop pepp...   \n",
       "1       fun way children learn months year learn poems...   \n",
       "2       grew reading sendak books watching really rosi...   \n",
       "3       get movie sound track sing along carol king gr...   \n",
       "4       entertaining rhyming storycleaver catchythe il...   \n",
       "...                                                   ...   \n",
       "393587  fts zero best sweetener ever tried aftertaste ...   \n",
       "393588  try sauce believe starts little sweet honey ta...   \n",
       "393589  bought hazelnut paste nocciola spread local sh...   \n",
       "393590  purchased product local store kids love quick ...   \n",
       "393591  purchased send son whos away college delivered...   \n",
       "\n",
       "                            CleantSummary  \n",
       "0              nice cadence catchy rhymes  \n",
       "1                chicken soup rice months  \n",
       "2       love book miss hard cover version  \n",
       "3                                 classic  \n",
       "4                       chicken soup rice  \n",
       "...                                   ...  \n",
       "393587                               zero  \n",
       "393588     amazing great sauce everything  \n",
       "393589                      awesome taste  \n",
       "393590                          delicious  \n",
       "393591                              tasty  \n",
       "\n",
       "[393592 rows x 18 columns]"
      ]
     },
     "execution_count": 72,
     "metadata": {},
     "output_type": "execute_result"
    }
   ],
   "source": [
    "reviews_cleant"
   ]
  },
  {
   "cell_type": "markdown",
   "id": "f71f3c67-eec2-4d69-bbbe-d6fe3edcb322",
   "metadata": {
    "jp-MarkdownHeadingCollapsed": true
   },
   "source": [
    "## Modelling"
   ]
  },
  {
   "cell_type": "code",
   "execution_count": 76,
   "id": "b76f23f4-21fb-4f45-a857-8dbef9366c2d",
   "metadata": {},
   "outputs": [
    {
     "name": "stderr",
     "output_type": "stream",
     "text": [
      "C:\\Users\\jordi.burgues.miro\\AppData\\Local\\Temp\\ipykernel_14788\\1384582331.py:1: FutureWarning: The default value of numeric_only in DataFrame.corr is deprecated. In a future version, it will default to False. Select only valid columns or specify the value of numeric_only to silence this warning.\n",
      "  corr = reviews_cleant.corr()\n"
     ]
    },
    {
     "data": {
      "text/html": [
       "<style type=\"text/css\">\n",
       "#T_f85fd_row0_col0, #T_f85fd_row0_col1, #T_f85fd_row1_col0, #T_f85fd_row1_col1, #T_f85fd_row2_col2, #T_f85fd_row3_col3, #T_f85fd_row4_col4, #T_f85fd_row5_col5, #T_f85fd_row6_col6, #T_f85fd_row7_col7, #T_f85fd_row8_col8 {\n",
       "  background-color: #b40426;\n",
       "  color: #f1f1f1;\n",
       "}\n",
       "#T_f85fd_row0_col2, #T_f85fd_row1_col2 {\n",
       "  background-color: #7699f6;\n",
       "  color: #f1f1f1;\n",
       "}\n",
       "#T_f85fd_row0_col3, #T_f85fd_row0_col6, #T_f85fd_row1_col3, #T_f85fd_row1_col6 {\n",
       "  background-color: #a3c2fe;\n",
       "  color: #000000;\n",
       "}\n",
       "#T_f85fd_row0_col4, #T_f85fd_row1_col4 {\n",
       "  background-color: #5a78e4;\n",
       "  color: #f1f1f1;\n",
       "}\n",
       "#T_f85fd_row0_col5, #T_f85fd_row1_col5 {\n",
       "  background-color: #7093f3;\n",
       "  color: #f1f1f1;\n",
       "}\n",
       "#T_f85fd_row0_col7, #T_f85fd_row1_col7 {\n",
       "  background-color: #6f92f3;\n",
       "  color: #f1f1f1;\n",
       "}\n",
       "#T_f85fd_row0_col8, #T_f85fd_row1_col8 {\n",
       "  background-color: #5875e1;\n",
       "  color: #f1f1f1;\n",
       "}\n",
       "#T_f85fd_row2_col0, #T_f85fd_row2_col1, #T_f85fd_row3_col0, #T_f85fd_row3_col1, #T_f85fd_row3_col4, #T_f85fd_row3_col5, #T_f85fd_row3_col6, #T_f85fd_row3_col7, #T_f85fd_row3_col8, #T_f85fd_row6_col0, #T_f85fd_row6_col1, #T_f85fd_row6_col2, #T_f85fd_row6_col3 {\n",
       "  background-color: #3b4cc0;\n",
       "  color: #f1f1f1;\n",
       "}\n",
       "#T_f85fd_row2_col3 {\n",
       "  background-color: #bb1b2c;\n",
       "  color: #f1f1f1;\n",
       "}\n",
       "#T_f85fd_row2_col4 {\n",
       "  background-color: #4c66d6;\n",
       "  color: #f1f1f1;\n",
       "}\n",
       "#T_f85fd_row2_col5, #T_f85fd_row2_col7 {\n",
       "  background-color: #3e51c5;\n",
       "  color: #f1f1f1;\n",
       "}\n",
       "#T_f85fd_row2_col6, #T_f85fd_row8_col2 {\n",
       "  background-color: #6c8ff1;\n",
       "  color: #f1f1f1;\n",
       "}\n",
       "#T_f85fd_row2_col8 {\n",
       "  background-color: #4b64d5;\n",
       "  color: #f1f1f1;\n",
       "}\n",
       "#T_f85fd_row3_col2 {\n",
       "  background-color: #bd1f2d;\n",
       "  color: #f1f1f1;\n",
       "}\n",
       "#T_f85fd_row4_col0, #T_f85fd_row4_col1, #T_f85fd_row8_col0, #T_f85fd_row8_col1 {\n",
       "  background-color: #3d50c3;\n",
       "  color: #f1f1f1;\n",
       "}\n",
       "#T_f85fd_row4_col2 {\n",
       "  background-color: #6b8df0;\n",
       "  color: #f1f1f1;\n",
       "}\n",
       "#T_f85fd_row4_col3 {\n",
       "  background-color: #8badfd;\n",
       "  color: #000000;\n",
       "}\n",
       "#T_f85fd_row4_col5, #T_f85fd_row8_col5, #T_f85fd_row8_col7 {\n",
       "  background-color: #5d7ce6;\n",
       "  color: #f1f1f1;\n",
       "}\n",
       "#T_f85fd_row4_col6 {\n",
       "  background-color: #dfdbd9;\n",
       "  color: #000000;\n",
       "}\n",
       "#T_f85fd_row4_col7 {\n",
       "  background-color: #5b7ae5;\n",
       "  color: #f1f1f1;\n",
       "}\n",
       "#T_f85fd_row4_col8 {\n",
       "  background-color: #d0473d;\n",
       "  color: #f1f1f1;\n",
       "}\n",
       "#T_f85fd_row5_col0, #T_f85fd_row5_col1, #T_f85fd_row7_col0, #T_f85fd_row7_col1 {\n",
       "  background-color: #3c4ec2;\n",
       "  color: #f1f1f1;\n",
       "}\n",
       "#T_f85fd_row5_col2, #T_f85fd_row7_col2 {\n",
       "  background-color: #465ecf;\n",
       "  color: #f1f1f1;\n",
       "}\n",
       "#T_f85fd_row5_col3, #T_f85fd_row7_col3 {\n",
       "  background-color: #7597f6;\n",
       "  color: #f1f1f1;\n",
       "}\n",
       "#T_f85fd_row5_col4, #T_f85fd_row7_col4 {\n",
       "  background-color: #455cce;\n",
       "  color: #f1f1f1;\n",
       "}\n",
       "#T_f85fd_row5_col6, #T_f85fd_row7_col6 {\n",
       "  background-color: #c1d4f4;\n",
       "  color: #000000;\n",
       "}\n",
       "#T_f85fd_row5_col7, #T_f85fd_row7_col5 {\n",
       "  background-color: #b8122a;\n",
       "  color: #f1f1f1;\n",
       "}\n",
       "#T_f85fd_row5_col8, #T_f85fd_row7_col8 {\n",
       "  background-color: #445acc;\n",
       "  color: #f1f1f1;\n",
       "}\n",
       "#T_f85fd_row6_col4 {\n",
       "  background-color: #afcafc;\n",
       "  color: #000000;\n",
       "}\n",
       "#T_f85fd_row6_col5 {\n",
       "  background-color: #94b6ff;\n",
       "  color: #000000;\n",
       "}\n",
       "#T_f85fd_row6_col7 {\n",
       "  background-color: #93b5fe;\n",
       "  color: #000000;\n",
       "}\n",
       "#T_f85fd_row6_col8 {\n",
       "  background-color: #a6c4fe;\n",
       "  color: #000000;\n",
       "}\n",
       "#T_f85fd_row8_col3 {\n",
       "  background-color: #8caffe;\n",
       "  color: #000000;\n",
       "}\n",
       "#T_f85fd_row8_col4 {\n",
       "  background-color: #cf453c;\n",
       "  color: #f1f1f1;\n",
       "}\n",
       "#T_f85fd_row8_col6 {\n",
       "  background-color: #dadce0;\n",
       "  color: #000000;\n",
       "}\n",
       "</style>\n",
       "<table id=\"T_f85fd\">\n",
       "  <thead>\n",
       "    <tr>\n",
       "      <th class=\"blank level0\" >&nbsp;</th>\n",
       "      <th id=\"T_f85fd_level0_col0\" class=\"col_heading level0 col0\" >Unnamed: 0</th>\n",
       "      <th id=\"T_f85fd_level0_col1\" class=\"col_heading level0 col1\" >Id</th>\n",
       "      <th id=\"T_f85fd_level0_col2\" class=\"col_heading level0 col2\" >HelpfulnessNumerator</th>\n",
       "      <th id=\"T_f85fd_level0_col3\" class=\"col_heading level0 col3\" >HelpfulnessDenominator</th>\n",
       "      <th id=\"T_f85fd_level0_col4\" class=\"col_heading level0 col4\" >Score</th>\n",
       "      <th id=\"T_f85fd_level0_col5\" class=\"col_heading level0 col5\" >Time</th>\n",
       "      <th id=\"T_f85fd_level0_col6\" class=\"col_heading level0 col6\" >Popularity</th>\n",
       "      <th id=\"T_f85fd_level0_col7\" class=\"col_heading level0 col7\" >Year</th>\n",
       "      <th id=\"T_f85fd_level0_col8\" class=\"col_heading level0 col8\" >binary_score</th>\n",
       "    </tr>\n",
       "  </thead>\n",
       "  <tbody>\n",
       "    <tr>\n",
       "      <th id=\"T_f85fd_level0_row0\" class=\"row_heading level0 row0\" >Unnamed: 0</th>\n",
       "      <td id=\"T_f85fd_row0_col0\" class=\"data row0 col0\" >1.000000</td>\n",
       "      <td id=\"T_f85fd_row0_col1\" class=\"data row0 col1\" >1.000000</td>\n",
       "      <td id=\"T_f85fd_row0_col2\" class=\"data row0 col2\" >0.001909</td>\n",
       "      <td id=\"T_f85fd_row0_col3\" class=\"data row0 col3\" >0.001395</td>\n",
       "      <td id=\"T_f85fd_row0_col4\" class=\"data row0 col4\" >0.010869</td>\n",
       "      <td id=\"T_f85fd_row0_col5\" class=\"data row0 col5\" >0.006900</td>\n",
       "      <td id=\"T_f85fd_row0_col6\" class=\"data row0 col6\" >0.001366</td>\n",
       "      <td id=\"T_f85fd_row0_col7\" class=\"data row0 col7\" >0.006185</td>\n",
       "      <td id=\"T_f85fd_row0_col8\" class=\"data row0 col8\" >0.011024</td>\n",
       "    </tr>\n",
       "    <tr>\n",
       "      <th id=\"T_f85fd_level0_row1\" class=\"row_heading level0 row1\" >Id</th>\n",
       "      <td id=\"T_f85fd_row1_col0\" class=\"data row1 col0\" >1.000000</td>\n",
       "      <td id=\"T_f85fd_row1_col1\" class=\"data row1 col1\" >1.000000</td>\n",
       "      <td id=\"T_f85fd_row1_col2\" class=\"data row1 col2\" >0.001909</td>\n",
       "      <td id=\"T_f85fd_row1_col3\" class=\"data row1 col3\" >0.001395</td>\n",
       "      <td id=\"T_f85fd_row1_col4\" class=\"data row1 col4\" >0.010869</td>\n",
       "      <td id=\"T_f85fd_row1_col5\" class=\"data row1 col5\" >0.006900</td>\n",
       "      <td id=\"T_f85fd_row1_col6\" class=\"data row1 col6\" >0.001366</td>\n",
       "      <td id=\"T_f85fd_row1_col7\" class=\"data row1 col7\" >0.006185</td>\n",
       "      <td id=\"T_f85fd_row1_col8\" class=\"data row1 col8\" >0.011024</td>\n",
       "    </tr>\n",
       "    <tr>\n",
       "      <th id=\"T_f85fd_level0_row2\" class=\"row_heading level0 row2\" >HelpfulnessNumerator</th>\n",
       "      <td id=\"T_f85fd_row2_col0\" class=\"data row2 col0\" >0.001909</td>\n",
       "      <td id=\"T_f85fd_row2_col1\" class=\"data row2 col1\" >0.001909</td>\n",
       "      <td id=\"T_f85fd_row2_col2\" class=\"data row2 col2\" >1.000000</td>\n",
       "      <td id=\"T_f85fd_row2_col3\" class=\"data row2 col3\" >0.969101</td>\n",
       "      <td id=\"T_f85fd_row2_col4\" class=\"data row2 col4\" >-0.035958</td>\n",
       "      <td id=\"T_f85fd_row2_col5\" class=\"data row2 col5\" >-0.176952</td>\n",
       "      <td id=\"T_f85fd_row2_col6\" class=\"data row2 col6\" >-0.225585</td>\n",
       "      <td id=\"T_f85fd_row2_col7\" class=\"data row2 col7\" >-0.174868</td>\n",
       "      <td id=\"T_f85fd_row2_col8\" class=\"data row2 col8\" >-0.032737</td>\n",
       "    </tr>\n",
       "    <tr>\n",
       "      <th id=\"T_f85fd_level0_row3\" class=\"row_heading level0 row3\" >HelpfulnessDenominator</th>\n",
       "      <td id=\"T_f85fd_row3_col0\" class=\"data row3 col0\" >0.001395</td>\n",
       "      <td id=\"T_f85fd_row3_col1\" class=\"data row3 col1\" >0.001395</td>\n",
       "      <td id=\"T_f85fd_row3_col2\" class=\"data row3 col2\" >0.969101</td>\n",
       "      <td id=\"T_f85fd_row3_col3\" class=\"data row3 col3\" >1.000000</td>\n",
       "      <td id=\"T_f85fd_row3_col4\" class=\"data row3 col4\" >-0.104350</td>\n",
       "      <td id=\"T_f85fd_row3_col5\" class=\"data row3 col5\" >-0.194560</td>\n",
       "      <td id=\"T_f85fd_row3_col6\" class=\"data row3 col6\" >-0.458922</td>\n",
       "      <td id=\"T_f85fd_row3_col7\" class=\"data row3 col7\" >-0.192047</td>\n",
       "      <td id=\"T_f85fd_row3_col8\" class=\"data row3 col8\" >-0.095008</td>\n",
       "    </tr>\n",
       "    <tr>\n",
       "      <th id=\"T_f85fd_level0_row4\" class=\"row_heading level0 row4\" >Score</th>\n",
       "      <td id=\"T_f85fd_row4_col0\" class=\"data row4 col0\" >0.010869</td>\n",
       "      <td id=\"T_f85fd_row4_col1\" class=\"data row4 col1\" >0.010869</td>\n",
       "      <td id=\"T_f85fd_row4_col2\" class=\"data row4 col2\" >-0.035958</td>\n",
       "      <td id=\"T_f85fd_row4_col3\" class=\"data row4 col3\" >-0.104350</td>\n",
       "      <td id=\"T_f85fd_row4_col4\" class=\"data row4 col4\" >1.000000</td>\n",
       "      <td id=\"T_f85fd_row4_col5\" class=\"data row4 col5\" >-0.063420</td>\n",
       "      <td id=\"T_f85fd_row4_col6\" class=\"data row4 col6\" >0.282620</td>\n",
       "      <td id=\"T_f85fd_row4_col7\" class=\"data row4 col7\" >-0.062786</td>\n",
       "      <td id=\"T_f85fd_row4_col8\" class=\"data row4 col8\" >0.914142</td>\n",
       "    </tr>\n",
       "    <tr>\n",
       "      <th id=\"T_f85fd_level0_row5\" class=\"row_heading level0 row5\" >Time</th>\n",
       "      <td id=\"T_f85fd_row5_col0\" class=\"data row5 col0\" >0.006900</td>\n",
       "      <td id=\"T_f85fd_row5_col1\" class=\"data row5 col1\" >0.006900</td>\n",
       "      <td id=\"T_f85fd_row5_col2\" class=\"data row5 col2\" >-0.176952</td>\n",
       "      <td id=\"T_f85fd_row5_col3\" class=\"data row5 col3\" >-0.194560</td>\n",
       "      <td id=\"T_f85fd_row5_col4\" class=\"data row5 col4\" >-0.063420</td>\n",
       "      <td id=\"T_f85fd_row5_col5\" class=\"data row5 col5\" >1.000000</td>\n",
       "      <td id=\"T_f85fd_row5_col6\" class=\"data row5 col6\" >0.131055</td>\n",
       "      <td id=\"T_f85fd_row5_col7\" class=\"data row5 col7\" >0.982913</td>\n",
       "      <td id=\"T_f85fd_row5_col8\" class=\"data row5 col8\" >-0.060219</td>\n",
       "    </tr>\n",
       "    <tr>\n",
       "      <th id=\"T_f85fd_level0_row6\" class=\"row_heading level0 row6\" >Popularity</th>\n",
       "      <td id=\"T_f85fd_row6_col0\" class=\"data row6 col0\" >0.001366</td>\n",
       "      <td id=\"T_f85fd_row6_col1\" class=\"data row6 col1\" >0.001366</td>\n",
       "      <td id=\"T_f85fd_row6_col2\" class=\"data row6 col2\" >-0.225585</td>\n",
       "      <td id=\"T_f85fd_row6_col3\" class=\"data row6 col3\" >-0.458922</td>\n",
       "      <td id=\"T_f85fd_row6_col4\" class=\"data row6 col4\" >0.282620</td>\n",
       "      <td id=\"T_f85fd_row6_col5\" class=\"data row6 col5\" >0.131055</td>\n",
       "      <td id=\"T_f85fd_row6_col6\" class=\"data row6 col6\" >1.000000</td>\n",
       "      <td id=\"T_f85fd_row6_col7\" class=\"data row6 col7\" >0.128639</td>\n",
       "      <td id=\"T_f85fd_row6_col8\" class=\"data row6 col8\" >0.257324</td>\n",
       "    </tr>\n",
       "    <tr>\n",
       "      <th id=\"T_f85fd_level0_row7\" class=\"row_heading level0 row7\" >Year</th>\n",
       "      <td id=\"T_f85fd_row7_col0\" class=\"data row7 col0\" >0.006185</td>\n",
       "      <td id=\"T_f85fd_row7_col1\" class=\"data row7 col1\" >0.006185</td>\n",
       "      <td id=\"T_f85fd_row7_col2\" class=\"data row7 col2\" >-0.174868</td>\n",
       "      <td id=\"T_f85fd_row7_col3\" class=\"data row7 col3\" >-0.192047</td>\n",
       "      <td id=\"T_f85fd_row7_col4\" class=\"data row7 col4\" >-0.062786</td>\n",
       "      <td id=\"T_f85fd_row7_col5\" class=\"data row7 col5\" >0.982913</td>\n",
       "      <td id=\"T_f85fd_row7_col6\" class=\"data row7 col6\" >0.128639</td>\n",
       "      <td id=\"T_f85fd_row7_col7\" class=\"data row7 col7\" >1.000000</td>\n",
       "      <td id=\"T_f85fd_row7_col8\" class=\"data row7 col8\" >-0.059606</td>\n",
       "    </tr>\n",
       "    <tr>\n",
       "      <th id=\"T_f85fd_level0_row8\" class=\"row_heading level0 row8\" >binary_score</th>\n",
       "      <td id=\"T_f85fd_row8_col0\" class=\"data row8 col0\" >0.011024</td>\n",
       "      <td id=\"T_f85fd_row8_col1\" class=\"data row8 col1\" >0.011024</td>\n",
       "      <td id=\"T_f85fd_row8_col2\" class=\"data row8 col2\" >-0.032737</td>\n",
       "      <td id=\"T_f85fd_row8_col3\" class=\"data row8 col3\" >-0.095008</td>\n",
       "      <td id=\"T_f85fd_row8_col4\" class=\"data row8 col4\" >0.914142</td>\n",
       "      <td id=\"T_f85fd_row8_col5\" class=\"data row8 col5\" >-0.060219</td>\n",
       "      <td id=\"T_f85fd_row8_col6\" class=\"data row8 col6\" >0.257324</td>\n",
       "      <td id=\"T_f85fd_row8_col7\" class=\"data row8 col7\" >-0.059606</td>\n",
       "      <td id=\"T_f85fd_row8_col8\" class=\"data row8 col8\" >1.000000</td>\n",
       "    </tr>\n",
       "  </tbody>\n",
       "</table>\n"
      ],
      "text/plain": [
       "<pandas.io.formats.style.Styler at 0x27a4c1f9b80>"
      ]
     },
     "execution_count": 76,
     "metadata": {},
     "output_type": "execute_result"
    }
   ],
   "source": [
    "corr = reviews_cleant.corr()\n",
    "corr.style.background_gradient(cmap='coolwarm')"
   ]
  },
  {
   "cell_type": "code",
   "execution_count": 80,
   "id": "75603708-e8aa-4469-8822-28508deb3d51",
   "metadata": {},
   "outputs": [
    {
     "data": {
      "text/plain": [
       "Index(['Unnamed: 0', 'Id', 'ProductId', 'UserId', 'ProfileName',\n",
       "       'HelpfulnessNumerator', 'HelpfulnessDenominator', 'Score', 'Time',\n",
       "       'Summary', 'Text', 'DateTime', 'Popularity', 'Year', 'binary_score',\n",
       "       'CleantText', 'Text_SWR', 'CleantSummary'],\n",
       "      dtype='object')"
      ]
     },
     "execution_count": 80,
     "metadata": {},
     "output_type": "execute_result"
    }
   ],
   "source": [
    "reviews_cleant\n",
    "# Id, ProductId is not relevant to classify a review\n",
    "# UserId may not be important either\n",
    "# ProfileName too\n",
    "# HelpfulnessNumerator and Denominator could be removed\n",
    "# Score, Time, Summary, Text, DateTime, Popularityh must be removed\n",
    "\n",
    "# To keep:\n",
    "# binary score, text_swr, cleant_summary\n",
    "reviews_cleant.columns"
   ]
  },
  {
   "cell_type": "code",
   "execution_count": 83,
   "id": "6e8af4d6-b1f7-4ac1-964d-11fbeb72da23",
   "metadata": {},
   "outputs": [],
   "source": [
    "reviews_model = reviews_cleant.drop(['Unnamed: 0', 'Id', 'ProductId', 'UserId', 'ProfileName',\n",
    "       'HelpfulnessNumerator', 'HelpfulnessDenominator', 'Score', 'Time',\n",
    "       'Summary', 'Text', 'DateTime', 'Popularity', 'Year',\n",
    "       'CleantText'], axis=1)"
   ]
  },
  {
   "cell_type": "code",
   "execution_count": 89,
   "id": "c455a666-da32-4468-96bd-e45fba22ccf6",
   "metadata": {},
   "outputs": [
    {
     "data": {
      "text/html": [
       "<div>\n",
       "<style scoped>\n",
       "    .dataframe tbody tr th:only-of-type {\n",
       "        vertical-align: middle;\n",
       "    }\n",
       "\n",
       "    .dataframe tbody tr th {\n",
       "        vertical-align: top;\n",
       "    }\n",
       "\n",
       "    .dataframe thead th {\n",
       "        text-align: right;\n",
       "    }\n",
       "</style>\n",
       "<table border=\"1\" class=\"dataframe\">\n",
       "  <thead>\n",
       "    <tr style=\"text-align: right;\">\n",
       "      <th></th>\n",
       "      <th>binary_score</th>\n",
       "      <th>Text_SWR</th>\n",
       "      <th>CleantSummary</th>\n",
       "    </tr>\n",
       "  </thead>\n",
       "  <tbody>\n",
       "    <tr>\n",
       "      <th>0</th>\n",
       "      <td>1</td>\n",
       "      <td>june saw charming group roses begin droop pepp...</td>\n",
       "      <td>nice cadence catchy rhymes</td>\n",
       "    </tr>\n",
       "    <tr>\n",
       "      <th>1</th>\n",
       "      <td>1</td>\n",
       "      <td>fun way children learn months year learn poems...</td>\n",
       "      <td>chicken soup rice months</td>\n",
       "    </tr>\n",
       "    <tr>\n",
       "      <th>2</th>\n",
       "      <td>1</td>\n",
       "      <td>grew reading sendak books watching really rosi...</td>\n",
       "      <td>love book miss hard cover version</td>\n",
       "    </tr>\n",
       "    <tr>\n",
       "      <th>3</th>\n",
       "      <td>1</td>\n",
       "      <td>get movie sound track sing along carol king gr...</td>\n",
       "      <td>classic</td>\n",
       "    </tr>\n",
       "    <tr>\n",
       "      <th>4</th>\n",
       "      <td>1</td>\n",
       "      <td>entertaining rhyming storycleaver catchythe il...</td>\n",
       "      <td>chicken soup rice</td>\n",
       "    </tr>\n",
       "    <tr>\n",
       "      <th>...</th>\n",
       "      <td>...</td>\n",
       "      <td>...</td>\n",
       "      <td>...</td>\n",
       "    </tr>\n",
       "    <tr>\n",
       "      <th>393587</th>\n",
       "      <td>1</td>\n",
       "      <td>fts zero best sweetener ever tried aftertaste ...</td>\n",
       "      <td>zero</td>\n",
       "    </tr>\n",
       "    <tr>\n",
       "      <th>393588</th>\n",
       "      <td>1</td>\n",
       "      <td>try sauce believe starts little sweet honey ta...</td>\n",
       "      <td>amazing great sauce everything</td>\n",
       "    </tr>\n",
       "    <tr>\n",
       "      <th>393589</th>\n",
       "      <td>1</td>\n",
       "      <td>bought hazelnut paste nocciola spread local sh...</td>\n",
       "      <td>awesome taste</td>\n",
       "    </tr>\n",
       "    <tr>\n",
       "      <th>393590</th>\n",
       "      <td>1</td>\n",
       "      <td>purchased product local store kids love quick ...</td>\n",
       "      <td>delicious</td>\n",
       "    </tr>\n",
       "    <tr>\n",
       "      <th>393591</th>\n",
       "      <td>1</td>\n",
       "      <td>purchased send son whos away college delivered...</td>\n",
       "      <td>tasty</td>\n",
       "    </tr>\n",
       "  </tbody>\n",
       "</table>\n",
       "<p>393592 rows × 3 columns</p>\n",
       "</div>"
      ],
      "text/plain": [
       "        binary_score                                           Text_SWR  \\\n",
       "0                  1  june saw charming group roses begin droop pepp...   \n",
       "1                  1  fun way children learn months year learn poems...   \n",
       "2                  1  grew reading sendak books watching really rosi...   \n",
       "3                  1  get movie sound track sing along carol king gr...   \n",
       "4                  1  entertaining rhyming storycleaver catchythe il...   \n",
       "...              ...                                                ...   \n",
       "393587             1  fts zero best sweetener ever tried aftertaste ...   \n",
       "393588             1  try sauce believe starts little sweet honey ta...   \n",
       "393589             1  bought hazelnut paste nocciola spread local sh...   \n",
       "393590             1  purchased product local store kids love quick ...   \n",
       "393591             1  purchased send son whos away college delivered...   \n",
       "\n",
       "                            CleantSummary  \n",
       "0              nice cadence catchy rhymes  \n",
       "1                chicken soup rice months  \n",
       "2       love book miss hard cover version  \n",
       "3                                 classic  \n",
       "4                       chicken soup rice  \n",
       "...                                   ...  \n",
       "393587                               zero  \n",
       "393588     amazing great sauce everything  \n",
       "393589                      awesome taste  \n",
       "393590                          delicious  \n",
       "393591                              tasty  \n",
       "\n",
       "[393592 rows x 3 columns]"
      ]
     },
     "execution_count": 89,
     "metadata": {},
     "output_type": "execute_result"
    }
   ],
   "source": [
    "reviews_model"
   ]
  },
  {
   "cell_type": "markdown",
   "id": "94c93a10-e6ca-45d1-9c90-ee03dc6a38f3",
   "metadata": {
    "jp-MarkdownHeadingCollapsed": true
   },
   "source": [
    "## Model 1: using just TextSWR (binary) [0.83]"
   ]
  },
  {
   "cell_type": "code",
   "execution_count": 56,
   "id": "c4dc3ced-8281-43a7-8393-6b615f4a4812",
   "metadata": {},
   "outputs": [],
   "source": [
    "from sklearn.metrics import classification_report\n",
    "from sklearn.model_selection import train_test_split\n",
    "from sklearn.feature_extraction.text import CountVectorizer, TfidfVectorizer\n",
    "from sklearn.naive_bayes import MultinomialNB         # Naive Bayes\n",
    "from sklearn.linear_model import LogisticRegression\n",
    "from sklearn import metrics"
   ]
  },
  {
   "cell_type": "markdown",
   "id": "edd7e53e-0f2f-4fbe-be15-ab8eb93c1633",
   "metadata": {},
   "source": [
    "### Define train test split"
   ]
  },
  {
   "cell_type": "code",
   "execution_count": 204,
   "id": "aab53c43-7c8e-45f7-a3d8-9cd57bb65573",
   "metadata": {},
   "outputs": [],
   "source": [
    "# Define training datat and labels\n",
    "X = reviews_model['Text_SWR']\n",
    "y = reviews_model['binary_score']\n",
    "\n",
    "# Split the new DataFrame into training and testing sets.\n",
    "X_train, X_test, y_train, y_test = train_test_split(X, y, test_size=0.30 ,random_state=99)"
   ]
  },
  {
   "cell_type": "code",
   "execution_count": 205,
   "id": "0fcf03c2-d46b-40ba-9383-7732e91e6787",
   "metadata": {},
   "outputs": [
    {
     "data": {
      "text/plain": [
       "1    214688\n",
       "0     60824\n",
       "Name: binary_score, dtype: int64"
      ]
     },
     "execution_count": 205,
     "metadata": {},
     "output_type": "execute_result"
    }
   ],
   "source": [
    "y_train.value_counts()"
   ]
  },
  {
   "cell_type": "code",
   "execution_count": 206,
   "id": "6964c218-346f-44a3-beb0-ce0ce3518c22",
   "metadata": {},
   "outputs": [
    {
     "data": {
      "text/plain": [
       "1    92074\n",
       "0    26003\n",
       "Name: binary_score, dtype: int64"
      ]
     },
     "execution_count": 206,
     "metadata": {},
     "output_type": "execute_result"
    }
   ],
   "source": [
    "y_test.value_counts()"
   ]
  },
  {
   "cell_type": "code",
   "execution_count": 207,
   "id": "b4fbdae5-7f0a-4150-9bf1-86457c67b8a3",
   "metadata": {},
   "outputs": [],
   "source": [
    "reviews_model.dropna(inplace=True)"
   ]
  },
  {
   "cell_type": "markdown",
   "id": "84799bd4-47a8-451a-95cb-09a4c886b619",
   "metadata": {},
   "source": [
    "### Encode reviews with CountVectorizer()"
   ]
  },
  {
   "cell_type": "code",
   "execution_count": 208,
   "id": "6b83ddfc-6091-4f29-a9c9-5b3d8ce02627",
   "metadata": {},
   "outputs": [],
   "source": [
    "# Use CountVectorizer to convert reviews into matrices\n",
    "vect = CountVectorizer()\n",
    "X_train_dtm = vect.fit_transform(X_train)\n",
    "\n",
    "# equivalent to:\n",
    "# vect.fit(X_train) # words that are on the training set\n",
    "# X_train_dtm = vect.transform(X_train)\n",
    "\n",
    "# Perform the same in test\n",
    "X_test_dtm = vect.transform(X_test)"
   ]
  },
  {
   "cell_type": "code",
   "execution_count": 209,
   "id": "66b812a2-9ad9-49ab-9895-e3c9eb90c61a",
   "metadata": {},
   "outputs": [
    {
     "data": {
      "text/plain": [
       "((275512, 142296), (118077, 142296))"
      ]
     },
     "execution_count": 209,
     "metadata": {},
     "output_type": "execute_result"
    }
   ],
   "source": [
    "X_train_dtm.shape, X_test_dtm.shape"
   ]
  },
  {
   "cell_type": "markdown",
   "id": "9dca37a1-8790-4862-88c2-e71545591506",
   "metadata": {},
   "source": [
    "### Use CountVectorizer in Model"
   ]
  },
  {
   "cell_type": "code",
   "execution_count": 210,
   "id": "8b9718b8-fef3-4778-b377-2373cc2ab996",
   "metadata": {},
   "outputs": [
    {
     "name": "stdout",
     "output_type": "stream",
     "text": [
      "0.8709909635238022\n"
     ]
    }
   ],
   "source": [
    "# Use Naive Bayes to predict binary score\n",
    "nb = MultinomialNB()\n",
    "nb.fit(X_train_dtm, y_train)\n",
    "y_pred_class = nb.predict(X_test_dtm)\n",
    "\n",
    "# Calculate accuracy.\n",
    "print((metrics.accuracy_score(y_test, y_pred_class)))"
   ]
  },
  {
   "cell_type": "code",
   "execution_count": 211,
   "id": "0cdff576-60fc-4f07-852a-a3642ef3169f",
   "metadata": {},
   "outputs": [
    {
     "data": {
      "text/plain": [
       "1    92074\n",
       "0    26003\n",
       "Name: binary_score, dtype: int64"
      ]
     },
     "execution_count": 211,
     "metadata": {},
     "output_type": "execute_result"
    }
   ],
   "source": [
    "y_test.value_counts()"
   ]
  },
  {
   "cell_type": "code",
   "execution_count": 212,
   "id": "1c4ecdac-15b2-45d3-862d-c63aeeb43170",
   "metadata": {},
   "outputs": [
    {
     "data": {
      "text/plain": [
       "array([[17212,  8791],\n",
       "       [ 6442, 85632]], dtype=int64)"
      ]
     },
     "execution_count": 212,
     "metadata": {},
     "output_type": "execute_result"
    }
   ],
   "source": [
    "confusion_matrix(y_test, y_pred_class)"
   ]
  },
  {
   "cell_type": "code",
   "execution_count": 213,
   "id": "daf82a1a-af93-4363-91f7-18caae02d623",
   "metadata": {},
   "outputs": [
    {
     "name": "stdout",
     "output_type": "stream",
     "text": [
      "              precision    recall  f1-score   support\n",
      "\n",
      "           0       0.73      0.66      0.69     26003\n",
      "           1       0.91      0.93      0.92     92074\n",
      "\n",
      "    accuracy                           0.87    118077\n",
      "   macro avg       0.82      0.80      0.81    118077\n",
      "weighted avg       0.87      0.87      0.87    118077\n",
      "\n"
     ]
    }
   ],
   "source": [
    "# WHEN BINARY CLASSIFIER DOES HAVE ELEMENTS WITH SCORE == 3, included within class 0 (negative)\n",
    "print(classification_report(y_test, y_pred_class))"
   ]
  },
  {
   "cell_type": "code",
   "execution_count": 276,
   "id": "ee0b1ed9-e383-4e4c-9c9b-f4015dc64908",
   "metadata": {},
   "outputs": [
    {
     "name": "stdout",
     "output_type": "stream",
     "text": [
      "              precision    recall  f1-score   support\n",
      "\n",
      "           0       0.76      0.66      0.71     17129\n",
      "           1       0.94      0.96      0.95     92021\n",
      "\n",
      "    accuracy                           0.91    109150\n",
      "   macro avg       0.85      0.81      0.83    109150\n",
      "weighted avg       0.91      0.91      0.91    109150\n",
      "\n"
     ]
    }
   ],
   "source": [
    "# WHEN BINARY CLASSIFIER DOES NOT HAVE ELEMENTS WITH SCORE == 3\n",
    "print(classification_report(y_test, y_pred_class))"
   ]
  },
  {
   "cell_type": "code",
   "execution_count": 214,
   "id": "a6360728-1545-4a9d-a0f3-cc54db91a764",
   "metadata": {},
   "outputs": [
    {
     "data": {
      "text/plain": [
       "Text(50.722222222222214, 0.5, 'Original class')"
      ]
     },
     "execution_count": 214,
     "metadata": {},
     "output_type": "execute_result"
    },
    {
     "data": {
      "image/png": "[encoded data removed]",
      "text/plain": [
       "<Figure size 640x480 with 2 Axes>"
      ]
     },
     "metadata": {},
     "output_type": "display_data"
    }
   ],
   "source": [
    "import seaborn as sns\n",
    "sns.heatmap(confusion_matrix(y_test, y_pred_class), annot=True, fmt='d')\n",
    "plt.title(\"Confusion Matrix: Naive Bayes using Multi-Class classifier\")\n",
    "plt.xlabel('Predicted class')\n",
    "plt.ylabel('Original class')"
   ]
  },
  {
   "cell_type": "markdown",
   "id": "61247bf6-5368-4187-ba11-d50c005962ff",
   "metadata": {},
   "source": [
    "### Compute Accuracy using Tokenization"
   ]
  },
  {
   "cell_type": "code",
   "execution_count": 141,
   "id": "ceced0ef-63af-4837-9fdf-7c5acf4aed02",
   "metadata": {},
   "outputs": [],
   "source": [
    "def tokenize_test(vect):\n",
    "    X_train_dtm = vect.fit_transform(X_train)\n",
    "    print(('Features: ', X_train_dtm.shape[1]))\n",
    "    X_test_dtm = vect.transform(X_test)\n",
    "    nb = MultinomialNB()\n",
    "    nb.fit(X_train_dtm, y_train)\n",
    "    y_pred_class = nb.predict(X_test_dtm)\n",
    "    print(('Accuracy: ', metrics.accuracy_score(y_test, y_pred_class)))"
   ]
  },
  {
   "cell_type": "code",
   "execution_count": 142,
   "id": "46217cf5-ab05-48af-a96a-3bc16d6caea5",
   "metadata": {},
   "outputs": [
    {
     "name": "stdout",
     "output_type": "stream",
     "text": [
      "('Features: ', 142296)\n",
      "('Accuracy: ', 0.8709909635238022)\n"
     ]
    }
   ],
   "source": [
    "tokenize_test(vect)"
   ]
  },
  {
   "cell_type": "markdown",
   "id": "4dd41600-9a34-4733-881a-316bdbbe2126",
   "metadata": {
    "jp-MarkdownHeadingCollapsed": true
   },
   "source": [
    "## Model 2: using just CleantSummary (binary) [0.79]"
   ]
  },
  {
   "cell_type": "code",
   "execution_count": 197,
   "id": "7c22cc85-3bd9-44d4-94e7-8948ecc05d23",
   "metadata": {},
   "outputs": [],
   "source": [
    "# Define training datat and labels\n",
    "X = reviews_model['CleantSummary']\n",
    "y = reviews_model['binary_score']\n",
    "\n",
    "# Split the new DataFrame into training and testing sets.\n",
    "X_train, X_test, y_train, y_test = train_test_split(X, y, test_size=0.30 ,random_state=99)"
   ]
  },
  {
   "cell_type": "code",
   "execution_count": 198,
   "id": "710b8ae1-7f82-4227-b25a-02910c9c065a",
   "metadata": {},
   "outputs": [],
   "source": [
    "# Use CountVectorizer to convert reviews into matrices\n",
    "vect = CountVectorizer()\n",
    "X_train_dtm = vect.fit_transform(X_train)\n",
    "\n",
    "# equivalent to:\n",
    "# vect.fit(X_train) # words that are on the training set\n",
    "# X_train_dtm = vect.transform(X_train)\n",
    "\n",
    "# Perform the same in test\n",
    "X_test_dtm = vect.transform(X_test)"
   ]
  },
  {
   "cell_type": "code",
   "execution_count": 199,
   "id": "2fabe60f-840d-43d5-8e69-bb6a1d26cf96",
   "metadata": {},
   "outputs": [
    {
     "name": "stdout",
     "output_type": "stream",
     "text": [
      "0.8693225607019148\n"
     ]
    }
   ],
   "source": [
    "# Use Naive Bayes to predict binary score\n",
    "nb = MultinomialNB()\n",
    "nb.fit(X_train_dtm, y_train)\n",
    "y_pred_class = nb.predict(X_test_dtm)\n",
    "\n",
    "# Calculate accuracy.\n",
    "print((metrics.accuracy_score(y_test, y_pred_class)))"
   ]
  },
  {
   "cell_type": "code",
   "execution_count": 200,
   "id": "49b31afa-0aec-4013-910e-423e906791c2",
   "metadata": {},
   "outputs": [
    {
     "name": "stdout",
     "output_type": "stream",
     "text": [
      "              precision    recall  f1-score   support\n",
      "\n",
      "           0       0.76      0.59      0.67     26003\n",
      "           1       0.89      0.95      0.92     92074\n",
      "\n",
      "    accuracy                           0.87    118077\n",
      "   macro avg       0.83      0.77      0.79    118077\n",
      "weighted avg       0.86      0.87      0.86    118077\n",
      "\n"
     ]
    }
   ],
   "source": [
    "print(classification_report(y_test, y_pred_class))"
   ]
  },
  {
   "cell_type": "code",
   "execution_count": 201,
   "id": "6ea02fcd-5f74-45ce-a9aa-107d60281c09",
   "metadata": {},
   "outputs": [
    {
     "data": {
      "text/plain": [
       "0.8632314649532848"
      ]
     },
     "execution_count": 201,
     "metadata": {},
     "output_type": "execute_result"
    }
   ],
   "source": [
    "metrics.f1_score(y_test, y_pred_class, average='weighted')"
   ]
  },
  {
   "cell_type": "code",
   "execution_count": 202,
   "id": "9270f617-39cf-436f-9b6b-7179e5c54941",
   "metadata": {},
   "outputs": [
    {
     "data": {
      "text/plain": [
       "Text(50.722222222222214, 0.5, 'Original class')"
      ]
     },
     "execution_count": 202,
     "metadata": {},
     "output_type": "execute_result"
    },
    {
     "data": {
      "image/png": "[encoded data removed]",
      "text/plain": [
       "<Figure size 640x480 with 2 Axes>"
      ]
     },
     "metadata": {},
     "output_type": "display_data"
    }
   ],
   "source": [
    "import seaborn as sns\n",
    "sns.heatmap(confusion_matrix(y_test, y_pred_class), annot=True, fmt='d')\n",
    "plt.title(\"Confusion Matrix: Naive Bayes using Multi-Class classifier\")\n",
    "plt.xlabel('Predicted class')\n",
    "plt.ylabel('Original class')"
   ]
  },
  {
   "cell_type": "markdown",
   "id": "99e9205e-35d1-4301-872b-e7a0eace31fe",
   "metadata": {
    "jp-MarkdownHeadingCollapsed": true
   },
   "source": [
    "## Model 3: using just TextSWR and (multi-cass) [0.40]"
   ]
  },
  {
   "cell_type": "code",
   "execution_count": 235,
   "id": "d6d62503-f0f5-462c-9d80-f2d8eccd343d",
   "metadata": {},
   "outputs": [],
   "source": [
    "reviews_model_mc = reviews_cleant.drop(['Unnamed: 0', 'Id', 'ProductId', 'UserId', 'ProfileName',\n",
    "       'HelpfulnessNumerator', 'HelpfulnessDenominator', 'binary_score', 'Time',\n",
    "       'Summary', 'Text', 'DateTime', 'Popularity', 'Year',\n",
    "       'CleantText'], axis=1)"
   ]
  },
  {
   "cell_type": "code",
   "execution_count": 165,
   "id": "598b27e2-c5d7-4e29-858e-ebde85bc9400",
   "metadata": {},
   "outputs": [
    {
     "data": {
      "text/plain": [
       "5    250730\n",
       "4     56035\n",
       "1     36279\n",
       "3     29757\n",
       "2     20791\n",
       "Name: Score, dtype: int64"
      ]
     },
     "execution_count": 165,
     "metadata": {},
     "output_type": "execute_result"
    }
   ],
   "source": [
    "reviews_model_mc.Score.value_counts()"
   ]
  },
  {
   "cell_type": "code",
   "execution_count": 173,
   "id": "acaf454a-991a-4104-8ea7-6ab3123db3f1",
   "metadata": {},
   "outputs": [
    {
     "data": {
      "text/plain": [
       "Score            0\n",
       "Text_SWR         3\n",
       "CleantSummary    0\n",
       "dtype: int64"
      ]
     },
     "execution_count": 173,
     "metadata": {},
     "output_type": "execute_result"
    }
   ],
   "source": [
    "reviews_model_mc.isnull().sum()"
   ]
  },
  {
   "cell_type": "code",
   "execution_count": 174,
   "id": "79a2c06b-24ae-4e53-8197-c37deff602ce",
   "metadata": {},
   "outputs": [],
   "source": [
    "reviews_model_mc.dropna(inplace=True)"
   ]
  },
  {
   "cell_type": "code",
   "execution_count": 175,
   "id": "33f1fde7-a52a-4efa-93ca-4c0c0716cf11",
   "metadata": {},
   "outputs": [],
   "source": [
    "# Define training datat and labels\n",
    "X = reviews_model_mc['Text_SWR']\n",
    "y = reviews_model_mc['Score']\n",
    "\n",
    "# Split the new DataFrame into training and testing sets.\n",
    "X_train, X_test, y_train, y_test = train_test_split(X, y, test_size=0.30 ,random_state=99)"
   ]
  },
  {
   "cell_type": "code",
   "execution_count": 176,
   "id": "faca3653-ac4c-4af8-a119-c3bbc0f4dfb4",
   "metadata": {},
   "outputs": [
    {
     "data": {
      "text/plain": [
       "(5    175479\n",
       " 4     39209\n",
       " 1     25443\n",
       " 3     20815\n",
       " 2     14566\n",
       " Name: Score, dtype: int64,\n",
       " 5    75248\n",
       " 4    16826\n",
       " 1    10836\n",
       " 3     8942\n",
       " 2     6225\n",
       " Name: Score, dtype: int64)"
      ]
     },
     "execution_count": 176,
     "metadata": {},
     "output_type": "execute_result"
    }
   ],
   "source": [
    "y_train.value_counts(), y_test.value_counts()"
   ]
  },
  {
   "cell_type": "code",
   "execution_count": 177,
   "id": "712d95cf-2c24-4370-ab34-45ba5acaaa1a",
   "metadata": {},
   "outputs": [],
   "source": [
    "# Use CountVectorizer to convert reviews into matrices\n",
    "vect = CountVectorizer()\n",
    "X_train_dtm = vect.fit_transform(X_train)\n",
    "\n",
    "# Perform the same in test\n",
    "X_test_dtm = vect.transform(X_test)"
   ]
  },
  {
   "cell_type": "code",
   "execution_count": 178,
   "id": "e0d2c9ad-2707-4531-8b99-809ad66af455",
   "metadata": {},
   "outputs": [
    {
     "name": "stdout",
     "output_type": "stream",
     "text": [
      "0.6917773994935508\n"
     ]
    }
   ],
   "source": [
    "# Use Naive Bayes to predict binary score\n",
    "nb = MultinomialNB()\n",
    "nb.fit(X_train_dtm, y_train)\n",
    "y_pred_class = nb.predict(X_test_dtm)\n",
    "\n",
    "# Calculate accuracy.\n",
    "print((metrics.accuracy_score(y_test, y_pred_class)))"
   ]
  },
  {
   "cell_type": "code",
   "execution_count": 179,
   "id": "4152d57c-0648-4047-9ac8-6b088f418c5d",
   "metadata": {},
   "outputs": [
    {
     "name": "stdout",
     "output_type": "stream",
     "text": [
      "              precision    recall  f1-score   support\n",
      "\n",
      "           1       0.57      0.61      0.59     10836\n",
      "           2       0.34      0.04      0.07      6225\n",
      "           3       0.33      0.14      0.20      8942\n",
      "           4       0.36      0.29      0.32     16826\n",
      "           5       0.78      0.91      0.84     75248\n",
      "\n",
      "    accuracy                           0.69    118077\n",
      "   macro avg       0.48      0.40      0.40    118077\n",
      "weighted avg       0.64      0.69      0.65    118077\n",
      "\n"
     ]
    }
   ],
   "source": [
    "print(classification_report(y_test, y_pred_class))"
   ]
  },
  {
   "cell_type": "code",
   "execution_count": 180,
   "id": "79417671-b33a-4665-b0a4-31f847b95946",
   "metadata": {},
   "outputs": [
    {
     "data": {
      "text/plain": [
       "0.6535335417258479"
      ]
     },
     "execution_count": 180,
     "metadata": {},
     "output_type": "execute_result"
    }
   ],
   "source": [
    "metrics.f1_score(y_test, y_pred_class, average='weighted')"
   ]
  },
  {
   "cell_type": "code",
   "execution_count": 189,
   "id": "a92fddee-3b9c-487a-be4d-223e107bb274",
   "metadata": {},
   "outputs": [
    {
     "data": {
      "text/plain": [
       "Text(50.722222222222214, 0.5, 'Original class')"
      ]
     },
     "execution_count": 189,
     "metadata": {},
     "output_type": "execute_result"
    },
    {
     "data": {
      "image/png": "[encoded data removed]",
      "text/plain": [
       "<Figure size 640x480 with 2 Axes>"
      ]
     },
     "metadata": {},
     "output_type": "display_data"
    }
   ],
   "source": [
    "import seaborn as sns\n",
    "sns.heatmap(confusion_matrix(y_test, y_pred_class), annot=True, fmt='d')\n",
    "plt.title(\"Confusion Matrix: Naive Bayes using Multi-Class classifier\")\n",
    "plt.xlabel('Predicted class')\n",
    "plt.ylabel('Original class')"
   ]
  },
  {
   "cell_type": "markdown",
   "id": "15a437b6-1a09-4cdd-8600-f1a9be10b42d",
   "metadata": {
    "jp-MarkdownHeadingCollapsed": true
   },
   "source": [
    "## Model 4: using just CleantSummary and (multi-cass)"
   ]
  },
  {
   "cell_type": "code",
   "execution_count": 216,
   "id": "b44e9778-534b-4e96-992f-7705dc60baf8",
   "metadata": {},
   "outputs": [
    {
     "name": "stdout",
     "output_type": "stream",
     "text": [
      "0.6941910787028803\n"
     ]
    }
   ],
   "source": [
    "# Define training datat and labels\n",
    "X = reviews_model_mc['CleantSummary']\n",
    "y = reviews_model_mc['Score']\n",
    "\n",
    "# Split the new DataFrame into training and testing sets.\n",
    "X_train, X_test, y_train, y_test = train_test_split(X, y, test_size=0.30 ,random_state=99)\n",
    "\n",
    "# Use CountVectorizer to convert reviews into matrices\n",
    "vect = CountVectorizer()\n",
    "X_train_dtm = vect.fit_transform(X_train)\n",
    "\n",
    "# equivalent to:\n",
    "# vect.fit(X_train) # words that are on the training set\n",
    "# X_train_dtm = vect.transform(X_train)\n",
    "\n",
    "# Perform the same in test\n",
    "X_test_dtm = vect.transform(X_test)\n",
    "\n",
    "# Use Naive Bayes to predict binary score\n",
    "nb = MultinomialNB()\n",
    "nb.fit(X_train_dtm, y_train)\n",
    "y_pred_class = nb.predict(X_test_dtm)\n",
    "\n",
    "# Calculate accuracy.\n",
    "print((metrics.accuracy_score(y_test, y_pred_class)))"
   ]
  },
  {
   "cell_type": "code",
   "execution_count": 217,
   "id": "2bf82d9f-19b8-4f52-984d-8094dd8fcf31",
   "metadata": {
    "scrolled": true
   },
   "outputs": [
    {
     "data": {
      "text/plain": [
       "Text(50.722222222222214, 0.5, 'Original class')"
      ]
     },
     "execution_count": 217,
     "metadata": {},
     "output_type": "execute_result"
    },
    {
     "data": {
      "image/png": "[encoded data removed]",
      "text/plain": [
       "<Figure size 640x480 with 2 Axes>"
      ]
     },
     "metadata": {},
     "output_type": "display_data"
    }
   ],
   "source": [
    "import seaborn as sns\n",
    "sns.heatmap(confusion_matrix(y_test, y_pred_class), annot=True, fmt='d')\n",
    "plt.title(\"Confusion Matrix: Naive Bayes using Multi-Class classifier\")\n",
    "plt.xlabel('Predicted class')\n",
    "plt.ylabel('Original class')"
   ]
  },
  {
   "cell_type": "markdown",
   "id": "6e290747-594f-425e-9b59-6508262d4268",
   "metadata": {
    "jp-MarkdownHeadingCollapsed": true
   },
   "source": [
    "## Model 5: using just TextSWR and (multi-cass) [0.59]"
   ]
  },
  {
   "cell_type": "code",
   "execution_count": 85,
   "id": "fd9b8122-1714-4a84-93f9-1b2f9d590e8b",
   "metadata": {},
   "outputs": [
    {
     "data": {
      "text/html": [
       "<div>\n",
       "<style scoped>\n",
       "    .dataframe tbody tr th:only-of-type {\n",
       "        vertical-align: middle;\n",
       "    }\n",
       "\n",
       "    .dataframe tbody tr th {\n",
       "        vertical-align: top;\n",
       "    }\n",
       "\n",
       "    .dataframe thead th {\n",
       "        text-align: right;\n",
       "    }\n",
       "</style>\n",
       "<table border=\"1\" class=\"dataframe\">\n",
       "  <thead>\n",
       "    <tr style=\"text-align: right;\">\n",
       "      <th></th>\n",
       "      <th>Score</th>\n",
       "      <th>Text_SWR</th>\n",
       "      <th>tri_class_score</th>\n",
       "    </tr>\n",
       "  </thead>\n",
       "  <tbody>\n",
       "    <tr>\n",
       "      <th>0</th>\n",
       "      <td>4</td>\n",
       "      <td>june saw charming group roses begin droop pepp...</td>\n",
       "      <td>2</td>\n",
       "    </tr>\n",
       "    <tr>\n",
       "      <th>1</th>\n",
       "      <td>4</td>\n",
       "      <td>fun way children learn months year learn poems...</td>\n",
       "      <td>2</td>\n",
       "    </tr>\n",
       "    <tr>\n",
       "      <th>2</th>\n",
       "      <td>4</td>\n",
       "      <td>grew reading sendak books watching really rosi...</td>\n",
       "      <td>2</td>\n",
       "    </tr>\n",
       "    <tr>\n",
       "      <th>3</th>\n",
       "      <td>4</td>\n",
       "      <td>get movie sound track sing along carol king gr...</td>\n",
       "      <td>2</td>\n",
       "    </tr>\n",
       "    <tr>\n",
       "      <th>4</th>\n",
       "      <td>4</td>\n",
       "      <td>entertaining rhyming storycleaver catchythe il...</td>\n",
       "      <td>2</td>\n",
       "    </tr>\n",
       "    <tr>\n",
       "      <th>...</th>\n",
       "      <td>...</td>\n",
       "      <td>...</td>\n",
       "      <td>...</td>\n",
       "    </tr>\n",
       "    <tr>\n",
       "      <th>393587</th>\n",
       "      <td>5</td>\n",
       "      <td>fts zero best sweetener ever tried aftertaste ...</td>\n",
       "      <td>2</td>\n",
       "    </tr>\n",
       "    <tr>\n",
       "      <th>393588</th>\n",
       "      <td>5</td>\n",
       "      <td>try sauce believe starts little sweet honey ta...</td>\n",
       "      <td>2</td>\n",
       "    </tr>\n",
       "    <tr>\n",
       "      <th>393589</th>\n",
       "      <td>5</td>\n",
       "      <td>bought hazelnut paste nocciola spread local sh...</td>\n",
       "      <td>2</td>\n",
       "    </tr>\n",
       "    <tr>\n",
       "      <th>393590</th>\n",
       "      <td>5</td>\n",
       "      <td>purchased product local store kids love quick ...</td>\n",
       "      <td>2</td>\n",
       "    </tr>\n",
       "    <tr>\n",
       "      <th>393591</th>\n",
       "      <td>5</td>\n",
       "      <td>purchased send son whos away college delivered...</td>\n",
       "      <td>2</td>\n",
       "    </tr>\n",
       "  </tbody>\n",
       "</table>\n",
       "<p>393589 rows × 3 columns</p>\n",
       "</div>"
      ],
      "text/plain": [
       "        Score                                           Text_SWR  \\\n",
       "0           4  june saw charming group roses begin droop pepp...   \n",
       "1           4  fun way children learn months year learn poems...   \n",
       "2           4  grew reading sendak books watching really rosi...   \n",
       "3           4  get movie sound track sing along carol king gr...   \n",
       "4           4  entertaining rhyming storycleaver catchythe il...   \n",
       "...       ...                                                ...   \n",
       "393587      5  fts zero best sweetener ever tried aftertaste ...   \n",
       "393588      5  try sauce believe starts little sweet honey ta...   \n",
       "393589      5  bought hazelnut paste nocciola spread local sh...   \n",
       "393590      5  purchased product local store kids love quick ...   \n",
       "393591      5  purchased send son whos away college delivered...   \n",
       "\n",
       "        tri_class_score  \n",
       "0                     2  \n",
       "1                     2  \n",
       "2                     2  \n",
       "3                     2  \n",
       "4                     2  \n",
       "...                 ...  \n",
       "393587                2  \n",
       "393588                2  \n",
       "393589                2  \n",
       "393590                2  \n",
       "393591                2  \n",
       "\n",
       "[393589 rows x 3 columns]"
      ]
     },
     "execution_count": 85,
     "metadata": {},
     "output_type": "execute_result"
    }
   ],
   "source": [
    "reviews_model_mc"
   ]
  },
  {
   "cell_type": "code",
   "execution_count": 39,
   "id": "925eedf7-0309-40c9-ad79-db7ef3a5208f",
   "metadata": {},
   "outputs": [],
   "source": [
    "reviews_model_mc['tri_class_score'] = 0"
   ]
  },
  {
   "cell_type": "code",
   "execution_count": 40,
   "id": "aa05c637-85f2-48e0-885c-88e5b86fa006",
   "metadata": {},
   "outputs": [],
   "source": [
    "reviews_model_mc.loc[reviews_model_mc['Score'] > 3,'tri_class_score'] = 2 # pos\n",
    "reviews_model_mc.loc[reviews_model_mc['Score'] == 3,'tri_class_score'] = 1 # mix\n",
    "reviews_model_mc.loc[reviews_model_mc['Score'] < 3,'tri_class_score'] = 0 # neg"
   ]
  },
  {
   "cell_type": "code",
   "execution_count": 41,
   "id": "3cd128c4-b556-4c93-90a5-2b3951f6b2ae",
   "metadata": {},
   "outputs": [
    {
     "data": {
      "text/plain": [
       "Score              0\n",
       "Text_SWR           0\n",
       "tri_class_score    0\n",
       "dtype: int64"
      ]
     },
     "execution_count": 41,
     "metadata": {},
     "output_type": "execute_result"
    }
   ],
   "source": [
    "reviews_model_mc.isnull().sum()"
   ]
  },
  {
   "cell_type": "code",
   "execution_count": 42,
   "id": "3d36c131-e711-4508-a4c9-53fe8edafaaf",
   "metadata": {},
   "outputs": [],
   "source": [
    "reviews_model_mc.dropna(inplace=True)"
   ]
  },
  {
   "cell_type": "code",
   "execution_count": 43,
   "id": "8c47cfd3-9310-4342-8af5-0108f9e24566",
   "metadata": {},
   "outputs": [
    {
     "name": "stdout",
     "output_type": "stream",
     "text": [
      "0.839680886201377\n"
     ]
    }
   ],
   "source": [
    "# Define training datat and labels\n",
    "X = reviews_model_mc['Text_SWR']\n",
    "y = reviews_model_mc['tri_class_score']\n",
    "\n",
    "# Split the new DataFrame into training and testing sets.\n",
    "X_train, X_test, y_train, y_test = train_test_split(X, y, test_size=0.30 ,random_state=99)\n",
    "\n",
    "# Use CountVectorizer to convert reviews into matrices\n",
    "vect = CountVectorizer()\n",
    "X_train_dtm = vect.fit_transform(X_train)\n",
    "\n",
    "# equivalent to:\n",
    "# vect.fit(X_train) # words that are on the training set\n",
    "# X_train_dtm = vect.transform(X_train)\n",
    "\n",
    "# Perform the same in test\n",
    "X_test_dtm = vect.transform(X_test)\n",
    "\n",
    "# Use Naive Bayes to predict binary score\n",
    "nb = MultinomialNB()\n",
    "nb.fit(X_train_dtm, y_train)\n",
    "y_pred_class = nb.predict(X_test_dtm)\n",
    "\n",
    "# Calculate accuracy.\n",
    "print((metrics.accuracy_score(y_test, y_pred_class)))"
   ]
  },
  {
   "cell_type": "code",
   "execution_count": 44,
   "id": "3c74de95-6751-423a-8a8c-a7a0351ff086",
   "metadata": {
    "scrolled": true
   },
   "outputs": [
    {
     "data": {
      "text/plain": [
       "2    306762\n",
       "0     57070\n",
       "1     29757\n",
       "Name: tri_class_score, dtype: int64"
      ]
     },
     "execution_count": 44,
     "metadata": {},
     "output_type": "execute_result"
    }
   ],
   "source": [
    "reviews_model_mc.tri_class_score.value_counts()"
   ]
  },
  {
   "cell_type": "code",
   "execution_count": 45,
   "id": "8f091fc3-057b-4124-a97c-1d94a94980bf",
   "metadata": {},
   "outputs": [
    {
     "data": {
      "text/plain": [
       "Text(50.722222222222214, 0.5, 'Original class')"
      ]
     },
     "execution_count": 45,
     "metadata": {},
     "output_type": "execute_result"
    },
    {
     "data": {
      "image/png": "[encoded data removed]",
      "text/plain": [
       "<Figure size 640x480 with 2 Axes>"
      ]
     },
     "metadata": {},
     "output_type": "display_data"
    }
   ],
   "source": [
    "import seaborn as sns\n",
    "sns.heatmap(confusion_matrix(y_test, y_pred_class), annot=True, fmt='d')\n",
    "plt.title(\"Confusion Matrix: Naive Bayes using Multi-Class classifier\")\n",
    "plt.xlabel('Predicted class')\n",
    "plt.ylabel('Original class')"
   ]
  },
  {
   "cell_type": "code",
   "execution_count": null,
   "id": "81a6a535-f185-4ec4-8d4d-bcfda43ada91",
   "metadata": {},
   "outputs": [],
   "source": [
    "# This model could be the best according all factors because:\n",
    "    # It does not assign mixed reviews to class 0 (negative) nor it removes them (last classifier)\n",
    "    # It works pretty decently on positive (2) and negative (0) classes\n",
    "    # It clearly shows mixed reviews are, although equally, classified as any type of Score, in contrast to what happens with\n",
    "        # positive and negative reviews"
   ]
  },
  {
   "cell_type": "code",
   "execution_count": 46,
   "id": "04f8be15-9ffc-4f67-af62-b869fe73633f",
   "metadata": {},
   "outputs": [
    {
     "name": "stdout",
     "output_type": "stream",
     "text": [
      "              precision    recall  f1-score   support\n",
      "\n",
      "           0       0.66      0.63      0.64     17061\n",
      "           1       0.35      0.16      0.22      8942\n",
      "           2       0.89      0.95      0.92     92074\n",
      "\n",
      "    accuracy                           0.84    118077\n",
      "   macro avg       0.64      0.58      0.59    118077\n",
      "weighted avg       0.82      0.84      0.82    118077\n",
      "\n"
     ]
    }
   ],
   "source": [
    "print(classification_report(y_test, y_pred_class))\n",
    "# It looks like it's clear when a negative review or positive are such, but it's confusing on mixed reviews"
   ]
  },
  {
   "cell_type": "markdown",
   "id": "55fc29d3-8c2a-45b2-a087-bf32af8e1555",
   "metadata": {
    "jp-MarkdownHeadingCollapsed": true
   },
   "source": [
    "## Model 6: using just TextSWR (binary, removing mixed reviews) [0.83]"
   ]
  },
  {
   "cell_type": "code",
   "execution_count": 8,
   "id": "8670099e-1432-48a6-95f9-6e63a4826730",
   "metadata": {},
   "outputs": [],
   "source": [
    "reviews_model_mc = reviews_cleant.drop(['Unnamed: 0', 'Id', 'ProductId', 'UserId', 'ProfileName',\n",
    "       'HelpfulnessNumerator', 'HelpfulnessDenominator', 'binary_score', 'Time',\n",
    "       'Summary', 'Text', 'DateTime', 'Popularity', 'Year',\n",
    "       'CleantText'], axis=1)"
   ]
  },
  {
   "cell_type": "code",
   "execution_count": 263,
   "id": "d892ecbd-526c-49b7-aead-1a32fbfee43a",
   "metadata": {},
   "outputs": [],
   "source": [
    "reviews_bin = reviews_model_mc[(reviews_model_mc['Score'] > 3) | (reviews_model_mc['Score'] < 3)]"
   ]
  },
  {
   "cell_type": "code",
   "execution_count": 260,
   "id": "5751aa42-9b52-4925-9b02-59cbb9438b73",
   "metadata": {},
   "outputs": [
    {
     "data": {
      "text/plain": [
       "5    250730\n",
       "4     56035\n",
       "1     36279\n",
       "2     20791\n",
       "Name: Score, dtype: int64"
      ]
     },
     "execution_count": 260,
     "metadata": {},
     "output_type": "execute_result"
    }
   ],
   "source": [
    "reviews_bin.Score.value_counts()"
   ]
  },
  {
   "cell_type": "code",
   "execution_count": 264,
   "id": "1adc55a5-d0aa-496e-969d-079065221140",
   "metadata": {},
   "outputs": [
    {
     "name": "stderr",
     "output_type": "stream",
     "text": [
      "C:\\Users\\jordi.burgues.miro\\AppData\\Local\\Temp\\ipykernel_14788\\3450657283.py:1: SettingWithCopyWarning: \n",
      "A value is trying to be set on a copy of a slice from a DataFrame.\n",
      "Try using .loc[row_indexer,col_indexer] = value instead\n",
      "\n",
      "See the caveats in the documentation: https://pandas.pydata.org/pandas-docs/stable/user_guide/indexing.html#returning-a-view-versus-a-copy\n",
      "  reviews_bin['bin_score']= 0\n"
     ]
    }
   ],
   "source": [
    "reviews_bin['bin_score']= 0\n"
   ]
  },
  {
   "cell_type": "code",
   "execution_count": 265,
   "id": "299b71b7-9b68-4879-90d1-ba570efe829c",
   "metadata": {},
   "outputs": [],
   "source": [
    "reviews_bin.loc[reviews_bin['Score'] > 3,'bin_score'] = 1 # pos\n",
    "reviews_bin.loc[reviews_bin['Score'] < 3,'bin_score'] = 0 # neg"
   ]
  },
  {
   "cell_type": "code",
   "execution_count": 267,
   "id": "178b590a-68d7-427f-a3d1-f5d2a6b5a11c",
   "metadata": {},
   "outputs": [
    {
     "data": {
      "text/plain": [
       "1    306765\n",
       "0     57070\n",
       "Name: bin_score, dtype: int64"
      ]
     },
     "execution_count": 267,
     "metadata": {},
     "output_type": "execute_result"
    }
   ],
   "source": [
    "reviews_bin.bin_score.value_counts()"
   ]
  },
  {
   "cell_type": "code",
   "execution_count": 271,
   "id": "6023db85-c02d-4f53-bc2f-c9169b772c60",
   "metadata": {},
   "outputs": [
    {
     "name": "stderr",
     "output_type": "stream",
     "text": [
      "C:\\Users\\jordi.burgues.miro\\AppData\\Local\\Temp\\ipykernel_14788\\1584717898.py:1: SettingWithCopyWarning: \n",
      "A value is trying to be set on a copy of a slice from a DataFrame\n",
      "\n",
      "See the caveats in the documentation: https://pandas.pydata.org/pandas-docs/stable/user_guide/indexing.html#returning-a-view-versus-a-copy\n",
      "  reviews_bin.dropna(inplace=True)\n"
     ]
    }
   ],
   "source": [
    "reviews_bin.dropna(inplace=True)"
   ]
  },
  {
   "cell_type": "code",
   "execution_count": 275,
   "id": "a2ef2e03-fa19-46a7-b6aa-bfa40b67fe1f",
   "metadata": {},
   "outputs": [
    {
     "name": "stdout",
     "output_type": "stream",
     "text": [
      "0.9135135135135135\n"
     ]
    },
    {
     "data": {
      "text/plain": [
       "Text(50.722222222222214, 0.5, 'Original class')"
      ]
     },
     "execution_count": 275,
     "metadata": {},
     "output_type": "execute_result"
    },
    {
     "data": {
      "image/png": "[encoded data removed]",
      "text/plain": [
       "<Figure size 640x480 with 2 Axes>"
      ]
     },
     "metadata": {},
     "output_type": "display_data"
    }
   ],
   "source": [
    "# Define training datat and labels\n",
    "X = reviews_bin['Text_SWR']\n",
    "y = reviews_bin['bin_score']\n",
    "\n",
    "# Split the new DataFrame into training and testing sets.\n",
    "X_train, X_test, y_train, y_test = train_test_split(X, y, test_size=0.30 ,random_state=99)\n",
    "\n",
    "# Use CountVectorizer to convert reviews into matrices\n",
    "vect = CountVectorizer()\n",
    "X_train_dtm = vect.fit_transform(X_train)\n",
    "\n",
    "# Perform the same in test\n",
    "X_test_dtm = vect.transform(X_test)\n",
    "\n",
    "# Use Naive Bayes to predict binary score\n",
    "nb = MultinomialNB()\n",
    "nb.fit(X_train_dtm, y_train)\n",
    "y_pred_class = nb.predict(X_test_dtm)\n",
    "\n",
    "# Calculate accuracy.\n",
    "print((metrics.accuracy_score(y_test, y_pred_class)))\n",
    "\n",
    "sns.heatmap(confusion_matrix(y_test, y_pred_class), annot=True, fmt='d')\n",
    "plt.title(\"Confusion Matrix: Naive Bayes using binary classifier\")\n",
    "plt.xlabel('Predicted class')\n",
    "plt.ylabel('Original class')"
   ]
  },
  {
   "cell_type": "code",
   "execution_count": 273,
   "id": "b9113064-5771-4078-b9fb-9ea18d79a969",
   "metadata": {},
   "outputs": [
    {
     "name": "stdout",
     "output_type": "stream",
     "text": [
      "              precision    recall  f1-score   support\n",
      "\n",
      "           0       0.76      0.66      0.71     17129\n",
      "           1       0.94      0.96      0.95     92021\n",
      "\n",
      "    accuracy                           0.91    109150\n",
      "   macro avg       0.85      0.81      0.83    109150\n",
      "weighted avg       0.91      0.91      0.91    109150\n",
      "\n"
     ]
    }
   ],
   "source": [
    "print(classification_report(y_test, y_pred_class))"
   ]
  },
  {
   "cell_type": "code",
   "execution_count": 274,
   "id": "6108f78c-2de8-46ca-9abc-fb049efa435f",
   "metadata": {},
   "outputs": [
    {
     "data": {
      "text/plain": [
       "0.9109911493532648"
      ]
     },
     "execution_count": 274,
     "metadata": {},
     "output_type": "execute_result"
    }
   ],
   "source": [
    "metrics.f1_score(y_test, y_pred_class, average='weighted')"
   ]
  },
  {
   "cell_type": "markdown",
   "id": "25726fff-68f7-45be-b246-652fc8150f23",
   "metadata": {
    "jp-MarkdownHeadingCollapsed": true
   },
   "source": [
    "## Model using Word2Vec as Vectorizer() [0.54]"
   ]
  },
  {
   "cell_type": "code",
   "execution_count": 28,
   "id": "4b56ff9c-1158-4322-bfac-4c8991180d6d",
   "metadata": {},
   "outputs": [],
   "source": [
    "from sklearn.model_selection import train_test_split\n",
    "from sklearn.linear_model import LogisticRegression\n",
    "from sklearn.metrics import accuracy_score\n",
    "from gensim.models import Word2Vec\n",
    "from nltk.tokenize import word_tokenize\n",
    "import numpy as np"
   ]
  },
  {
   "cell_type": "code",
   "execution_count": 12,
   "id": "200d983c-3bac-4c06-9cb8-2fe1347386c9",
   "metadata": {},
   "outputs": [],
   "source": [
    "# Get best 'dataset' to date\n",
    "reviews_model_mc = reviews_cleant.drop(['Unnamed: 0', 'Id', 'ProductId', 'UserId', 'ProfileName',\n",
    "       'HelpfulnessNumerator', 'HelpfulnessDenominator', 'binary_score', 'Time',\n",
    "       'Summary', 'Text', 'DateTime', 'Popularity', 'Year',\n",
    "       'CleantText'], axis=1)"
   ]
  },
  {
   "cell_type": "code",
   "execution_count": 13,
   "id": "b58c92a7-1720-458f-8c80-c4eaf0c122e1",
   "metadata": {},
   "outputs": [],
   "source": [
    "# Drop Nans and reconfigure data\n",
    "reviews_model_mc.dropna(inplace=True)\n",
    "reviews_model_mc['tri_class_score'] = 0\n",
    "\n",
    "reviews_model_mc.loc[reviews_model_mc['Score'] > 3,'tri_class_score'] = 2 # pos\n",
    "reviews_model_mc.loc[reviews_model_mc['Score'] == 3,'tri_class_score'] = 1 # mix\n",
    "reviews_model_mc.loc[reviews_model_mc['Score'] < 3,'tri_class_score'] = 0 # neg"
   ]
  },
  {
   "cell_type": "code",
   "execution_count": 35,
   "id": "28574da9-cbcf-4d55-a1eb-dfbc54050cbf",
   "metadata": {},
   "outputs": [],
   "source": [
    "# Define training datat and labels\n",
    "X = reviews_model_mc['Text_SWR']\n",
    "y = reviews_model_mc['tri_class_score']\n",
    "\n",
    "# Split the new DataFrame into training and testing sets.\n",
    "X_train, X_test, y_train, y_test = train_test_split(X, y, test_size=0.30 ,random_state=99)"
   ]
  },
  {
   "cell_type": "code",
   "execution_count": 36,
   "id": "f66bc94f-9617-477e-83ed-a5002ac55df3",
   "metadata": {},
   "outputs": [
    {
     "data": {
      "text/plain": [
       "(2    214688\n",
       " 0     40009\n",
       " 1     20815\n",
       " Name: tri_class_score, dtype: int64,\n",
       " 2    92074\n",
       " 0    17061\n",
       " 1     8942\n",
       " Name: tri_class_score, dtype: int64)"
      ]
     },
     "execution_count": 36,
     "metadata": {},
     "output_type": "execute_result"
    }
   ],
   "source": [
    "y_train.value_counts(), y_test.value_counts()"
   ]
  },
  {
   "cell_type": "code",
   "execution_count": 37,
   "id": "544ceb6e-2341-4d26-8a00-745626dc3bc5",
   "metadata": {},
   "outputs": [],
   "source": [
    "# Create word embeddings using Word2Vec\n",
    "tokenized_text = [word_tokenize(text.lower()) for text in X_train]\n",
    "word2vec_model = Word2Vec(sentences=tokenized_text, vector_size=100, window=5, min_count=1, workers=4)"
   ]
  },
  {
   "cell_type": "code",
   "execution_count": 38,
   "id": "6b30b89d-5936-4bb4-b7d7-106effb6ae13",
   "metadata": {},
   "outputs": [
    {
     "data": {
      "text/plain": [
       "275512"
      ]
     },
     "execution_count": 38,
     "metadata": {},
     "output_type": "execute_result"
    }
   ],
   "source": [
    "len(tokenized_text)"
   ]
  },
  {
   "cell_type": "code",
   "execution_count": 41,
   "id": "461eead7-dc8e-4082-aaeb-8f84918441b2",
   "metadata": {},
   "outputs": [],
   "source": [
    "def vectorize_text(text, model):\n",
    "    tokens = word_tokenize(text.lower())\n",
    "    vectorized = np.vstack([model.wv[token] for token in tokens if token in model.wv])\n",
    "    \n",
    "    if vectorized.size == 0:\n",
    "        return np.zeros(model.vector_size, dtype=np.float32)\n",
    "    \n",
    "    return np.mean(vectorized, axis=0)"
   ]
  },
  {
   "cell_type": "code",
   "execution_count": 63,
   "id": "5185daa4-82e6-44ba-8eab-c87dcf903777",
   "metadata": {},
   "outputs": [],
   "source": [
    "import numpy as np\n",
    "\n",
    "def vectorize_text(text, model):\n",
    "    tokens = word_tokenize(text.lower())\n",
    "    \n",
    "    # Create a set intersection to filter tokens in the model's vocabulary\n",
    "    valid_tokens = set(tokens) & set(model.wv.key_to_index)\n",
    "    \n",
    "    if not valid_tokens:\n",
    "        return np.zeros(model.vector_size, dtype=np.float32)\n",
    "    \n",
    "    # Use vstack to concatenate the word vectors\n",
    "    vectorized = np.vstack(model.wv.get_vector(token) for token in valid_tokens)\n",
    "    \n",
    "    # Check if vectorized is empty before calculating the mean\n",
    "    if vectorized.size == 0:\n",
    "        return np.zeros(model.vector_size, dtype=np.float32)\n",
    "    \n",
    "    # Calculate the mean along the specified axis\n",
    "    return np.mean(vectorized, axis=0)\n"
   ]
  },
  {
   "cell_type": "code",
   "execution_count": 43,
   "id": "031c4937-9b9b-4d8e-93e6-e102fa91a402",
   "metadata": {},
   "outputs": [],
   "source": [
    "# 244 seconds"
   ]
  },
  {
   "cell_type": "code",
   "execution_count": 42,
   "id": "0810de12-6fb2-4c66-9d8a-77b5a59db1f3",
   "metadata": {},
   "outputs": [],
   "source": [
    "# Vectorize train data\n",
    "train_vectors = X_train.apply(lambda x: vectorize_text(x, word2vec_model))"
   ]
  },
  {
   "cell_type": "code",
   "execution_count": 44,
   "id": "ab6af9a7-8679-427c-82ad-ab060c1cfcc0",
   "metadata": {},
   "outputs": [
    {
     "data": {
      "text/plain": [
       "275512"
      ]
     },
     "execution_count": 44,
     "metadata": {},
     "output_type": "execute_result"
    }
   ],
   "source": [
    "len(train_vectors)"
   ]
  },
  {
   "cell_type": "code",
   "execution_count": 66,
   "id": "34bde2c1-43ba-4f37-982b-ec8cfcb4d282",
   "metadata": {},
   "outputs": [
    {
     "name": "stderr",
     "output_type": "stream",
     "text": [
      "C:\\Users\\jordi.burgues.miro\\AppData\\Local\\Temp\\ipykernel_13628\\4250812691.py:13: FutureWarning: arrays to stack must be passed as a \"sequence\" type such as list or tuple. Support for non-sequence iterables such as generators is deprecated as of NumPy 1.16 and will raise an error in the future.\n",
      "  vectorized = np.vstack(model.wv.get_vector(token) for token in valid_tokens)\n"
     ]
    }
   ],
   "source": [
    "# Getting all test set takes a lot\n",
    "test_vectors = X_test[0:1000].apply(lambda x: vectorize_text(x, word2vec_model))"
   ]
  },
  {
   "cell_type": "code",
   "execution_count": 76,
   "id": "45fcc72e-4d58-46cf-ad4e-6b0c5a07c487",
   "metadata": {},
   "outputs": [
    {
     "name": "stderr",
     "output_type": "stream",
     "text": [
      "C:\\Users\\jordi.burgues.miro\\AppData\\Local\\Temp\\ipykernel_13628\\4250812691.py:13: FutureWarning: arrays to stack must be passed as a \"sequence\" type such as list or tuple. Support for non-sequence iterables such as generators is deprecated as of NumPy 1.16 and will raise an error in the future.\n",
      "  vectorized = np.vstack(model.wv.get_vector(token) for token in valid_tokens)\n"
     ]
    }
   ],
   "source": [
    "# Getting all test set takes a lot\n",
    "test_vectors = X_test[111111:112111].apply(lambda x: vectorize_text(x, word2vec_model))"
   ]
  },
  {
   "cell_type": "code",
   "execution_count": 49,
   "id": "4319d677-1c45-4818-b9e6-ef713417e3aa",
   "metadata": {},
   "outputs": [],
   "source": [
    "train_vectors = list(train_vectors)"
   ]
  },
  {
   "cell_type": "code",
   "execution_count": 77,
   "id": "8de07525-03e1-4a73-8413-3f448323a0f1",
   "metadata": {},
   "outputs": [],
   "source": [
    "test_vectors = list(test_vectors)"
   ]
  },
  {
   "cell_type": "code",
   "execution_count": 51,
   "id": "fff6f079-6f5d-4256-8dd9-f9e82c7fc17c",
   "metadata": {},
   "outputs": [
    {
     "data": {
      "text/html": [
       "<style>#sk-container-id-1 {\n",
       "  /* Definition of color scheme common for light and dark mode */\n",
       "  --sklearn-color-text: black;\n",
       "  --sklearn-color-line: gray;\n",
       "  /* Definition of color scheme for unfitted estimators */\n",
       "  --sklearn-color-unfitted-level-0: #fff5e6;\n",
       "  --sklearn-color-unfitted-level-1: #f6e4d2;\n",
       "  --sklearn-color-unfitted-level-2: #ffe0b3;\n",
       "  --sklearn-color-unfitted-level-3: chocolate;\n",
       "  /* Definition of color scheme for fitted estimators */\n",
       "  --sklearn-color-fitted-level-0: #f0f8ff;\n",
       "  --sklearn-color-fitted-level-1: #d4ebff;\n",
       "  --sklearn-color-fitted-level-2: #b3dbfd;\n",
       "  --sklearn-color-fitted-level-3: cornflowerblue;\n",
       "\n",
       "  /* Specific color for light theme */\n",
       "  --sklearn-color-text-on-default-background: var(--sg-text-color, var(--theme-code-foreground, var(--jp-content-font-color1, black)));\n",
       "  --sklearn-color-background: var(--sg-background-color, var(--theme-background, var(--jp-layout-color0, white)));\n",
       "  --sklearn-color-border-box: var(--sg-text-color, var(--theme-code-foreground, var(--jp-content-font-color1, black)));\n",
       "  --sklearn-color-icon: #696969;\n",
       "\n",
       "  @media (prefers-color-scheme: dark) {\n",
       "    /* Redefinition of color scheme for dark theme */\n",
       "    --sklearn-color-text-on-default-background: var(--sg-text-color, var(--theme-code-foreground, var(--jp-content-font-color1, white)));\n",
       "    --sklearn-color-background: var(--sg-background-color, var(--theme-background, var(--jp-layout-color0, #111)));\n",
       "    --sklearn-color-border-box: var(--sg-text-color, var(--theme-code-foreground, var(--jp-content-font-color1, white)));\n",
       "    --sklearn-color-icon: #878787;\n",
       "  }\n",
       "}\n",
       "\n",
       "#sk-container-id-1 {\n",
       "  color: var(--sklearn-color-text);\n",
       "}\n",
       "\n",
       "#sk-container-id-1 pre {\n",
       "  padding: 0;\n",
       "}\n",
       "\n",
       "#sk-container-id-1 input.sk-hidden--visually {\n",
       "  border: 0;\n",
       "  clip: rect(1px 1px 1px 1px);\n",
       "  clip: rect(1px, 1px, 1px, 1px);\n",
       "  height: 1px;\n",
       "  margin: -1px;\n",
       "  overflow: hidden;\n",
       "  padding: 0;\n",
       "  position: absolute;\n",
       "  width: 1px;\n",
       "}\n",
       "\n",
       "#sk-container-id-1 div.sk-dashed-wrapped {\n",
       "  border: 1px dashed var(--sklearn-color-line);\n",
       "  margin: 0 0.4em 0.5em 0.4em;\n",
       "  box-sizing: border-box;\n",
       "  padding-bottom: 0.4em;\n",
       "  background-color: var(--sklearn-color-background);\n",
       "}\n",
       "\n",
       "#sk-container-id-1 div.sk-container {\n",
       "  /* jupyter's `normalize.less` sets `[hidden] { display: none; }`\n",
       "     but bootstrap.min.css set `[hidden] { display: none !important; }`\n",
       "     so we also need the `!important` here to be able to override the\n",
       "     default hidden behavior on the sphinx rendered scikit-learn.org.\n",
       "     See: https://github.com/scikit-learn/scikit-learn/issues/21755 */\n",
       "  display: inline-block !important;\n",
       "  position: relative;\n",
       "}\n",
       "\n",
       "#sk-container-id-1 div.sk-text-repr-fallback {\n",
       "  display: none;\n",
       "}\n",
       "\n",
       "div.sk-parallel-item,\n",
       "div.sk-serial,\n",
       "div.sk-item {\n",
       "  /* draw centered vertical line to link estimators */\n",
       "  background-image: linear-gradient(var(--sklearn-color-text-on-default-background), var(--sklearn-color-text-on-default-background));\n",
       "  background-size: 2px 100%;\n",
       "  background-repeat: no-repeat;\n",
       "  background-position: center center;\n",
       "}\n",
       "\n",
       "/* Parallel-specific style estimator block */\n",
       "\n",
       "#sk-container-id-1 div.sk-parallel-item::after {\n",
       "  content: \"\";\n",
       "  width: 100%;\n",
       "  border-bottom: 2px solid var(--sklearn-color-text-on-default-background);\n",
       "  flex-grow: 1;\n",
       "}\n",
       "\n",
       "#sk-container-id-1 div.sk-parallel {\n",
       "  display: flex;\n",
       "  align-items: stretch;\n",
       "  justify-content: center;\n",
       "  background-color: var(--sklearn-color-background);\n",
       "  position: relative;\n",
       "}\n",
       "\n",
       "#sk-container-id-1 div.sk-parallel-item {\n",
       "  display: flex;\n",
       "  flex-direction: column;\n",
       "}\n",
       "\n",
       "#sk-container-id-1 div.sk-parallel-item:first-child::after {\n",
       "  align-self: flex-end;\n",
       "  width: 50%;\n",
       "}\n",
       "\n",
       "#sk-container-id-1 div.sk-parallel-item:last-child::after {\n",
       "  align-self: flex-start;\n",
       "  width: 50%;\n",
       "}\n",
       "\n",
       "#sk-container-id-1 div.sk-parallel-item:only-child::after {\n",
       "  width: 0;\n",
       "}\n",
       "\n",
       "/* Serial-specific style estimator block */\n",
       "\n",
       "#sk-container-id-1 div.sk-serial {\n",
       "  display: flex;\n",
       "  flex-direction: column;\n",
       "  align-items: center;\n",
       "  background-color: var(--sklearn-color-background);\n",
       "  padding-right: 1em;\n",
       "  padding-left: 1em;\n",
       "}\n",
       "\n",
       "\n",
       "/* Toggleable style: style used for estimator/Pipeline/ColumnTransformer box that is\n",
       "clickable and can be expanded/collapsed.\n",
       "- Pipeline and ColumnTransformer use this feature and define the default style\n",
       "- Estimators will overwrite some part of the style using the `sk-estimator` class\n",
       "*/\n",
       "\n",
       "/* Pipeline and ColumnTransformer style (default) */\n",
       "\n",
       "#sk-container-id-1 div.sk-toggleable {\n",
       "  /* Default theme specific background. It is overwritten whether we have a\n",
       "  specific estimator or a Pipeline/ColumnTransformer */\n",
       "  background-color: var(--sklearn-color-background);\n",
       "}\n",
       "\n",
       "/* Toggleable label */\n",
       "#sk-container-id-1 label.sk-toggleable__label {\n",
       "  cursor: pointer;\n",
       "  display: block;\n",
       "  width: 100%;\n",
       "  margin-bottom: 0;\n",
       "  padding: 0.5em;\n",
       "  box-sizing: border-box;\n",
       "  text-align: center;\n",
       "}\n",
       "\n",
       "#sk-container-id-1 label.sk-toggleable__label-arrow:before {\n",
       "  /* Arrow on the left of the label */\n",
       "  content: \"▸\";\n",
       "  float: left;\n",
       "  margin-right: 0.25em;\n",
       "  color: var(--sklearn-color-icon);\n",
       "}\n",
       "\n",
       "#sk-container-id-1 label.sk-toggleable__label-arrow:hover:before {\n",
       "  color: var(--sklearn-color-text);\n",
       "}\n",
       "\n",
       "/* Toggleable content - dropdown */\n",
       "\n",
       "#sk-container-id-1 div.sk-toggleable__content {\n",
       "  max-height: 0;\n",
       "  max-width: 0;\n",
       "  overflow: hidden;\n",
       "  text-align: left;\n",
       "  /* unfitted */\n",
       "  background-color: var(--sklearn-color-unfitted-level-0);\n",
       "}\n",
       "\n",
       "#sk-container-id-1 div.sk-toggleable__content.fitted {\n",
       "  /* fitted */\n",
       "  background-color: var(--sklearn-color-fitted-level-0);\n",
       "}\n",
       "\n",
       "#sk-container-id-1 div.sk-toggleable__content pre {\n",
       "  margin: 0.2em;\n",
       "  border-radius: 0.25em;\n",
       "  color: var(--sklearn-color-text);\n",
       "  /* unfitted */\n",
       "  background-color: var(--sklearn-color-unfitted-level-0);\n",
       "}\n",
       "\n",
       "#sk-container-id-1 div.sk-toggleable__content.fitted pre {\n",
       "  /* unfitted */\n",
       "  background-color: var(--sklearn-color-fitted-level-0);\n",
       "}\n",
       "\n",
       "#sk-container-id-1 input.sk-toggleable__control:checked~div.sk-toggleable__content {\n",
       "  /* Expand drop-down */\n",
       "  max-height: 200px;\n",
       "  max-width: 100%;\n",
       "  overflow: auto;\n",
       "}\n",
       "\n",
       "#sk-container-id-1 input.sk-toggleable__control:checked~label.sk-toggleable__label-arrow:before {\n",
       "  content: \"▾\";\n",
       "}\n",
       "\n",
       "/* Pipeline/ColumnTransformer-specific style */\n",
       "\n",
       "#sk-container-id-1 div.sk-label input.sk-toggleable__control:checked~label.sk-toggleable__label {\n",
       "  color: var(--sklearn-color-text);\n",
       "  background-color: var(--sklearn-color-unfitted-level-2);\n",
       "}\n",
       "\n",
       "#sk-container-id-1 div.sk-label.fitted input.sk-toggleable__control:checked~label.sk-toggleable__label {\n",
       "  background-color: var(--sklearn-color-fitted-level-2);\n",
       "}\n",
       "\n",
       "/* Estimator-specific style */\n",
       "\n",
       "/* Colorize estimator box */\n",
       "#sk-container-id-1 div.sk-estimator input.sk-toggleable__control:checked~label.sk-toggleable__label {\n",
       "  /* unfitted */\n",
       "  background-color: var(--sklearn-color-unfitted-level-2);\n",
       "}\n",
       "\n",
       "#sk-container-id-1 div.sk-estimator.fitted input.sk-toggleable__control:checked~label.sk-toggleable__label {\n",
       "  /* fitted */\n",
       "  background-color: var(--sklearn-color-fitted-level-2);\n",
       "}\n",
       "\n",
       "#sk-container-id-1 div.sk-label label.sk-toggleable__label,\n",
       "#sk-container-id-1 div.sk-label label {\n",
       "  /* The background is the default theme color */\n",
       "  color: var(--sklearn-color-text-on-default-background);\n",
       "}\n",
       "\n",
       "/* On hover, darken the color of the background */\n",
       "#sk-container-id-1 div.sk-label:hover label.sk-toggleable__label {\n",
       "  color: var(--sklearn-color-text);\n",
       "  background-color: var(--sklearn-color-unfitted-level-2);\n",
       "}\n",
       "\n",
       "/* Label box, darken color on hover, fitted */\n",
       "#sk-container-id-1 div.sk-label.fitted:hover label.sk-toggleable__label.fitted {\n",
       "  color: var(--sklearn-color-text);\n",
       "  background-color: var(--sklearn-color-fitted-level-2);\n",
       "}\n",
       "\n",
       "/* Estimator label */\n",
       "\n",
       "#sk-container-id-1 div.sk-label label {\n",
       "  font-family: monospace;\n",
       "  font-weight: bold;\n",
       "  display: inline-block;\n",
       "  line-height: 1.2em;\n",
       "}\n",
       "\n",
       "#sk-container-id-1 div.sk-label-container {\n",
       "  text-align: center;\n",
       "}\n",
       "\n",
       "/* Estimator-specific */\n",
       "#sk-container-id-1 div.sk-estimator {\n",
       "  font-family: monospace;\n",
       "  border: 1px dotted var(--sklearn-color-border-box);\n",
       "  border-radius: 0.25em;\n",
       "  box-sizing: border-box;\n",
       "  margin-bottom: 0.5em;\n",
       "  /* unfitted */\n",
       "  background-color: var(--sklearn-color-unfitted-level-0);\n",
       "}\n",
       "\n",
       "#sk-container-id-1 div.sk-estimator.fitted {\n",
       "  /* fitted */\n",
       "  background-color: var(--sklearn-color-fitted-level-0);\n",
       "}\n",
       "\n",
       "/* on hover */\n",
       "#sk-container-id-1 div.sk-estimator:hover {\n",
       "  /* unfitted */\n",
       "  background-color: var(--sklearn-color-unfitted-level-2);\n",
       "}\n",
       "\n",
       "#sk-container-id-1 div.sk-estimator.fitted:hover {\n",
       "  /* fitted */\n",
       "  background-color: var(--sklearn-color-fitted-level-2);\n",
       "}\n",
       "\n",
       "/* Specification for estimator info (e.g. \"i\" and \"?\") */\n",
       "\n",
       "/* Common style for \"i\" and \"?\" */\n",
       "\n",
       ".sk-estimator-doc-link,\n",
       "a:link.sk-estimator-doc-link,\n",
       "a:visited.sk-estimator-doc-link {\n",
       "  float: right;\n",
       "  font-size: smaller;\n",
       "  line-height: 1em;\n",
       "  font-family: monospace;\n",
       "  background-color: var(--sklearn-color-background);\n",
       "  border-radius: 1em;\n",
       "  height: 1em;\n",
       "  width: 1em;\n",
       "  text-decoration: none !important;\n",
       "  margin-left: 1ex;\n",
       "  /* unfitted */\n",
       "  border: var(--sklearn-color-unfitted-level-1) 1pt solid;\n",
       "  color: var(--sklearn-color-unfitted-level-1);\n",
       "}\n",
       "\n",
       ".sk-estimator-doc-link.fitted,\n",
       "a:link.sk-estimator-doc-link.fitted,\n",
       "a:visited.sk-estimator-doc-link.fitted {\n",
       "  /* fitted */\n",
       "  border: var(--sklearn-color-fitted-level-1) 1pt solid;\n",
       "  color: var(--sklearn-color-fitted-level-1);\n",
       "}\n",
       "\n",
       "/* On hover */\n",
       "div.sk-estimator:hover .sk-estimator-doc-link:hover,\n",
       ".sk-estimator-doc-link:hover,\n",
       "div.sk-label-container:hover .sk-estimator-doc-link:hover,\n",
       ".sk-estimator-doc-link:hover {\n",
       "  /* unfitted */\n",
       "  background-color: var(--sklearn-color-unfitted-level-3);\n",
       "  color: var(--sklearn-color-background);\n",
       "  text-decoration: none;\n",
       "}\n",
       "\n",
       "div.sk-estimator.fitted:hover .sk-estimator-doc-link.fitted:hover,\n",
       ".sk-estimator-doc-link.fitted:hover,\n",
       "div.sk-label-container:hover .sk-estimator-doc-link.fitted:hover,\n",
       ".sk-estimator-doc-link.fitted:hover {\n",
       "  /* fitted */\n",
       "  background-color: var(--sklearn-color-fitted-level-3);\n",
       "  color: var(--sklearn-color-background);\n",
       "  text-decoration: none;\n",
       "}\n",
       "\n",
       "/* Span, style for the box shown on hovering the info icon */\n",
       ".sk-estimator-doc-link span {\n",
       "  display: none;\n",
       "  z-index: 9999;\n",
       "  position: relative;\n",
       "  font-weight: normal;\n",
       "  right: .2ex;\n",
       "  padding: .5ex;\n",
       "  margin: .5ex;\n",
       "  width: min-content;\n",
       "  min-width: 20ex;\n",
       "  max-width: 50ex;\n",
       "  color: var(--sklearn-color-text);\n",
       "  box-shadow: 2pt 2pt 4pt #999;\n",
       "  /* unfitted */\n",
       "  background: var(--sklearn-color-unfitted-level-0);\n",
       "  border: .5pt solid var(--sklearn-color-unfitted-level-3);\n",
       "}\n",
       "\n",
       ".sk-estimator-doc-link.fitted span {\n",
       "  /* fitted */\n",
       "  background: var(--sklearn-color-fitted-level-0);\n",
       "  border: var(--sklearn-color-fitted-level-3);\n",
       "}\n",
       "\n",
       ".sk-estimator-doc-link:hover span {\n",
       "  display: block;\n",
       "}\n",
       "\n",
       "/* \"?\"-specific style due to the `<a>` HTML tag */\n",
       "\n",
       "#sk-container-id-1 a.estimator_doc_link {\n",
       "  float: right;\n",
       "  font-size: 1rem;\n",
       "  line-height: 1em;\n",
       "  font-family: monospace;\n",
       "  background-color: var(--sklearn-color-background);\n",
       "  border-radius: 1rem;\n",
       "  height: 1rem;\n",
       "  width: 1rem;\n",
       "  text-decoration: none;\n",
       "  /* unfitted */\n",
       "  color: var(--sklearn-color-unfitted-level-1);\n",
       "  border: var(--sklearn-color-unfitted-level-1) 1pt solid;\n",
       "}\n",
       "\n",
       "#sk-container-id-1 a.estimator_doc_link.fitted {\n",
       "  /* fitted */\n",
       "  border: var(--sklearn-color-fitted-level-1) 1pt solid;\n",
       "  color: var(--sklearn-color-fitted-level-1);\n",
       "}\n",
       "\n",
       "/* On hover */\n",
       "#sk-container-id-1 a.estimator_doc_link:hover {\n",
       "  /* unfitted */\n",
       "  background-color: var(--sklearn-color-unfitted-level-3);\n",
       "  color: var(--sklearn-color-background);\n",
       "  text-decoration: none;\n",
       "}\n",
       "\n",
       "#sk-container-id-1 a.estimator_doc_link.fitted:hover {\n",
       "  /* fitted */\n",
       "  background-color: var(--sklearn-color-fitted-level-3);\n",
       "}\n",
       "</style><div id=\"sk-container-id-1\" class=\"sk-top-container\"><div class=\"sk-text-repr-fallback\"><pre>LogisticRegression()</pre><b>In a Jupyter environment, please rerun this cell to show the HTML representation or trust the notebook. <br />On GitHub, the HTML representation is unable to render, please try loading this page with nbviewer.org.</b></div><div class=\"sk-container\" hidden><div class=\"sk-item\"><div class=\"sk-estimator fitted sk-toggleable\"><input class=\"sk-toggleable__control sk-hidden--visually\" id=\"sk-estimator-id-1\" type=\"checkbox\" checked><label for=\"sk-estimator-id-1\" class=\"sk-toggleable__label fitted sk-toggleable__label-arrow fitted\">&nbsp;&nbsp;LogisticRegression<a class=\"sk-estimator-doc-link fitted\" rel=\"noreferrer\" target=\"_blank\" href=\"https://scikit-learn.org/1.4/modules/generated/sklearn.linear_model.LogisticRegression.html\">?<span>Documentation for LogisticRegression</span></a><span class=\"sk-estimator-doc-link fitted\">i<span>Fitted</span></span></label><div class=\"sk-toggleable__content fitted\"><pre>LogisticRegression()</pre></div> </div></div></div></div>"
      ],
      "text/plain": [
       "LogisticRegression()"
      ]
     },
     "execution_count": 51,
     "metadata": {},
     "output_type": "execute_result"
    }
   ],
   "source": [
    "# Train a Classifier\n",
    "classifier = LogisticRegression()\n",
    "classifier.fit(train_vectors, y_train)"
   ]
  },
  {
   "cell_type": "code",
   "execution_count": 54,
   "id": "66feeb78-fae5-4cd8-a6b9-dd109d737534",
   "metadata": {},
   "outputs": [
    {
     "name": "stdout",
     "output_type": "stream",
     "text": [
      "Accuracy: 0.8407873341270071\n"
     ]
    }
   ],
   "source": [
    "# Evaluate the Model\n",
    "y_pred_class = classifier.predict(train_vectors)\n",
    "accuracy = accuracy_score(y_train, y_pred_class)\n",
    "print(f\"Accuracy: {accuracy}\")"
   ]
  },
  {
   "cell_type": "code",
   "execution_count": 57,
   "id": "89223dda-eff5-4e67-82a5-88407f4cca02",
   "metadata": {},
   "outputs": [
    {
     "name": "stdout",
     "output_type": "stream",
     "text": [
      "              precision    recall  f1-score   support\n",
      "\n",
      "           0       0.68      0.58      0.63     40009\n",
      "           1       0.36      0.05      0.09     20815\n",
      "           2       0.87      0.97      0.92    214688\n",
      "\n",
      "    accuracy                           0.84    275512\n",
      "   macro avg       0.64      0.53      0.54    275512\n",
      "weighted avg       0.80      0.84      0.81    275512\n",
      "\n"
     ]
    }
   ],
   "source": [
    "print(classification_report(y_train, y_pred_class))"
   ]
  },
  {
   "cell_type": "code",
   "execution_count": 68,
   "id": "20513149-b55a-4528-8bcd-1ee5dc9e5f7e",
   "metadata": {},
   "outputs": [
    {
     "name": "stdout",
     "output_type": "stream",
     "text": [
      "Accuracy: 0.831\n"
     ]
    }
   ],
   "source": [
    "# Evaluate the Model (first test batch)\n",
    "y_pred_class = classifier.predict(test_vectors)\n",
    "accuracy = accuracy_score(y_test[0:1000], y_pred_class)\n",
    "print(f\"Accuracy: {accuracy}\")"
   ]
  },
  {
   "cell_type": "code",
   "execution_count": 69,
   "id": "e1dc074d-4411-4642-94e4-5118a7ad08d4",
   "metadata": {},
   "outputs": [
    {
     "name": "stdout",
     "output_type": "stream",
     "text": [
      "              precision    recall  f1-score   support\n",
      "\n",
      "           0       0.69      0.52      0.59       151\n",
      "           1       0.17      0.03      0.05        73\n",
      "           2       0.86      0.97      0.91       776\n",
      "\n",
      "    accuracy                           0.83      1000\n",
      "   macro avg       0.57      0.51      0.52      1000\n",
      "weighted avg       0.78      0.83      0.80      1000\n",
      "\n"
     ]
    }
   ],
   "source": [
    "print(classification_report(y_test[0:1000], y_pred_class))"
   ]
  },
  {
   "cell_type": "code",
   "execution_count": 74,
   "id": "f74447b9-00e6-45c3-9d07-7a0aa43027ff",
   "metadata": {},
   "outputs": [
    {
     "name": "stdout",
     "output_type": "stream",
     "text": [
      "Accuracy: 0.841\n"
     ]
    }
   ],
   "source": [
    "# Evaluate the Model (second test batch)\n",
    "y_pred_class = classifier.predict(test_vectors)\n",
    "accuracy = accuracy_score(y_test[70405:71405], y_pred_class)\n",
    "print(f\"Accuracy: {accuracy}\")"
   ]
  },
  {
   "cell_type": "code",
   "execution_count": 75,
   "id": "146f6a7f-378c-4448-8588-03b3c710efc8",
   "metadata": {},
   "outputs": [
    {
     "name": "stdout",
     "output_type": "stream",
     "text": [
      "              precision    recall  f1-score   support\n",
      "\n",
      "           0       0.63      0.62      0.62       133\n",
      "           1       0.33      0.05      0.08        85\n",
      "           2       0.88      0.97      0.92       782\n",
      "\n",
      "    accuracy                           0.84      1000\n",
      "   macro avg       0.61      0.54      0.54      1000\n",
      "weighted avg       0.80      0.84      0.81      1000\n",
      "\n"
     ]
    }
   ],
   "source": [
    "print(classification_report(y_test[70405:71405], y_pred_class))"
   ]
  },
  {
   "cell_type": "code",
   "execution_count": 79,
   "id": "83df24c8-6142-4f0a-8096-6b9f4566e7cf",
   "metadata": {},
   "outputs": [
    {
     "name": "stdout",
     "output_type": "stream",
     "text": [
      "Accuracy: 0.823\n"
     ]
    }
   ],
   "source": [
    "# Evaluate the Model (third test batch)\n",
    "y_pred_class = classifier.predict(test_vectors)\n",
    "accuracy = accuracy_score(y_test[111111:112111], y_pred_class)\n",
    "print(f\"Accuracy: {accuracy}\")"
   ]
  },
  {
   "cell_type": "code",
   "execution_count": 80,
   "id": "bdb816ac-163e-42ff-b93a-fa93d7558cbb",
   "metadata": {},
   "outputs": [
    {
     "name": "stdout",
     "output_type": "stream",
     "text": [
      "              precision    recall  f1-score   support\n",
      "\n",
      "           0       0.10      0.08      0.09       133\n",
      "           1       0.00      0.00      0.00        85\n",
      "           2       0.77      0.87      0.82       782\n",
      "\n",
      "    accuracy                           0.69      1000\n",
      "   macro avg       0.29      0.32      0.30      1000\n",
      "weighted avg       0.62      0.69      0.65      1000\n",
      "\n"
     ]
    }
   ],
   "source": [
    "print(classification_report(y_test[70405:71405], y_pred_class))"
   ]
  },
  {
   "cell_type": "markdown",
   "id": "104e535d-6d28-4de4-8f71-9ee00528dfaa",
   "metadata": {
    "jp-MarkdownHeadingCollapsed": true
   },
   "source": [
    "## Chosen best model (Model 5): try other classifiers "
   ]
  },
  {
   "cell_type": "code",
   "execution_count": null,
   "id": "068b058c-5145-47ae-bf07-6f67bbf29209",
   "metadata": {},
   "outputs": [],
   "source": [
    "# Use tri class score model to see if it improves with other classifiers (such as L2, SVC...)"
   ]
  },
  {
   "cell_type": "code",
   "execution_count": 6,
   "id": "a7c0026a-d903-48b9-965b-d6890e147756",
   "metadata": {},
   "outputs": [],
   "source": [
    "reviews_model_mc = reviews_cleant.drop(['Unnamed: 0', 'Id', 'ProductId', 'UserId', 'ProfileName',\n",
    "       'HelpfulnessNumerator', 'HelpfulnessDenominator', 'binary_score', 'Time',\n",
    "       'Summary', 'Text', 'DateTime', 'Popularity', 'Year',\n",
    "       'CleantText'], axis=1)\n",
    "\n",
    "reviews_model_mc['tri_class_score'] = 0\n",
    "\n",
    "reviews_model_mc.loc[reviews_model_mc['Score'] > 3,'tri_class_score'] = 2 # pos\n",
    "reviews_model_mc.loc[reviews_model_mc['Score'] == 3,'tri_class_score'] = 1 # mix\n",
    "reviews_model_mc.loc[reviews_model_mc['Score'] < 3,'tri_class_score'] = 0 # neg\n",
    "\n",
    "reviews_model_mc.dropna(inplace=True)"
   ]
  },
  {
   "cell_type": "code",
   "execution_count": 9,
   "id": "8ca0eed0-78f0-45a1-9124-9019f6655c7f",
   "metadata": {},
   "outputs": [],
   "source": [
    "# Define training datat and labels\n",
    "X = reviews_model_mc['Text_SWR']\n",
    "y = reviews_model_mc['tri_class_score']\n",
    "\n",
    "# Split the new DataFrame into training and testing sets.\n",
    "X_train, X_test, y_train, y_test = train_test_split(X, y, test_size=0.30 ,random_state=99)"
   ]
  },
  {
   "cell_type": "code",
   "execution_count": 10,
   "id": "849c4ec5-9fca-42a8-a801-bb97f38bc8f8",
   "metadata": {},
   "outputs": [],
   "source": [
    "from sklearn.metrics import f1_score, make_scorer\n",
    "f1 = make_scorer(f1_score , average='macro')"
   ]
  },
  {
   "cell_type": "code",
   "execution_count": 11,
   "id": "d93afa6c-c6c0-45b9-8021-21885179a4c4",
   "metadata": {},
   "outputs": [],
   "source": [
    "from sklearn.svm import SVC\n",
    "from operator import itemgetter\n",
    "from sklearn.utils import shuffle\n",
    "from sklearn.pipeline import Pipeline\n",
    "from sklearn.naive_bayes import MultinomialNB\n",
    "from sklearn.tree import DecisionTreeClassifier\n",
    "from sklearn.model_selection import GridSearchCV\n",
    "from sklearn.feature_extraction.text import TfidfVectorizer\n",
    "import operator"
   ]
  },
  {
   "cell_type": "code",
   "execution_count": null,
   "id": "02690f11-5d07-42fc-aaff-b23f038c963b",
   "metadata": {},
   "outputs": [
    {
     "name": "stdout",
     "output_type": "stream",
     "text": [
      "Fitting 3 folds for each of 10 candidates, totalling 30 fits\n",
      "[CV 1/3; 1/10] START clf__alpha=0.001, tf-idf__stop_words=english...............\n",
      "[CV 1/3; 1/10] END clf__alpha=0.001, tf-idf__stop_words=english;, score=0.451 total time=   9.8s\n",
      "[CV 2/3; 1/10] START clf__alpha=0.001, tf-idf__stop_words=english...............\n",
      "[CV 2/3; 1/10] END clf__alpha=0.001, tf-idf__stop_words=english;, score=0.447 total time=  11.1s\n",
      "[CV 3/3; 1/10] START clf__alpha=0.001, tf-idf__stop_words=english...............\n",
      "[CV 3/3; 1/10] END clf__alpha=0.001, tf-idf__stop_words=english;, score=0.450 total time=  12.8s\n",
      "[CV 1/3; 2/10] START clf__alpha=0.001, tf-idf__stop_words=None..................\n",
      "[CV 1/3; 2/10] END clf__alpha=0.001, tf-idf__stop_words=None;, score=0.451 total time=  12.6s\n",
      "[CV 2/3; 2/10] START clf__alpha=0.001, tf-idf__stop_words=None..................\n",
      "[CV 2/3; 2/10] END clf__alpha=0.001, tf-idf__stop_words=None;, score=0.447 total time=  10.9s\n",
      "[CV 3/3; 2/10] START clf__alpha=0.001, tf-idf__stop_words=None..................\n",
      "[CV 3/3; 2/10] END clf__alpha=0.001, tf-idf__stop_words=None;, score=0.450 total time=  11.5s\n",
      "[CV 1/3; 3/10] START clf__alpha=0.1, tf-idf__stop_words=english.................\n",
      "[CV 1/3; 3/10] END clf__alpha=0.1, tf-idf__stop_words=english;, score=0.436 total time=  13.7s\n",
      "[CV 2/3; 3/10] START clf__alpha=0.1, tf-idf__stop_words=english.................\n",
      "[CV 2/3; 3/10] END clf__alpha=0.1, tf-idf__stop_words=english;, score=0.433 total time=  12.8s\n",
      "[CV 3/3; 3/10] START clf__alpha=0.1, tf-idf__stop_words=english.................\n",
      "[CV 3/3; 3/10] END clf__alpha=0.1, tf-idf__stop_words=english;, score=0.434 total time=  15.3s\n",
      "[CV 1/3; 4/10] START clf__alpha=0.1, tf-idf__stop_words=None....................\n",
      "[CV 1/3; 4/10] END clf__alpha=0.1, tf-idf__stop_words=None;, score=0.435 total time=  12.0s\n",
      "[CV 2/3; 4/10] START clf__alpha=0.1, tf-idf__stop_words=None....................\n",
      "[CV 2/3; 4/10] END clf__alpha=0.1, tf-idf__stop_words=None;, score=0.432 total time=  11.7s\n",
      "[CV 3/3; 4/10] START clf__alpha=0.1, tf-idf__stop_words=None....................\n",
      "[CV 3/3; 4/10] END clf__alpha=0.1, tf-idf__stop_words=None;, score=0.433 total time=  12.4s\n",
      "[CV 1/3; 5/10] START clf__alpha=1, tf-idf__stop_words=english...................\n",
      "[CV 1/3; 5/10] END clf__alpha=1, tf-idf__stop_words=english;, score=0.312 total time=  12.0s\n",
      "[CV 2/3; 5/10] START clf__alpha=1, tf-idf__stop_words=english...................\n",
      "[CV 2/3; 5/10] END clf__alpha=1, tf-idf__stop_words=english;, score=0.313 total time=  11.7s\n",
      "[CV 3/3; 5/10] START clf__alpha=1, tf-idf__stop_words=english...................\n",
      "[CV 3/3; 5/10] END clf__alpha=1, tf-idf__stop_words=english;, score=0.311 total time=  11.8s\n",
      "[CV 1/3; 6/10] START clf__alpha=1, tf-idf__stop_words=None......................\n",
      "[CV 1/3; 6/10] END clf__alpha=1, tf-idf__stop_words=None;, score=0.309 total time=  11.8s\n",
      "[CV 2/3; 6/10] START clf__alpha=1, tf-idf__stop_words=None......................\n",
      "[CV 2/3; 6/10] END clf__alpha=1, tf-idf__stop_words=None;, score=0.309 total time=  12.1s\n",
      "[CV 3/3; 6/10] START clf__alpha=1, tf-idf__stop_words=None......................\n",
      "[CV 3/3; 6/10] END clf__alpha=1, tf-idf__stop_words=None;, score=0.309 total time=  10.8s\n",
      "[CV 1/3; 7/10] START clf__alpha=10, tf-idf__stop_words=english..................\n",
      "[CV 1/3; 7/10] END clf__alpha=10, tf-idf__stop_words=english;, score=0.292 total time=  16.3s\n",
      "[CV 2/3; 7/10] START clf__alpha=10, tf-idf__stop_words=english..................\n",
      "[CV 2/3; 7/10] END clf__alpha=10, tf-idf__stop_words=english;, score=0.292 total time=  17.8s\n",
      "[CV 3/3; 7/10] START clf__alpha=10, tf-idf__stop_words=english..................\n",
      "[CV 3/3; 7/10] END clf__alpha=10, tf-idf__stop_words=english;, score=0.292 total time=  17.6s\n",
      "[CV 1/3; 8/10] START clf__alpha=10, tf-idf__stop_words=None.....................\n",
      "[CV 1/3; 8/10] END clf__alpha=10, tf-idf__stop_words=None;, score=0.292 total time=  15.9s\n",
      "[CV 2/3; 8/10] START clf__alpha=10, tf-idf__stop_words=None.....................\n",
      "[CV 2/3; 8/10] END clf__alpha=10, tf-idf__stop_words=None;, score=0.292 total time=  16.3s\n",
      "[CV 3/3; 8/10] START clf__alpha=10, tf-idf__stop_words=None.....................\n",
      "[CV 3/3; 8/10] END clf__alpha=10, tf-idf__stop_words=None;, score=0.292 total time=  16.0s\n",
      "[CV 1/3; 9/10] START clf__alpha=100, tf-idf__stop_words=english.................\n",
      "[CV 1/3; 9/10] END clf__alpha=100, tf-idf__stop_words=english;, score=0.292 total time=  16.8s\n",
      "[CV 2/3; 9/10] START clf__alpha=100, tf-idf__stop_words=english.................\n",
      "[CV 2/3; 9/10] END clf__alpha=100, tf-idf__stop_words=english;, score=0.292 total time=  16.0s\n",
      "[CV 3/3; 9/10] START clf__alpha=100, tf-idf__stop_words=english.................\n",
      "[CV 3/3; 9/10] END clf__alpha=100, tf-idf__stop_words=english;, score=0.292 total time=  16.0s\n",
      "[CV 1/3; 10/10] START clf__alpha=100, tf-idf__stop_words=None...................\n",
      "[CV 1/3; 10/10] END clf__alpha=100, tf-idf__stop_words=None;, score=0.292 total time=  17.3s\n",
      "[CV 2/3; 10/10] START clf__alpha=100, tf-idf__stop_words=None...................\n",
      "[CV 2/3; 10/10] END clf__alpha=100, tf-idf__stop_words=None;, score=0.292 total time=  18.0s\n",
      "[CV 3/3; 10/10] START clf__alpha=100, tf-idf__stop_words=None...................\n",
      "[CV 3/3; 10/10] END clf__alpha=100, tf-idf__stop_words=None;, score=0.292 total time=  19.3s\n",
      "Fitting 3 folds for each of 24 candidates, totalling 72 fits\n",
      "[CV 1/3; 1/24] START clf__C=0.001, clf__class_weight=balanced, clf__kernel=linear, clf__probability=True, tf-idf__stop_words=english\n"
     ]
    }
   ],
   "source": [
    "#pipeline parameters\n",
    "parameters = \\\n",
    "    [ \\\n",
    "        {\n",
    "            'clf': [MultinomialNB()],\n",
    "            'tf-idf__stop_words': ['english', None],\n",
    "            'clf__alpha': [0.001, 0.1, 1, 10, 100]\n",
    "        },\n",
    "\n",
    "        {\n",
    "            'clf': [SVC()],\n",
    "            'tf-idf__stop_words': ['english', None],\n",
    "            'clf__C': [0.001, 0.1, 1, 10, 100, 10e5],\n",
    "            'clf__kernel': ['linear', 'rbf'],\n",
    "            'clf__class_weight': ['balanced'],\n",
    "            'clf__probability': [True]\n",
    "        },\n",
    "\n",
    "        {\n",
    "            'clf': [DecisionTreeClassifier()],\n",
    "            'tf-idf__stop_words': ['english', None],\n",
    "            'clf__criterion': ['gini','entropy'],\n",
    "            'clf__splitter': ['best','random'],\n",
    "            'clf__class_weight':['balanced', None]\n",
    "        }\n",
    "    ]\n",
    "\n",
    "#evaluating multiple classifiers\n",
    "#based on pipeline parameters\n",
    "#-------------------------------\n",
    "result=[]\n",
    "\n",
    "for params in parameters:\n",
    "\n",
    "    #classifier\n",
    "    clf = params['clf'][0]\n",
    "\n",
    "    #getting arguments by\n",
    "    #popping out classifier\n",
    "    params.pop('clf')\n",
    "\n",
    "    #pipeline\n",
    "    steps = [('tf-idf', TfidfVectorizer()), ('clf',clf)]\n",
    "\n",
    "    #cross validation using\n",
    "    #Grid Search\n",
    "    grid = GridSearchCV(Pipeline(steps), param_grid=params, cv=3, scoring=f1, verbose=10)\n",
    "    grid.fit(X_train, y_train)\n",
    "\n",
    "    #storing result\n",
    "    result.append\\\n",
    "    (\n",
    "        {\n",
    "            'grid': grid,\n",
    "            'classifier': grid.best_estimator_,\n",
    "            'best score': grid.best_score_,\n",
    "            'best params': grid.best_params_,\n",
    "            'cv': grid.cv\n",
    "        }\n",
    "    )\n",
    "\n",
    "#sorting result by best score\n",
    "result = sorted(result, key=operator.itemgetter('best score'),reverse=True)\n",
    "\n",
    "#saving best classifier\n",
    "grid = result[0]['grid']\n",
    "joblib.dump(grid, 'classifier.pickle')"
   ]
  },
  {
   "cell_type": "markdown",
   "id": "cf21e5b2-186c-4827-8c94-1a486d2fbf73",
   "metadata": {
    "jp-MarkdownHeadingCollapsed": true
   },
   "source": [
    "## Use NLTK sentiment for classification"
   ]
  },
  {
   "cell_type": "code",
   "execution_count": 278,
   "id": "65d5ac33-d90a-4178-bd43-e4f7c6a3e3e1",
   "metadata": {},
   "outputs": [],
   "source": [
    "# Read cleant data\n",
    "csv_path = 'data_with_nltk.csv'\n",
    "reviews_nltk = pd.read_csv(csv_path)"
   ]
  },
  {
   "cell_type": "code",
   "execution_count": 279,
   "id": "476c716c-8e89-4e29-b333-82d2055eb719",
   "metadata": {
    "scrolled": true
   },
   "outputs": [
    {
     "data": {
      "text/html": [
       "<div>\n",
       "<style scoped>\n",
       "    .dataframe tbody tr th:only-of-type {\n",
       "        vertical-align: middle;\n",
       "    }\n",
       "\n",
       "    .dataframe tbody tr th {\n",
       "        vertical-align: top;\n",
       "    }\n",
       "\n",
       "    .dataframe thead th {\n",
       "        text-align: right;\n",
       "    }\n",
       "</style>\n",
       "<table border=\"1\" class=\"dataframe\">\n",
       "  <thead>\n",
       "    <tr style=\"text-align: right;\">\n",
       "      <th></th>\n",
       "      <th>Unnamed: 0.1</th>\n",
       "      <th>Unnamed: 0</th>\n",
       "      <th>Id</th>\n",
       "      <th>ProductId</th>\n",
       "      <th>UserId</th>\n",
       "      <th>ProfileName</th>\n",
       "      <th>HelpfulnessNumerator</th>\n",
       "      <th>HelpfulnessDenominator</th>\n",
       "      <th>Score</th>\n",
       "      <th>Time</th>\n",
       "      <th>...</th>\n",
       "      <th>DateTime</th>\n",
       "      <th>Popularity</th>\n",
       "      <th>Year</th>\n",
       "      <th>binary_score</th>\n",
       "      <th>CleantText</th>\n",
       "      <th>Text_SWR</th>\n",
       "      <th>nltk_ct_sa_pos</th>\n",
       "      <th>nltk_ct_sa_neg</th>\n",
       "      <th>nltk_ct_sa_neu</th>\n",
       "      <th>nltk_ct_sa</th>\n",
       "    </tr>\n",
       "  </thead>\n",
       "  <tbody>\n",
       "    <tr>\n",
       "      <th>0</th>\n",
       "      <td>0</td>\n",
       "      <td>150528</td>\n",
       "      <td>150529</td>\n",
       "      <td>0006641040</td>\n",
       "      <td>A25ACLV5KPB4W</td>\n",
       "      <td>Matt Hetling \"Matt\"</td>\n",
       "      <td>0</td>\n",
       "      <td>1</td>\n",
       "      <td>4</td>\n",
       "      <td>1108425600</td>\n",
       "      <td>...</td>\n",
       "      <td>2005-02-15 01:00:00</td>\n",
       "      <td>-1</td>\n",
       "      <td>2005</td>\n",
       "      <td>1</td>\n",
       "      <td>in june i saw a charming group of roses all be...</td>\n",
       "      <td>june saw charming group roses begin droop pepp...</td>\n",
       "      <td>0.144</td>\n",
       "      <td>0.035</td>\n",
       "      <td>0.821</td>\n",
       "      <td>0.8715</td>\n",
       "    </tr>\n",
       "    <tr>\n",
       "      <th>1</th>\n",
       "      <td>1</td>\n",
       "      <td>150506</td>\n",
       "      <td>150507</td>\n",
       "      <td>0006641040</td>\n",
       "      <td>A1S4A3IQ2MU7V4</td>\n",
       "      <td>sally sue \"sally sue\"</td>\n",
       "      <td>1</td>\n",
       "      <td>1</td>\n",
       "      <td>4</td>\n",
       "      <td>1191456000</td>\n",
       "      <td>...</td>\n",
       "      <td>2007-10-04 02:00:00</td>\n",
       "      <td>0</td>\n",
       "      <td>2007</td>\n",
       "      <td>1</td>\n",
       "      <td>this is a fun way for children to learn their ...</td>\n",
       "      <td>fun way children learn months year learn poems...</td>\n",
       "      <td>0.158</td>\n",
       "      <td>0.000</td>\n",
       "      <td>0.842</td>\n",
       "      <td>0.7003</td>\n",
       "    </tr>\n",
       "    <tr>\n",
       "      <th>2</th>\n",
       "      <td>2</td>\n",
       "      <td>150505</td>\n",
       "      <td>150506</td>\n",
       "      <td>0006641040</td>\n",
       "      <td>A2IW4PEEKO2R0U</td>\n",
       "      <td>Tracy</td>\n",
       "      <td>1</td>\n",
       "      <td>1</td>\n",
       "      <td>4</td>\n",
       "      <td>1194739200</td>\n",
       "      <td>...</td>\n",
       "      <td>2007-11-11 01:00:00</td>\n",
       "      <td>0</td>\n",
       "      <td>2007</td>\n",
       "      <td>1</td>\n",
       "      <td>i grew up reading these sendak books and watch...</td>\n",
       "      <td>grew reading sendak books watching really rosi...</td>\n",
       "      <td>0.149</td>\n",
       "      <td>0.057</td>\n",
       "      <td>0.794</td>\n",
       "      <td>0.7845</td>\n",
       "    </tr>\n",
       "    <tr>\n",
       "      <th>3</th>\n",
       "      <td>3</td>\n",
       "      <td>150504</td>\n",
       "      <td>150505</td>\n",
       "      <td>0006641040</td>\n",
       "      <td>A2PTSM496CF40Z</td>\n",
       "      <td>Jason A. Teeple \"Nobody made a greater mistak...</td>\n",
       "      <td>1</td>\n",
       "      <td>1</td>\n",
       "      <td>4</td>\n",
       "      <td>1210809600</td>\n",
       "      <td>...</td>\n",
       "      <td>2008-05-15 02:00:00</td>\n",
       "      <td>0</td>\n",
       "      <td>2008</td>\n",
       "      <td>1</td>\n",
       "      <td>get the movie or sound track and sing along wi...</td>\n",
       "      <td>get movie sound track sing along carol king gr...</td>\n",
       "      <td>0.124</td>\n",
       "      <td>0.000</td>\n",
       "      <td>0.876</td>\n",
       "      <td>0.6249</td>\n",
       "    </tr>\n",
       "    <tr>\n",
       "      <th>4</th>\n",
       "      <td>4</td>\n",
       "      <td>150503</td>\n",
       "      <td>150504</td>\n",
       "      <td>0006641040</td>\n",
       "      <td>AQEYF1AXARWJZ</td>\n",
       "      <td>Les Sinclair \"book maven\"</td>\n",
       "      <td>1</td>\n",
       "      <td>1</td>\n",
       "      <td>4</td>\n",
       "      <td>1212278400</td>\n",
       "      <td>...</td>\n",
       "      <td>2008-06-01 02:00:00</td>\n",
       "      <td>0</td>\n",
       "      <td>2008</td>\n",
       "      <td>1</td>\n",
       "      <td>a very entertaining rhyming storycleaver and c...</td>\n",
       "      <td>entertaining rhyming storycleaver catchythe il...</td>\n",
       "      <td>0.192</td>\n",
       "      <td>0.000</td>\n",
       "      <td>0.808</td>\n",
       "      <td>0.6901</td>\n",
       "    </tr>\n",
       "    <tr>\n",
       "      <th>...</th>\n",
       "      <td>...</td>\n",
       "      <td>...</td>\n",
       "      <td>...</td>\n",
       "      <td>...</td>\n",
       "      <td>...</td>\n",
       "      <td>...</td>\n",
       "      <td>...</td>\n",
       "      <td>...</td>\n",
       "      <td>...</td>\n",
       "      <td>...</td>\n",
       "      <td>...</td>\n",
       "      <td>...</td>\n",
       "      <td>...</td>\n",
       "      <td>...</td>\n",
       "      <td>...</td>\n",
       "      <td>...</td>\n",
       "      <td>...</td>\n",
       "      <td>...</td>\n",
       "      <td>...</td>\n",
       "      <td>...</td>\n",
       "      <td>...</td>\n",
       "    </tr>\n",
       "    <tr>\n",
       "      <th>393587</th>\n",
       "      <td>393587</td>\n",
       "      <td>193171</td>\n",
       "      <td>193172</td>\n",
       "      <td>B009RSR8HO</td>\n",
       "      <td>A3JJTHP8T7A8LY</td>\n",
       "      <td>Joanne Eklund \"Joanne\"</td>\n",
       "      <td>0</td>\n",
       "      <td>0</td>\n",
       "      <td>5</td>\n",
       "      <td>1350432000</td>\n",
       "      <td>...</td>\n",
       "      <td>2012-10-17 02:00:00</td>\n",
       "      <td>0</td>\n",
       "      <td>2012</td>\n",
       "      <td>1</td>\n",
       "      <td>fts zero is the best sweetener i have ever tri...</td>\n",
       "      <td>fts zero best sweetener ever tried aftertaste ...</td>\n",
       "      <td>0.121</td>\n",
       "      <td>0.187</td>\n",
       "      <td>0.692</td>\n",
       "      <td>-0.0772</td>\n",
       "    </tr>\n",
       "    <tr>\n",
       "      <th>393588</th>\n",
       "      <td>393588</td>\n",
       "      <td>188388</td>\n",
       "      <td>188389</td>\n",
       "      <td>B009SF0TN6</td>\n",
       "      <td>A1L0GWGRK4BYPT</td>\n",
       "      <td>Bety Robinson</td>\n",
       "      <td>0</td>\n",
       "      <td>0</td>\n",
       "      <td>5</td>\n",
       "      <td>1350518400</td>\n",
       "      <td>...</td>\n",
       "      <td>2012-10-18 02:00:00</td>\n",
       "      <td>0</td>\n",
       "      <td>2012</td>\n",
       "      <td>1</td>\n",
       "      <td>you have to try this sauce to believe it it st...</td>\n",
       "      <td>try sauce believe starts little sweet honey ta...</td>\n",
       "      <td>0.128</td>\n",
       "      <td>0.088</td>\n",
       "      <td>0.784</td>\n",
       "      <td>0.3840</td>\n",
       "    </tr>\n",
       "    <tr>\n",
       "      <th>393589</th>\n",
       "      <td>393589</td>\n",
       "      <td>221794</td>\n",
       "      <td>221795</td>\n",
       "      <td>B009SR4OQ2</td>\n",
       "      <td>A32A6X5KCP7ARG</td>\n",
       "      <td>sicamar</td>\n",
       "      <td>1</td>\n",
       "      <td>1</td>\n",
       "      <td>5</td>\n",
       "      <td>1350604800</td>\n",
       "      <td>...</td>\n",
       "      <td>2012-10-19 02:00:00</td>\n",
       "      <td>0</td>\n",
       "      <td>2012</td>\n",
       "      <td>1</td>\n",
       "      <td>i bought this hazelnut paste nocciola spread a...</td>\n",
       "      <td>bought hazelnut paste nocciola spread local sh...</td>\n",
       "      <td>0.156</td>\n",
       "      <td>0.000</td>\n",
       "      <td>0.844</td>\n",
       "      <td>0.5719</td>\n",
       "    </tr>\n",
       "    <tr>\n",
       "      <th>393590</th>\n",
       "      <td>393590</td>\n",
       "      <td>5702</td>\n",
       "      <td>5703</td>\n",
       "      <td>B009WSNWC4</td>\n",
       "      <td>AMP7K1O84DH1T</td>\n",
       "      <td>ESTY</td>\n",
       "      <td>0</td>\n",
       "      <td>0</td>\n",
       "      <td>5</td>\n",
       "      <td>1351209600</td>\n",
       "      <td>...</td>\n",
       "      <td>2012-10-26 02:00:00</td>\n",
       "      <td>0</td>\n",
       "      <td>2012</td>\n",
       "      <td>1</td>\n",
       "      <td>purchased this product at a local store in ny ...</td>\n",
       "      <td>purchased product local store kids love quick ...</td>\n",
       "      <td>0.321</td>\n",
       "      <td>0.000</td>\n",
       "      <td>0.679</td>\n",
       "      <td>0.9217</td>\n",
       "    </tr>\n",
       "    <tr>\n",
       "      <th>393591</th>\n",
       "      <td>393591</td>\n",
       "      <td>327600</td>\n",
       "      <td>327601</td>\n",
       "      <td>B009WVB40S</td>\n",
       "      <td>A3ME78KVX31T21</td>\n",
       "      <td>K'la</td>\n",
       "      <td>0</td>\n",
       "      <td>0</td>\n",
       "      <td>5</td>\n",
       "      <td>1351123200</td>\n",
       "      <td>...</td>\n",
       "      <td>2012-10-25 02:00:00</td>\n",
       "      <td>0</td>\n",
       "      <td>2012</td>\n",
       "      <td>1</td>\n",
       "      <td>i purchased this to send to my son whos away a...</td>\n",
       "      <td>purchased send son whos away college delivered...</td>\n",
       "      <td>0.146</td>\n",
       "      <td>0.039</td>\n",
       "      <td>0.815</td>\n",
       "      <td>0.7783</td>\n",
       "    </tr>\n",
       "  </tbody>\n",
       "</table>\n",
       "<p>393592 rows × 22 columns</p>\n",
       "</div>"
      ],
      "text/plain": [
       "        Unnamed: 0.1  Unnamed: 0      Id   ProductId          UserId  \\\n",
       "0                  0      150528  150529  0006641040   A25ACLV5KPB4W   \n",
       "1                  1      150506  150507  0006641040  A1S4A3IQ2MU7V4   \n",
       "2                  2      150505  150506  0006641040  A2IW4PEEKO2R0U   \n",
       "3                  3      150504  150505  0006641040  A2PTSM496CF40Z   \n",
       "4                  4      150503  150504  0006641040   AQEYF1AXARWJZ   \n",
       "...              ...         ...     ...         ...             ...   \n",
       "393587        393587      193171  193172  B009RSR8HO  A3JJTHP8T7A8LY   \n",
       "393588        393588      188388  188389  B009SF0TN6  A1L0GWGRK4BYPT   \n",
       "393589        393589      221794  221795  B009SR4OQ2  A32A6X5KCP7ARG   \n",
       "393590        393590        5702    5703  B009WSNWC4   AMP7K1O84DH1T   \n",
       "393591        393591      327600  327601  B009WVB40S  A3ME78KVX31T21   \n",
       "\n",
       "                                             ProfileName  \\\n",
       "0                                    Matt Hetling \"Matt\"   \n",
       "1                                  sally sue \"sally sue\"   \n",
       "2                                                  Tracy   \n",
       "3       Jason A. Teeple \"Nobody made a greater mistak...   \n",
       "4                              Les Sinclair \"book maven\"   \n",
       "...                                                  ...   \n",
       "393587                            Joanne Eklund \"Joanne\"   \n",
       "393588                                     Bety Robinson   \n",
       "393589                                           sicamar   \n",
       "393590                                              ESTY   \n",
       "393591                                              K'la   \n",
       "\n",
       "        HelpfulnessNumerator  HelpfulnessDenominator  Score        Time  ...  \\\n",
       "0                          0                       1      4  1108425600  ...   \n",
       "1                          1                       1      4  1191456000  ...   \n",
       "2                          1                       1      4  1194739200  ...   \n",
       "3                          1                       1      4  1210809600  ...   \n",
       "4                          1                       1      4  1212278400  ...   \n",
       "...                      ...                     ...    ...         ...  ...   \n",
       "393587                     0                       0      5  1350432000  ...   \n",
       "393588                     0                       0      5  1350518400  ...   \n",
       "393589                     1                       1      5  1350604800  ...   \n",
       "393590                     0                       0      5  1351209600  ...   \n",
       "393591                     0                       0      5  1351123200  ...   \n",
       "\n",
       "                   DateTime Popularity  Year  binary_score  \\\n",
       "0       2005-02-15 01:00:00         -1  2005             1   \n",
       "1       2007-10-04 02:00:00          0  2007             1   \n",
       "2       2007-11-11 01:00:00          0  2007             1   \n",
       "3       2008-05-15 02:00:00          0  2008             1   \n",
       "4       2008-06-01 02:00:00          0  2008             1   \n",
       "...                     ...        ...   ...           ...   \n",
       "393587  2012-10-17 02:00:00          0  2012             1   \n",
       "393588  2012-10-18 02:00:00          0  2012             1   \n",
       "393589  2012-10-19 02:00:00          0  2012             1   \n",
       "393590  2012-10-26 02:00:00          0  2012             1   \n",
       "393591  2012-10-25 02:00:00          0  2012             1   \n",
       "\n",
       "                                               CleantText  \\\n",
       "0       in june i saw a charming group of roses all be...   \n",
       "1       this is a fun way for children to learn their ...   \n",
       "2       i grew up reading these sendak books and watch...   \n",
       "3       get the movie or sound track and sing along wi...   \n",
       "4       a very entertaining rhyming storycleaver and c...   \n",
       "...                                                   ...   \n",
       "393587  fts zero is the best sweetener i have ever tri...   \n",
       "393588  you have to try this sauce to believe it it st...   \n",
       "393589  i bought this hazelnut paste nocciola spread a...   \n",
       "393590  purchased this product at a local store in ny ...   \n",
       "393591  i purchased this to send to my son whos away a...   \n",
       "\n",
       "                                                 Text_SWR nltk_ct_sa_pos  \\\n",
       "0       june saw charming group roses begin droop pepp...          0.144   \n",
       "1       fun way children learn months year learn poems...          0.158   \n",
       "2       grew reading sendak books watching really rosi...          0.149   \n",
       "3       get movie sound track sing along carol king gr...          0.124   \n",
       "4       entertaining rhyming storycleaver catchythe il...          0.192   \n",
       "...                                                   ...            ...   \n",
       "393587  fts zero best sweetener ever tried aftertaste ...          0.121   \n",
       "393588  try sauce believe starts little sweet honey ta...          0.128   \n",
       "393589  bought hazelnut paste nocciola spread local sh...          0.156   \n",
       "393590  purchased product local store kids love quick ...          0.321   \n",
       "393591  purchased send son whos away college delivered...          0.146   \n",
       "\n",
       "       nltk_ct_sa_neg  nltk_ct_sa_neu  nltk_ct_sa  \n",
       "0               0.035           0.821      0.8715  \n",
       "1               0.000           0.842      0.7003  \n",
       "2               0.057           0.794      0.7845  \n",
       "3               0.000           0.876      0.6249  \n",
       "4               0.000           0.808      0.6901  \n",
       "...               ...             ...         ...  \n",
       "393587          0.187           0.692     -0.0772  \n",
       "393588          0.088           0.784      0.3840  \n",
       "393589          0.000           0.844      0.5719  \n",
       "393590          0.000           0.679      0.9217  \n",
       "393591          0.039           0.815      0.7783  \n",
       "\n",
       "[393592 rows x 22 columns]"
      ]
     },
     "execution_count": 279,
     "metadata": {},
     "output_type": "execute_result"
    }
   ],
   "source": [
    "reviews_nltk"
   ]
  },
  {
   "cell_type": "code",
   "execution_count": 88,
   "id": "01c042b0-df42-4242-b943-3027c333946c",
   "metadata": {},
   "outputs": [],
   "source": [
    "reviews_new = reviews_model_mc.drop(['Score'], axis=1)"
   ]
  },
  {
   "cell_type": "code",
   "execution_count": 97,
   "id": "2ab4b520-f092-46e9-b003-d2303a80087f",
   "metadata": {},
   "outputs": [],
   "source": [
    "reviews_small = pd.concat([reviews_new[reviews_new['tri_class_score'] == 2][0:50], reviews_new[reviews_new['tri_class_score'] == 1][0:50], reviews_new[reviews_new['tri_class_score'] == 0][0:50]])"
   ]
  },
  {
   "cell_type": "code",
   "execution_count": 98,
   "id": "b02983e1-e17f-4742-a121-41956acf065b",
   "metadata": {},
   "outputs": [],
   "source": [
    "reviews_small.to_csv('reviews_small.csv')"
   ]
  },
  {
   "cell_type": "code",
   "execution_count": 105,
   "id": "2e100511-e515-49ce-a15c-b1100d0a223e",
   "metadata": {},
   "outputs": [
    {
     "data": {
      "text/html": [
       "<div>\n",
       "<style scoped>\n",
       "    .dataframe tbody tr th:only-of-type {\n",
       "        vertical-align: middle;\n",
       "    }\n",
       "\n",
       "    .dataframe tbody tr th {\n",
       "        vertical-align: top;\n",
       "    }\n",
       "\n",
       "    .dataframe thead th {\n",
       "        text-align: right;\n",
       "    }\n",
       "</style>\n",
       "<table border=\"1\" class=\"dataframe\">\n",
       "  <thead>\n",
       "    <tr style=\"text-align: right;\">\n",
       "      <th></th>\n",
       "      <th>Unnamed: 0</th>\n",
       "      <th>Text_SWR</th>\n",
       "      <th>tri_class_score</th>\n",
       "    </tr>\n",
       "  </thead>\n",
       "  <tbody>\n",
       "    <tr>\n",
       "      <th>0</th>\n",
       "      <td>0</td>\n",
       "      <td>june saw charming group roses begin droop pepp...</td>\n",
       "      <td>2</td>\n",
       "    </tr>\n",
       "    <tr>\n",
       "      <th>1</th>\n",
       "      <td>1</td>\n",
       "      <td>fun way children learn months year learn poems...</td>\n",
       "      <td>2</td>\n",
       "    </tr>\n",
       "    <tr>\n",
       "      <th>2</th>\n",
       "      <td>2</td>\n",
       "      <td>grew reading sendak books watching really rosi...</td>\n",
       "      <td>2</td>\n",
       "    </tr>\n",
       "    <tr>\n",
       "      <th>3</th>\n",
       "      <td>3</td>\n",
       "      <td>get movie sound track sing along carol king gr...</td>\n",
       "      <td>2</td>\n",
       "    </tr>\n",
       "    <tr>\n",
       "      <th>4</th>\n",
       "      <td>4</td>\n",
       "      <td>entertaining rhyming storycleaver catchythe il...</td>\n",
       "      <td>2</td>\n",
       "    </tr>\n",
       "    <tr>\n",
       "      <th>...</th>\n",
       "      <td>...</td>\n",
       "      <td>...</td>\n",
       "      <td>...</td>\n",
       "    </tr>\n",
       "    <tr>\n",
       "      <th>145</th>\n",
       "      <td>442</td>\n",
       "      <td>review dvd release thus far september release ...</td>\n",
       "      <td>0</td>\n",
       "    </tr>\n",
       "    <tr>\n",
       "      <th>146</th>\n",
       "      <td>443</td>\n",
       "      <td>one star refers called anniversary deluxe edit...</td>\n",
       "      <td>0</td>\n",
       "    </tr>\n",
       "    <tr>\n",
       "      <th>147</th>\n",
       "      <td>445</td>\n",
       "      <td>debbie lee wesserman claims casting movie perf...</td>\n",
       "      <td>0</td>\n",
       "    </tr>\n",
       "    <tr>\n",
       "      <th>148</th>\n",
       "      <td>449</td>\n",
       "      <td>beatle juice dvd purchase not work not able wa...</td>\n",
       "      <td>0</td>\n",
       "    </tr>\n",
       "    <tr>\n",
       "      <th>149</th>\n",
       "      <td>451</td>\n",
       "      <td>not find movie entertaining not huge fan tim b...</td>\n",
       "      <td>0</td>\n",
       "    </tr>\n",
       "  </tbody>\n",
       "</table>\n",
       "<p>150 rows × 3 columns</p>\n",
       "</div>"
      ],
      "text/plain": [
       "     Unnamed: 0                                           Text_SWR  \\\n",
       "0             0  june saw charming group roses begin droop pepp...   \n",
       "1             1  fun way children learn months year learn poems...   \n",
       "2             2  grew reading sendak books watching really rosi...   \n",
       "3             3  get movie sound track sing along carol king gr...   \n",
       "4             4  entertaining rhyming storycleaver catchythe il...   \n",
       "..          ...                                                ...   \n",
       "145         442  review dvd release thus far september release ...   \n",
       "146         443  one star refers called anniversary deluxe edit...   \n",
       "147         445  debbie lee wesserman claims casting movie perf...   \n",
       "148         449  beatle juice dvd purchase not work not able wa...   \n",
       "149         451  not find movie entertaining not huge fan tim b...   \n",
       "\n",
       "     tri_class_score  \n",
       "0                  2  \n",
       "1                  2  \n",
       "2                  2  \n",
       "3                  2  \n",
       "4                  2  \n",
       "..               ...  \n",
       "145                0  \n",
       "146                0  \n",
       "147                0  \n",
       "148                0  \n",
       "149                0  \n",
       "\n",
       "[150 rows x 3 columns]"
      ]
     },
     "execution_count": 105,
     "metadata": {},
     "output_type": "execute_result"
    }
   ],
   "source": [
    "sample"
   ]
  },
  {
   "cell_type": "code",
   "execution_count": 103,
   "id": "97d42bda-27ed-421f-aa07-6c1eaf8e8523",
   "metadata": {},
   "outputs": [],
   "source": [
    "csv_path = 'reviews_small.csv'\n",
    "sample = pd.read_csv(csv_path)"
   ]
  },
  {
   "cell_type": "code",
   "execution_count": 104,
   "id": "1a809743-14df-4179-a818-e82abefd7c5f",
   "metadata": {},
   "outputs": [
    {
     "name": "stdout",
     "output_type": "stream",
     "text": [
      "0.7333333333333333\n",
      "              precision    recall  f1-score   support\n",
      "\n",
      "           0       0.73      0.73      0.73        15\n",
      "           1       0.71      0.67      0.69        18\n",
      "           2       0.77      0.83      0.80        12\n",
      "\n",
      "    accuracy                           0.73        45\n",
      "   macro avg       0.74      0.74      0.74        45\n",
      "weighted avg       0.73      0.73      0.73        45\n",
      "\n"
     ]
    }
   ],
   "source": [
    "# Define training datat and labels\n",
    "X = sample['Text_SWR']\n",
    "y = sample['tri_class_score']\n",
    "\n",
    "# Split the new DataFrame into training and testing sets.\n",
    "X_train, X_test, y_train, y_test = train_test_split(X, y, test_size=0.30 ,random_state=99)\n",
    "\n",
    "# Use CountVectorizer to convert reviews into matrices\n",
    "vect = CountVectorizer()\n",
    "X_train_dtm = vect.fit_transform(X_train)\n",
    "\n",
    "# Perform the same in test\n",
    "X_test_dtm = vect.transform(X_test)\n",
    "\n",
    "# Use Naive Bayes to predict binary score\n",
    "nb = MultinomialNB()\n",
    "nb.fit(X_train_dtm, y_train)\n",
    "y_pred_class = nb.predict(X_test_dtm)\n",
    "\n",
    "# Calculate accuracy.\n",
    "print((metrics.accuracy_score(y_test, y_pred_class)))\n",
    "\n",
    "print(classification_report(y_test, y_pred_class))"
   ]
  },
  {
   "cell_type": "markdown",
   "id": "a8f17bb5-296a-48ae-a5a3-1d2fd06a7352",
   "metadata": {},
   "source": [
    "## Prepare small RAW set for Azure"
   ]
  },
  {
   "cell_type": "code",
   "execution_count": 107,
   "id": "b624fc5f-3471-4aa2-a571-808e840ea8d9",
   "metadata": {},
   "outputs": [],
   "source": [
    "# Read cleant data\n",
    "csv_path = 'cleant_data.csv'\n",
    "reviews_cleant = pd.read_csv(csv_path)"
   ]
  },
  {
   "cell_type": "code",
   "execution_count": 109,
   "id": "8d73ed96-fa77-4ec2-b670-33f327fab7e9",
   "metadata": {},
   "outputs": [
    {
     "data": {
      "text/plain": [
       "Index(['Unnamed: 0', 'Id', 'ProductId', 'UserId', 'ProfileName',\n",
       "       'HelpfulnessNumerator', 'HelpfulnessDenominator', 'Score', 'Time',\n",
       "       'Summary', 'Text', 'DateTime', 'Popularity', 'Year', 'binary_score',\n",
       "       'CleantText', 'Text_SWR'],\n",
       "      dtype='object')"
      ]
     },
     "execution_count": 109,
     "metadata": {},
     "output_type": "execute_result"
    }
   ],
   "source": [
    "reviews_cleant.columns"
   ]
  },
  {
   "cell_type": "code",
   "execution_count": 112,
   "id": "efba0d16-3b7b-4efa-9fa0-eae0a8fbcabd",
   "metadata": {},
   "outputs": [],
   "source": [
    "reviews_cleant.drop(['Unnamed: 0', 'Id', 'ProductId', 'UserId', 'ProfileName',\n",
    "       'HelpfulnessNumerator', 'HelpfulnessDenominator', 'Time',\n",
    "       'Summary', 'DateTime', 'Popularity', 'Year', 'binary_score',\n",
    "       'CleantText', 'Text_SWR'], axis=1, inplace=True)"
   ]
  },
  {
   "cell_type": "code",
   "execution_count": 114,
   "id": "9a4a2ad8-172a-4b20-b851-657ecdfd4bba",
   "metadata": {},
   "outputs": [],
   "source": [
    "reviews_cleant.dropna(inplace=True)\n",
    "reviews_cleant['tri_class_score'] = 0\n",
    "\n",
    "reviews_cleant.loc[reviews_cleant['Score'] > 3,'tri_class_score'] = 2 # pos\n",
    "reviews_cleant.loc[reviews_cleant['Score'] == 3,'tri_class_score'] = 1 # mix\n",
    "reviews_cleant.loc[reviews_cleant['Score'] < 3,'tri_class_score'] = 0 # neg"
   ]
  },
  {
   "cell_type": "code",
   "execution_count": 116,
   "id": "19a2d735-6d5e-41b2-9d20-f1dde6cf47f2",
   "metadata": {},
   "outputs": [],
   "source": [
    "reviews_small_raw = pd.concat([reviews_cleant[reviews_cleant['tri_class_score'] == 2][0:50], reviews_cleant[reviews_cleant['tri_class_score'] == 1][0:50], reviews_cleant[reviews_cleant['tri_class_score'] == 0][0:50]])"
   ]
  },
  {
   "cell_type": "code",
   "execution_count": 119,
   "id": "e46f109a-5d9e-4450-9fbe-e3d187364572",
   "metadata": {},
   "outputs": [],
   "source": [
    "reviews_small_raw.drop(['Score'], axis=1, inplace=True)"
   ]
  },
  {
   "cell_type": "code",
   "execution_count": 120,
   "id": "a3a92686-6a7b-4f61-9fa9-b6979af5c4c6",
   "metadata": {},
   "outputs": [
    {
     "data": {
      "text/html": [
       "<div>\n",
       "<style scoped>\n",
       "    .dataframe tbody tr th:only-of-type {\n",
       "        vertical-align: middle;\n",
       "    }\n",
       "\n",
       "    .dataframe tbody tr th {\n",
       "        vertical-align: top;\n",
       "    }\n",
       "\n",
       "    .dataframe thead th {\n",
       "        text-align: right;\n",
       "    }\n",
       "</style>\n",
       "<table border=\"1\" class=\"dataframe\">\n",
       "  <thead>\n",
       "    <tr style=\"text-align: right;\">\n",
       "      <th></th>\n",
       "      <th>Text</th>\n",
       "      <th>tri_class_score</th>\n",
       "    </tr>\n",
       "  </thead>\n",
       "  <tbody>\n",
       "    <tr>\n",
       "      <th>0</th>\n",
       "      <td>In June&lt;br /&gt;I saw a charming group&lt;br /&gt;of ro...</td>\n",
       "      <td>2</td>\n",
       "    </tr>\n",
       "    <tr>\n",
       "      <th>1</th>\n",
       "      <td>This is a fun way for children to learn their ...</td>\n",
       "      <td>2</td>\n",
       "    </tr>\n",
       "    <tr>\n",
       "      <th>2</th>\n",
       "      <td>I grew up reading these Sendak books, and watc...</td>\n",
       "      <td>2</td>\n",
       "    </tr>\n",
       "    <tr>\n",
       "      <th>3</th>\n",
       "      <td>Get the movie or sound track and sing along wi...</td>\n",
       "      <td>2</td>\n",
       "    </tr>\n",
       "    <tr>\n",
       "      <th>4</th>\n",
       "      <td>A very entertaining rhyming story--cleaver and...</td>\n",
       "      <td>2</td>\n",
       "    </tr>\n",
       "    <tr>\n",
       "      <th>...</th>\n",
       "      <td>...</td>\n",
       "      <td>...</td>\n",
       "    </tr>\n",
       "    <tr>\n",
       "      <th>442</th>\n",
       "      <td>This is a review of the 1997 DVD release- thus...</td>\n",
       "      <td>0</td>\n",
       "    </tr>\n",
       "    <tr>\n",
       "      <th>443</th>\n",
       "      <td>My one-star refers to this so-called \"20th Ann...</td>\n",
       "      <td>0</td>\n",
       "    </tr>\n",
       "    <tr>\n",
       "      <th>445</th>\n",
       "      <td>Debbie Lee Wesserman claims that \"the casting ...</td>\n",
       "      <td>0</td>\n",
       "    </tr>\n",
       "    <tr>\n",
       "      <th>449</th>\n",
       "      <td>The Beatle juice DVD I purchase did not work. ...</td>\n",
       "      <td>0</td>\n",
       "    </tr>\n",
       "    <tr>\n",
       "      <th>451</th>\n",
       "      <td>I did not find this movie at all entertaining....</td>\n",
       "      <td>0</td>\n",
       "    </tr>\n",
       "  </tbody>\n",
       "</table>\n",
       "<p>150 rows × 2 columns</p>\n",
       "</div>"
      ],
      "text/plain": [
       "                                                  Text  tri_class_score\n",
       "0    In June<br />I saw a charming group<br />of ro...                2\n",
       "1    This is a fun way for children to learn their ...                2\n",
       "2    I grew up reading these Sendak books, and watc...                2\n",
       "3    Get the movie or sound track and sing along wi...                2\n",
       "4    A very entertaining rhyming story--cleaver and...                2\n",
       "..                                                 ...              ...\n",
       "442  This is a review of the 1997 DVD release- thus...                0\n",
       "443  My one-star refers to this so-called \"20th Ann...                0\n",
       "445  Debbie Lee Wesserman claims that \"the casting ...                0\n",
       "449  The Beatle juice DVD I purchase did not work. ...                0\n",
       "451  I did not find this movie at all entertaining....                0\n",
       "\n",
       "[150 rows x 2 columns]"
      ]
     },
     "execution_count": 120,
     "metadata": {},
     "output_type": "execute_result"
    }
   ],
   "source": [
    "reviews_small_raw"
   ]
  },
  {
   "cell_type": "code",
   "execution_count": 122,
   "id": "f9dd6617-9110-4c40-969a-0bccf5021e53",
   "metadata": {},
   "outputs": [],
   "source": [
    "reviews_small_raw.to_csv('reviews_small_raw.csv')"
   ]
  },
  {
   "cell_type": "code",
   "execution_count": 125,
   "id": "19c827f6-9c41-4d55-9ef8-11e33a703ef3",
   "metadata": {},
   "outputs": [
    {
     "data": {
      "text/plain": [
       "2    50\n",
       "1    50\n",
       "0    50\n",
       "Name: tri_class_score, dtype: int64"
      ]
     },
     "execution_count": 125,
     "metadata": {},
     "output_type": "execute_result"
    }
   ],
   "source": [
    "csv_path = 'reviews_small_raw.csv'\n",
    "rs_raw = pd.read_csv(csv_path)\n",
    "rs_raw.tri_class_score.value_counts()"
   ]
  },
  {
   "cell_type": "code",
   "execution_count": 132,
   "id": "346cbe88-a691-4088-8360-e0c5f2a02a8d",
   "metadata": {},
   "outputs": [],
   "source": [
    "rs_raw['Clean_Text'] = rs_raw['Text'].apply(lambda x:prepare_text(x))"
   ]
  },
  {
   "cell_type": "code",
   "execution_count": 137,
   "id": "78876692-fa1c-406d-ba48-98de3eb7dc35",
   "metadata": {
    "scrolled": true
   },
   "outputs": [
    {
     "data": {
      "text/html": [
       "<div>\n",
       "<style scoped>\n",
       "    .dataframe tbody tr th:only-of-type {\n",
       "        vertical-align: middle;\n",
       "    }\n",
       "\n",
       "    .dataframe tbody tr th {\n",
       "        vertical-align: top;\n",
       "    }\n",
       "\n",
       "    .dataframe thead th {\n",
       "        text-align: right;\n",
       "    }\n",
       "</style>\n",
       "<table border=\"1\" class=\"dataframe\">\n",
       "  <thead>\n",
       "    <tr style=\"text-align: right;\">\n",
       "      <th></th>\n",
       "      <th>Unnamed: 0</th>\n",
       "      <th>Text</th>\n",
       "      <th>tri_class_score</th>\n",
       "      <th>Clean_Text</th>\n",
       "    </tr>\n",
       "  </thead>\n",
       "  <tbody>\n",
       "    <tr>\n",
       "      <th>0</th>\n",
       "      <td>0</td>\n",
       "      <td>In June&lt;br /&gt;I saw a charming group&lt;br /&gt;of ro...</td>\n",
       "      <td>2</td>\n",
       "      <td>june saw charming group roses begin droop pepp...</td>\n",
       "    </tr>\n",
       "    <tr>\n",
       "      <th>1</th>\n",
       "      <td>1</td>\n",
       "      <td>This is a fun way for children to learn their ...</td>\n",
       "      <td>2</td>\n",
       "      <td>fun way children learn months year learn poems...</td>\n",
       "    </tr>\n",
       "    <tr>\n",
       "      <th>2</th>\n",
       "      <td>2</td>\n",
       "      <td>I grew up reading these Sendak books, and watc...</td>\n",
       "      <td>2</td>\n",
       "      <td>grew reading sendak books watching really rosi...</td>\n",
       "    </tr>\n",
       "    <tr>\n",
       "      <th>3</th>\n",
       "      <td>3</td>\n",
       "      <td>Get the movie or sound track and sing along wi...</td>\n",
       "      <td>2</td>\n",
       "      <td>get movie sound track sing along carol king gr...</td>\n",
       "    </tr>\n",
       "    <tr>\n",
       "      <th>4</th>\n",
       "      <td>4</td>\n",
       "      <td>A very entertaining rhyming story--cleaver and...</td>\n",
       "      <td>2</td>\n",
       "      <td>entertaining rhyming storycleaver catchythe il...</td>\n",
       "    </tr>\n",
       "    <tr>\n",
       "      <th>...</th>\n",
       "      <td>...</td>\n",
       "      <td>...</td>\n",
       "      <td>...</td>\n",
       "      <td>...</td>\n",
       "    </tr>\n",
       "    <tr>\n",
       "      <th>145</th>\n",
       "      <td>442</td>\n",
       "      <td>This is a review of the 1997 DVD release- thus...</td>\n",
       "      <td>0</td>\n",
       "      <td>review dvd release thus far september release ...</td>\n",
       "    </tr>\n",
       "    <tr>\n",
       "      <th>146</th>\n",
       "      <td>443</td>\n",
       "      <td>My one-star refers to this so-called \"20th Ann...</td>\n",
       "      <td>0</td>\n",
       "      <td>one star refers called anniversary deluxe edit...</td>\n",
       "    </tr>\n",
       "    <tr>\n",
       "      <th>147</th>\n",
       "      <td>445</td>\n",
       "      <td>Debbie Lee Wesserman claims that \"the casting ...</td>\n",
       "      <td>0</td>\n",
       "      <td>debbie lee wesserman claims casting movie perf...</td>\n",
       "    </tr>\n",
       "    <tr>\n",
       "      <th>148</th>\n",
       "      <td>449</td>\n",
       "      <td>The Beatle juice DVD I purchase did not work. ...</td>\n",
       "      <td>0</td>\n",
       "      <td>beatle juice dvd purchase not work not able wa...</td>\n",
       "    </tr>\n",
       "    <tr>\n",
       "      <th>149</th>\n",
       "      <td>451</td>\n",
       "      <td>I did not find this movie at all entertaining....</td>\n",
       "      <td>0</td>\n",
       "      <td>not find movie entertaining not huge fan tim b...</td>\n",
       "    </tr>\n",
       "  </tbody>\n",
       "</table>\n",
       "<p>150 rows × 4 columns</p>\n",
       "</div>"
      ],
      "text/plain": [
       "     Unnamed: 0                                               Text  \\\n",
       "0             0  In June<br />I saw a charming group<br />of ro...   \n",
       "1             1  This is a fun way for children to learn their ...   \n",
       "2             2  I grew up reading these Sendak books, and watc...   \n",
       "3             3  Get the movie or sound track and sing along wi...   \n",
       "4             4  A very entertaining rhyming story--cleaver and...   \n",
       "..          ...                                                ...   \n",
       "145         442  This is a review of the 1997 DVD release- thus...   \n",
       "146         443  My one-star refers to this so-called \"20th Ann...   \n",
       "147         445  Debbie Lee Wesserman claims that \"the casting ...   \n",
       "148         449  The Beatle juice DVD I purchase did not work. ...   \n",
       "149         451  I did not find this movie at all entertaining....   \n",
       "\n",
       "     tri_class_score                                         Clean_Text  \n",
       "0                  2  june saw charming group roses begin droop pepp...  \n",
       "1                  2  fun way children learn months year learn poems...  \n",
       "2                  2  grew reading sendak books watching really rosi...  \n",
       "3                  2  get movie sound track sing along carol king gr...  \n",
       "4                  2  entertaining rhyming storycleaver catchythe il...  \n",
       "..               ...                                                ...  \n",
       "145                0  review dvd release thus far september release ...  \n",
       "146                0  one star refers called anniversary deluxe edit...  \n",
       "147                0  debbie lee wesserman claims casting movie perf...  \n",
       "148                0  beatle juice dvd purchase not work not able wa...  \n",
       "149                0  not find movie entertaining not huge fan tim b...  \n",
       "\n",
       "[150 rows x 4 columns]"
      ]
     },
     "execution_count": 137,
     "metadata": {},
     "output_type": "execute_result"
    }
   ],
   "source": [
    "rs_raw"
   ]
  },
  {
   "cell_type": "code",
   "execution_count": 161,
   "id": "cc5fe224-a725-4106-99b3-d688da2bc6cd",
   "metadata": {},
   "outputs": [
    {
     "data": {
      "text/html": [
       "<div>\n",
       "<style scoped>\n",
       "    .dataframe tbody tr th:only-of-type {\n",
       "        vertical-align: middle;\n",
       "    }\n",
       "\n",
       "    .dataframe tbody tr th {\n",
       "        vertical-align: top;\n",
       "    }\n",
       "\n",
       "    .dataframe thead th {\n",
       "        text-align: right;\n",
       "    }\n",
       "</style>\n",
       "<table border=\"1\" class=\"dataframe\">\n",
       "  <thead>\n",
       "    <tr style=\"text-align: right;\">\n",
       "      <th></th>\n",
       "      <th>tri_class_score</th>\n",
       "      <th>Text_SWR</th>\n",
       "    </tr>\n",
       "  </thead>\n",
       "  <tbody>\n",
       "    <tr>\n",
       "      <th>0</th>\n",
       "      <td>2</td>\n",
       "      <td>june saw charm group rose begin droop pep chic...</td>\n",
       "    </tr>\n",
       "    <tr>\n",
       "      <th>1</th>\n",
       "      <td>2</td>\n",
       "      <td>fun way child learn month year learn poem thro...</td>\n",
       "    </tr>\n",
       "    <tr>\n",
       "      <th>2</th>\n",
       "      <td>2</td>\n",
       "      <td>grew read sendak book watch realli rosi movi i...</td>\n",
       "    </tr>\n",
       "    <tr>\n",
       "      <th>3</th>\n",
       "      <td>2</td>\n",
       "      <td>get movi sound track sing along carol king gre...</td>\n",
       "    </tr>\n",
       "    <tr>\n",
       "      <th>4</th>\n",
       "      <td>2</td>\n",
       "      <td>entertain rhyme storycleav catchyth illustr im...</td>\n",
       "    </tr>\n",
       "    <tr>\n",
       "      <th>...</th>\n",
       "      <td>...</td>\n",
       "      <td>...</td>\n",
       "    </tr>\n",
       "    <tr>\n",
       "      <th>145</th>\n",
       "      <td>0</td>\n",
       "      <td>review dvd releas thus far septemb releas know...</td>\n",
       "    </tr>\n",
       "    <tr>\n",
       "      <th>146</th>\n",
       "      <td>0</td>\n",
       "      <td>one star refer call anniversari delux edit hil...</td>\n",
       "    </tr>\n",
       "    <tr>\n",
       "      <th>147</th>\n",
       "      <td>0</td>\n",
       "      <td>debbi lee wesserman claim cast movi perfect al...</td>\n",
       "    </tr>\n",
       "    <tr>\n",
       "      <th>148</th>\n",
       "      <td>0</td>\n",
       "      <td>beatl juic dvd purchas not work not abl watch ...</td>\n",
       "    </tr>\n",
       "    <tr>\n",
       "      <th>149</th>\n",
       "      <td>0</td>\n",
       "      <td>not find movi entertain not huge fan tim burto...</td>\n",
       "    </tr>\n",
       "  </tbody>\n",
       "</table>\n",
       "<p>150 rows × 2 columns</p>\n",
       "</div>"
      ],
      "text/plain": [
       "     tri_class_score                                           Text_SWR\n",
       "0                  2  june saw charm group rose begin droop pep chic...\n",
       "1                  2  fun way child learn month year learn poem thro...\n",
       "2                  2  grew read sendak book watch realli rosi movi i...\n",
       "3                  2  get movi sound track sing along carol king gre...\n",
       "4                  2  entertain rhyme storycleav catchyth illustr im...\n",
       "..               ...                                                ...\n",
       "145                0  review dvd releas thus far septemb releas know...\n",
       "146                0  one star refer call anniversari delux edit hil...\n",
       "147                0  debbi lee wesserman claim cast movi perfect al...\n",
       "148                0  beatl juic dvd purchas not work not abl watch ...\n",
       "149                0  not find movi entertain not huge fan tim burto...\n",
       "\n",
       "[150 rows x 2 columns]"
      ]
     },
     "execution_count": 161,
     "metadata": {},
     "output_type": "execute_result"
    }
   ],
   "source": [
    "csv_path = 'reviews_small_raw.csv'\n",
    "rs_raw = pd.read_csv(csv_path)\n",
    "\n",
    "# Preprocessing and tokenization functions\n",
    "import re\n",
    "import nltk\n",
    "from nltk.tokenize import RegexpTokenizer \n",
    "from nltk.stem import WordNetLemmatizer,PorterStemmer, SnowballStemmer\n",
    "from nltk.corpus import stopwords\n",
    "from nltk.stem import WordNetLemmatizer,PorterStemmer, SnowballStemmer\n",
    "\n",
    "lemmatizer = WordNetLemmatizer()\n",
    "stemmer = SnowballStemmer('english') \n",
    "\n",
    "#Removing the word 'not' from stopwords\n",
    "default_stopwords = set(stopwords.words('english'))\n",
    "#excluding some useful words from stop words list as we doing sentiment analysis\n",
    "excluding = set(['against','not','don', \"don't\",'ain', 'aren', \"aren't\", 'couldn', \"couldn't\", 'didn', \"didn't\",\n",
    "             'doesn', \"doesn't\", 'hadn', \"hadn't\", 'hasn', \"hasn't\", 'haven', \"haven't\", 'isn', \"isn't\", \n",
    "             'mightn', \"mightn't\", 'mustn', \"mustn't\", 'needn', \"needn't\",'shouldn', \"shouldn't\", 'wasn',\n",
    "             \"wasn't\", 'weren', \"weren't\", 'won', \"won't\", 'wouldn', \"wouldn't\"])\n",
    "\n",
    "custom_stopwords = default_stopwords - excluding\n",
    "\n",
    "def preprocess(sentence):\n",
    " \n",
    "    sentence = str(sentence)\n",
    "    sentence = sentence.lower()\n",
    "    # sentence = sentence.replace('{html}',\"\") \n",
    "    # For Regex Pattern Object\n",
    "    cleanr = re.compile(r'<\\s*[^>]*\\s*>')\n",
    "    cleantext = re.sub(cleanr, ' ', sentence)\n",
    "    rem_hyp = re.sub(r'(\\w+)-(\\w+)', r'\\1 \\2', cleantext)\n",
    "    rem_punc = re.sub(r'[^\\w\\s]', '', rem_hyp)\n",
    "    # re_clean = re.sub(r'[^a-z0-9A-Z_]',' ', cleantext)\n",
    "    rem_http = re.sub(r'http\\S+', '', rem_punc)\n",
    "    rem_url = re.sub(r\"www.\\S+\", \" \", rem_http)\n",
    "    rem_pat = re.sub(\"\\s*\\b(?=\\w*(\\w)\\1{2,})\\w*\\b\",' ', rem_url)\n",
    "    rem_num = re.sub('[0-9]+', '', rem_pat)\n",
    "\n",
    "    return rem_num\n",
    "\n",
    "def tokenize_data(text):\n",
    "    \n",
    "    tokenizer = RegexpTokenizer(r'\\w+')\n",
    "    tokens = tokenizer.tokenize(text)  \n",
    "    return tokens\n",
    "\n",
    "def remove_stop_words(cleant_text):\n",
    "    \n",
    "    tokens = tokenize_data(cleant_text)\n",
    "    filtered_words = [w for w in tokens if len(w) > 2 if not w in custom_stopwords]\n",
    "    stem_words = [stemmer.stem(w) for w in filtered_words]\n",
    "    lemma_words = [lemmatizer.lemmatize(w) for w in stem_words]\n",
    "    \n",
    "    return \" \".join(lemma_words)\n",
    "\n",
    "def prepare_text(text):\n",
    "    \n",
    "    cleant_text = preprocess(text)\n",
    "    remove_sw = remove_stop_words(cleant_text)\n",
    "\n",
    "    return remove_sw\n",
    "\n",
    "rs_raw['Text_SWR'] = rs_raw['Text'].apply(lambda x:prepare_text(x))\n",
    "rs_raw.drop(['Unnamed: 0', 'Text'], axis=1, inplace=True)\n",
    "\n",
    "print(rs_raw)"
   ]
  },
  {
   "cell_type": "code",
   "execution_count": 162,
   "id": "8d9428e2-229c-495e-b7d5-2256ca81c653",
   "metadata": {},
   "outputs": [
    {
     "name": "stdout",
     "output_type": "stream",
     "text": [
      "     tri_class_score                                           Text_SWR\n",
      "0                  2  june saw charm group rose begin droop pep chic...\n",
      "1                  2  fun way child learn month year learn poem thro...\n",
      "2                  2  grew read sendak book watch realli rosi movi i...\n",
      "3                  2  get movi sound track sing along carol king gre...\n",
      "4                  2  entertain rhyme storycleav catchyth illustr im...\n",
      "..               ...                                                ...\n",
      "145                0  review dvd releas thus far septemb releas know...\n",
      "146                0  one star refer call anniversari delux edit hil...\n",
      "147                0  debbi lee wesserman claim cast movi perfect al...\n",
      "148                0  beatl juic dvd purchas not work not abl watch ...\n",
      "149                0  not find movi entertain not huge fan tim burto...\n",
      "\n",
      "[150 rows x 2 columns]\n"
     ]
    }
   ],
   "source": [
    "print(rs_raw)"
   ]
  },
  {
   "cell_type": "code",
   "execution_count": 163,
   "id": "7aa61164-cae5-4853-bee9-353a69bd4e6c",
   "metadata": {},
   "outputs": [
    {
     "name": "stdout",
     "output_type": "stream",
     "text": [
      "3.8.1\n"
     ]
    }
   ],
   "source": [
    "print(nltk.__version__)"
   ]
  },
  {
   "cell_type": "code",
   "execution_count": 164,
   "id": "60e99717-25bc-4123-bd67-e7b5cdd91a04",
   "metadata": {},
   "outputs": [
    {
     "name": "stdout",
     "output_type": "stream",
     "text": [
      "[\n",
      "  {\n",
      "    \"cloudName\": \"AzureCloud\",\n",
      "    \"homeTenantId\": \"cf36141c-ddd7-45a7-b073-111f66d0b30c\",\n",
      "    \"id\": \"235cc5b8-77c0-4b3c-9730-9c2a83f8400b\",\n",
      "    \"isDefault\": false,\n",
      "    \"managedByTenants\": [],\n",
      "    \"name\": \"Visual Studio Professional Subscription\",\n",
      "    \"state\": \"Enabled\",\n",
      "    \"tenantId\": \"cf36141c-ddd7-45a7-b073-111f66d0b30c\",\n",
      "    \"user\": {\n",
      "      \"name\": \"jordi.burgues.miro@avanade.com\",\n",
      "      \"type\": \"user\"\n",
      "    }\n",
      "  },\n",
      "  {\n",
      "    \"cloudName\": \"AzureCloud\",\n",
      "    \"homeTenantId\": \"cf36141c-ddd7-45a7-b073-111f66d0b30c\",\n",
      "    \"id\": \"bec89544-8dd5-4d70-b6ae-422c8feb0a4a\",\n",
      "    \"isDefault\": true,\n",
      "    \"managedByTenants\": [],\n",
      "    \"name\": \"Visual Studio Enterprise Subscription\",\n",
      "    \"state\": \"Enabled\",\n",
      "    \"tenantId\": \"cf36141c-ddd7-45a7-b073-111f66d0b30c\",\n",
      "    \"user\": {\n",
      "      \"name\": \"jordi.burgues.miro@avanade.com\",\n",
      "      \"type\": \"user\"\n",
      "    }\n",
      "  }\n",
      "]\n"
     ]
    },
    {
     "name": "stderr",
     "output_type": "stream",
     "text": [
      "WARNING: A web browser has been opened at https://login.microsoftonline.com/organizations/oauth2/v2.0/authorize. Please continue the login in the web browser. If no web browser is available or if the web browser fails to open, use device code flow with `az login --use-device-code`.\n"
     ]
    }
   ],
   "source": [
    "!az login"
   ]
  },
  {
   "cell_type": "code",
   "execution_count": 167,
   "id": "abf99689-929e-44ee-84c1-da675a78b2bb",
   "metadata": {},
   "outputs": [
    {
     "name": "stderr",
     "output_type": "stream",
     "text": [
      "ERROR: 'environment' is misspelled or not recognized by the system.\n",
      "\n",
      "Examples from AI knowledge base:\n",
      "https://aka.ms/cli_ref\n",
      "Read more about the command in reference docs\n",
      "WARNING: The command requires the extension devcenter. It will be installed first.\n",
      "WARNING: Default enabled including preview versions for extension installation now. Disabled in May 2024. Use '--allow-preview true' to enable it specifically if needed. Use '--allow-preview false' to install stable version only. \n",
      "ERROR: the following arguments are required: --project/--project-name\n",
      "\n",
      "Examples from AI knowledge base:\n",
      "az devcenter dev environment list --dev-center-name \"ContosoDevCenter\" --project-name \"DevProject\"\n",
      "List by project using dev center\n",
      "\n",
      "az devcenter dev environment list --endpoint \"https://8a40af38-3b4c-4672-a6a4-5e964b1870ed-contosodevcenter.centralus.devcenter.azure.com/\" --project-name \"DevProject\"\n",
      "List by project using endpoint\n",
      "\n",
      "az devcenter dev environment list --dev-center-name \"ContosoDevCenter\" --project-name \"DevProject\" --user-id \"00000000-0000-0000-0000-000000000000\"\n",
      "List by user and project using dev center\n",
      "\n",
      "https://aka.ms/cli_ref\n",
      "Read more about the command in reference docs\n"
     ]
    }
   ],
   "source": [
    "!az environment list"
   ]
  },
  {
   "cell_type": "code",
   "execution_count": 169,
   "id": "8c866676-638e-4f16-b6a2-f193b0329b8d",
   "metadata": {},
   "outputs": [],
   "source": [
    "from azure.ai.ml import MLClient\n",
    "from azure.identity import DefaultAzureCredential\n",
    "\n",
    "# authenticate\n",
    "credential = DefaultAzureCredential()\n",
    "# # Get a handle to the workspace\n",
    "ml_client = MLClient(\n",
    "    credential=credential,\n",
    "    subscription_id=\"bec89544-8dd5-4d70-b6ae-422c8feb0a4a\",\n",
    "    resource_group_name=\"capsproj\",\n",
    "    workspace_name=\"capstoneproj\",\n",
    ")"
   ]
  },
  {
   "cell_type": "code",
   "execution_count": 172,
   "id": "307dc19a-a0b6-4192-a787-2c1cf6f9e330",
   "metadata": {},
   "outputs": [
    {
     "name": "stdout",
     "output_type": "stream",
     "text": [
      "Environment with name our-env-custom-2 is registered to workspace, the environment version is 1\n"
     ]
    }
   ],
   "source": [
    "from azure.ai.ml.entities import Environment # Week 3 - Day 2\n",
    "\n",
    "custom_env_name = \"our-env-custom-2\"\n",
    "\n",
    "custom_job_env = Environment(\n",
    "    name=custom_env_name,\n",
    "    description=\"Custom environment for Capstone Project 2\",\n",
    "    tags={\"scikit-learn\": \"0.24.2\"},\n",
    "    conda_file=\"conda.yml\",\n",
    "    image=\"mcr.microsoft.com/azureml/openmpi3.1.2-ubuntu18.04:latest\",\n",
    ")\n",
    "custom_job_env = ml_client.environments.create_or_update(custom_job_env)\n",
    "\n",
    "print(\n",
    "    f\"Environment with name {custom_job_env.name} is registered to workspace, the environment version is {custom_job_env.version}\"\n",
    ")"
   ]
  },
  {
   "cell_type": "code",
   "execution_count": 171,
   "id": "54d9e86b-6154-460e-8806-fd08976e1feb",
   "metadata": {},
   "outputs": [
    {
     "name": "stdout",
     "output_type": "stream",
     "text": [
      "1.5.3\n"
     ]
    }
   ],
   "source": [
    "print(pd.__version__)"
   ]
  },
  {
   "cell_type": "code",
   "execution_count": null,
   "id": "6303be9c-c8e3-4bff-aad1-629b1865f9c0",
   "metadata": {},
   "outputs": [],
   "source": []
  }
 ],
 "metadata": {
  "kernelspec": {
   "display_name": "Python 3 (ipykernel)",
   "language": "python",
   "name": "python3"
  },
  "language_info": {
   "codemirror_mode": {
    "name": "ipython",
    "version": 3
   },
   "file_extension": ".py",
   "mimetype": "text/x-python",
   "name": "python",
   "nbconvert_exporter": "python",
   "pygments_lexer": "ipython3",
   "version": "3.9.18"
  }
 },
 "nbformat": 4,
 "nbformat_minor": 5
}
